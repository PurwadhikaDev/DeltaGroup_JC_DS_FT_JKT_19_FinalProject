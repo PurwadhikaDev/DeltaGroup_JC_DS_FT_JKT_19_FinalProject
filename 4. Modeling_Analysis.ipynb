{
 "cells": [
  {
   "cell_type": "markdown",
   "id": "92494c12",
   "metadata": {
    "id": "92494c12"
   },
   "source": [
    "# Modeling\n",
    "Pada tahapan ini, kita akan melakukan modeling menggunakan algoritma machine learning berdasarkan hasil RFM Analysis sebelumnya. Tujuan dari tahapan ini adalah untuk meningkatkan efektivitas dan efisiensi hasil yang telah didapatkan sebelumnya. Dengan menerapkan algoritma machine learning yang sesuai, diharapkan dapat menghasilkan segmentasi pelanggan yang lebih akurat dan dapat memberikan insight yang lebih baik untuk strategi bisnis ke depan."
   ]
  },
  {
   "cell_type": "code",
   "execution_count": null,
   "id": "c81de1ae",
   "metadata": {
    "ExecuteTime": {
     "end_time": "2023-05-12T13:36:14.309010Z",
     "start_time": "2023-05-12T13:35:53.395218Z"
    },
    "id": "c81de1ae"
   },
   "outputs": [],
   "source": [
    "# Import Libraries yang diperlukan\n",
    "import pandas as pd\n",
    "import numpy as np\n",
    "\n",
    "import matplotlib.pyplot as plt\n",
    "import plotly.express as px\n",
    "import plotly.graph_objects as go\n",
    "import plotly.io as pio\n",
    "from ipywidgets import interact, Dropdown\n",
    "\n",
    "from sklearn.preprocessing import RobustScaler, MinMaxScaler, StandardScaler\n",
    "from sklearn.cluster import KMeans\n",
    "from sklearn.metrics import silhouette_score"
   ]
  },
  {
   "cell_type": "code",
   "execution_count": null,
   "id": "3a025a3e",
   "metadata": {
    "ExecuteTime": {
     "end_time": "2023-05-12T13:36:15.173048Z",
     "start_time": "2023-05-12T13:36:14.311951Z"
    },
    "id": "3a025a3e"
   },
   "outputs": [],
   "source": [
    "df = pd.read_csv('3. feature_engineering.csv')\n",
    "rfm_df = pd.read_csv('3. rfm_df.csv')\n",
    "\n",
    "# feature = '/content/drive/MyDrive/Final Project Experiment/3. feature_engineering.csv'\n",
    "# df_rfm = '/content/drive/MyDrive/Final Project Experiment/3. rfm_df.csv'\n",
    "\n",
    "# df = pd.read_csv(feature)\n",
    "# rfm_df = pd.read_csv(df_rfm)"
   ]
  },
  {
   "cell_type": "code",
   "execution_count": null,
   "id": "49b8a71b",
   "metadata": {
    "ExecuteTime": {
     "end_time": "2023-05-12T13:36:15.283311Z",
     "start_time": "2023-05-12T13:36:15.176025Z"
    },
    "colab": {
     "base_uri": "https://localhost:8080/",
     "height": 270
    },
    "executionInfo": {
     "elapsed": 25,
     "status": "ok",
     "timestamp": 1683877268525,
     "user": {
      "displayName": "Muhammad Rafi",
      "userId": "02077341653276340637"
     },
     "user_tz": -420
    },
    "id": "49b8a71b",
    "outputId": "653d669c-4fe8-4297-87c3-5373f0e159cb",
    "scrolled": false
   },
   "outputs": [],
   "source": [
    "df.head()"
   ]
  },
  {
   "cell_type": "code",
   "execution_count": null,
   "id": "fb647551",
   "metadata": {
    "ExecuteTime": {
     "end_time": "2023-05-12T13:36:15.330202Z",
     "start_time": "2023-05-12T13:36:15.289296Z"
    },
    "colab": {
     "base_uri": "https://localhost:8080/",
     "height": 424
    },
    "executionInfo": {
     "elapsed": 22,
     "status": "ok",
     "timestamp": 1683877268526,
     "user": {
      "displayName": "Muhammad Rafi",
      "userId": "02077341653276340637"
     },
     "user_tz": -420
    },
    "id": "fb647551",
    "outputId": "bd42a988-0d00-4c48-f3f3-b055510a5108"
   },
   "outputs": [],
   "source": [
    "rfm_df"
   ]
  },
  {
   "cell_type": "markdown",
   "id": "2e45abb5",
   "metadata": {
    "id": "2e45abb5"
   },
   "source": [
    "## Data Preprocessing\n",
    "Sebelum membangun model machine learning, perlu dilakukan tahap Data Preprocessing. Dalam konteks unsupervised learning, jarak antar data sangat berpengaruh terhadap model yang dihasilkan. Oleh karena itu, perlu dilakukan scaling pada fitur-fitur yang akan digunakan agar memiliki skala yang sama dan tidak mempengaruhi hasil model."
   ]
  },
  {
   "cell_type": "code",
   "execution_count": null,
   "id": "222917a9",
   "metadata": {
    "ExecuteTime": {
     "end_time": "2023-05-12T13:36:15.455644Z",
     "start_time": "2023-05-12T13:36:15.333198Z"
    },
    "id": "222917a9"
   },
   "outputs": [],
   "source": [
    "scaler = MinMaxScaler()\n",
    "\n",
    "# Menerapkan MinMax pada R_rank_boxcox, F_rank_boxcox, dan M_rank_boxcox\n",
    "rfm_df['R_rank_scaled'] = scaler.fit_transform(rfm_df[['R_rank_boxcox']])\n",
    "rfm_df['F_rank_scaled'] = scaler.fit_transform(rfm_df[['F_rank_boxcox']])\n",
    "rfm_df['M_rank_scaled'] = scaler.fit_transform(rfm_df[['M_rank_boxcox']])"
   ]
  },
  {
   "cell_type": "markdown",
   "id": "ec9050c7",
   "metadata": {
    "id": "ec9050c7"
   },
   "source": [
    "Karena seperti yang kita ketahui dalam penerapan nya K-Means sangat berpengaruh terhadap jarak, jadi kita akan melakukan scaling terhadap variable ranking karena nilai dari masing masing variable masih berbeda. Jika diperhatikan variable monetary memiliki rentang yang lebih besar dibandingkan nilai Recency dan Frequency. Sehingga kita perlu melakukan normalisasi skala kembali dengan scaler untuk membantu dalam analisa terkait pengaruh dari masing masing variable."
   ]
  },
  {
   "cell_type": "markdown",
   "id": "3349c5ed",
   "metadata": {
    "id": "3349c5ed"
   },
   "source": [
    "MinMaxScaler adalah salah satu metode penskalaan yang umum digunakan dalam preprocessing data. Metode ini mengubah skala data ke dalam rentang yang ditentukan, seringkali antara 0 dan 1. Metode ini bekerja dengan mengurangi nilai minimum dari setiap fitur dan kemudian membaginya dengan jangkauan (nilai maksimum dikurangi nilai minimum) dari fitur tersebut.\n",
    "\n",
    "Pemilihan MinMaxScaler dapat memiliki beberapa alasan, di antaranya:\n",
    "\n",
    "- Rentang yang terbatas: Dengan mengubah skala data ke rentang 0 hingga 1, semua fitur akan memiliki rentang yang seragam, yang dapat menghindari dominasi fitur dengan rentang yang lebih besar dalam proses pemodelan atau analisis selanjutnya.\n",
    "\n",
    "- Perawatan outlier: MinMaxScaler secara default sensitif terhadap outlier. Jika terdapat outlier dalam data, rentang data yang dihasilkan akan menjadi lebih besar. Hal ini dapat bermanfaat jika outlier tersebut memiliki informasi penting atau merupakan kasus yang menarik untuk dianalisis.\n",
    "\n",
    "**Namun kalau diperhatikan sebelumnya variabel F belum terdistribusi normal secara sempurna, mengapa tetap memakai MinMax?**\n",
    "\n",
    "Jika diperhatikan data kita pada F_rank terdiri dari `1, 2, 3, 4, 5, 6, 11`.\n",
    "\n",
    "Dalam contoh ini, kita memiliki nilai 11 yang dapat dianggap sebagai outlier. Namun, dampak outlier ini pada rentang dan perbandingan relatif antara nilai-nilai lainnya tidak terlalu signifikan.\n",
    "\n",
    "Jika kita menggunakan metode penskalaan seperti MinMaxScaler pada contoh ini, rentang data akan tetap di antara 0 dan 1. Meskipun outlier memiliki perbedaan yang cukup besar dengan nilai-nilai lainnya (lebih dari dua kali lipat), rentang data yang dihasilkan masih dapat mempertahankan perbandingan relatif antara nilai-nilai lainnya.\n",
    "\n",
    "Dalam hal ini, outlier nilai 11 dapat dianggap sebagai outlier yang tidak signifikan. Meskipun perbedaannya cukup besar dengan nilai-nilai lainnya, outlier ini tidak secara signifikan mengganggu analisis atau kesimpulan yang dapat ditarik dari dataset.\n",
    "\n",
    "**Penjelasan lebih lanjutnya sebagai berikut:**\n",
    "\n",
    "Dalam konteks ini, kita memiliki data sebagai berikut: `1, 2, 3, 4, 5, 6, 11`. Jika kita menggunakan MinMaxScaler untuk mentransformasikan data ini ke dalam rentang 0 hingga 1, kita akan mendapatkan data yang disesuaikan sebagai berikut: `0, 0.1, 0.2, 0.3, 0.4, 0.5, 1`.\n",
    "\n",
    "Meskipun nilai 11 merupakan outlier yang jauh lebih tinggi daripada nilai-nilai lainnya, rentang data yang dihasilkan masih dapat mempertahankan perbandingan relatif antara nilai-nilai yang bukan outlier. Nilai-nilai 1 hingga 6 tetap memiliki perbedaan yang seragam di antara mereka setelah penskalaan, dan nilai-nilai tersebut tetap terjaga dalam urutan aslinya."
   ]
  },
  {
   "cell_type": "code",
   "execution_count": null,
   "id": "3eb0c2af",
   "metadata": {
    "ExecuteTime": {
     "end_time": "2023-05-12T13:36:15.565322Z",
     "start_time": "2023-05-12T13:36:15.457663Z"
    },
    "colab": {
     "base_uri": "https://localhost:8080/",
     "height": 270
    },
    "executionInfo": {
     "elapsed": 56,
     "status": "ok",
     "timestamp": 1683877268880,
     "user": {
      "displayName": "Muhammad Rafi",
      "userId": "02077341653276340637"
     },
     "user_tz": -420
    },
    "id": "3eb0c2af",
    "outputId": "ecba45a2-361c-429c-9746-0bf11ca32387"
   },
   "outputs": [],
   "source": [
    "rfm_df.head()"
   ]
  },
  {
   "cell_type": "code",
   "execution_count": null,
   "id": "a18c668e",
   "metadata": {
    "ExecuteTime": {
     "end_time": "2023-05-12T13:36:15.643741Z",
     "start_time": "2023-05-12T13:36:15.568316Z"
    },
    "id": "a18c668e"
   },
   "outputs": [],
   "source": [
    "rfm_df_norm = rfm_df[['R_rank_scaled', 'F_rank_scaled', 'M_rank_scaled']].copy()"
   ]
  },
  {
   "cell_type": "code",
   "execution_count": null,
   "id": "aea6edaa",
   "metadata": {
    "ExecuteTime": {
     "end_time": "2023-05-12T13:36:15.752746Z",
     "start_time": "2023-05-12T13:36:15.645739Z"
    },
    "colab": {
     "base_uri": "https://localhost:8080/",
     "height": 206
    },
    "executionInfo": {
     "elapsed": 52,
     "status": "ok",
     "timestamp": 1683877268885,
     "user": {
      "displayName": "Muhammad Rafi",
      "userId": "02077341653276340637"
     },
     "user_tz": -420
    },
    "id": "aea6edaa",
    "outputId": "a1d89d08-dbf1-45a3-c2c1-fcfc2eae7e04"
   },
   "outputs": [],
   "source": [
    "rfm_df_norm.head()"
   ]
  },
  {
   "cell_type": "markdown",
   "id": "049d2db0",
   "metadata": {
    "id": "049d2db0"
   },
   "source": [
    "# K-Means\n",
    "KMeans merupakan salah satu algoritma dalam machine learning yang digunakan untuk melakukan clustering atau pengelompokan data berdasarkan kesamaan fitur-fitur yang dimiliki oleh data tersebut. Algoritma ini bekerja dengan cara membagi data ke dalam beberapa cluster atau kelompok berdasarkan jarak antara data dengan pusat cluster (centroid) terdekat. KMeans menggunakan metode unsupervised learning, sehingga tidak memerlukan label atau target untuk melakukan clustering.\n",
    "\n",
    "Pada dasarnya, semakin banyak segmentasi yang digunakan pada RFM analysis, semakin spesifik dan detail segmentasi yang dihasilkan. Karena RFM Analysis terdiri dari 3 buah fitur yang berbeda, maka pada project kali ini kita akan melakukan segmentasi setidaknya lebih dari 3 buah segmentasi untuk memudahkan identifikasi tiap segmen dan agar tidak bias / miss interpret. Dalam beberapa kasus, 4 segmentasi mungkin sudah cukup untuk mengidentifikasi pola perilaku pelanggan. Namun, terkadang 4 segmentasi saja tidak cukup untuk memberikan wawasan yang cukup tentang perilaku pelanggan, terutama jika bisnis memiliki banyak produk atau layanan, variasi harga yang berbeda, atau pasar yang sangat kompetitif.\n",
    "\n",
    "Dengan menggunakan lebih dari 4 segmentasi, bisnis dapat mendapatkan wawasan yang lebih rinci tentang perilaku pelanggan, seperti preferensi produk yang lebih spesifik, kecenderungan pembelian pada periode tertentu, atau segmentasi pasar yang lebih tepat sasaran. Dengan demikian, bisnis dapat membuat keputusan yang lebih baik berdasarkan data dan memperbaiki strategi pemasaran dan penjualan mereka. Namun, harus diingat bahwa terlalu banyak segmentasi dapat menghasilkan kelompok yang terlalu kecil dan tidak mewakili secara signifikan populasi pelanggan secara keseluruhan."
   ]
  },
  {
   "cell_type": "code",
   "execution_count": null,
   "id": "fde14d5d",
   "metadata": {
    "ExecuteTime": {
     "end_time": "2023-05-12T13:36:29.302777Z",
     "start_time": "2023-05-12T13:36:15.755740Z"
    },
    "colab": {
     "base_uri": "https://localhost:8080/",
     "height": 1000
    },
    "executionInfo": {
     "elapsed": 34340,
     "status": "ok",
     "timestamp": 1683877303176,
     "user": {
      "displayName": "Muhammad Rafi",
      "userId": "02077341653276340637"
     },
     "user_tz": -420
    },
    "id": "fde14d5d",
    "outputId": "264cb4a8-fe3c-4089-f67b-adfa45fe141b",
    "scrolled": false
   },
   "outputs": [],
   "source": [
    "wcss = []\n",
    "for i in range(3,16):\n",
    "    kmeans = KMeans(n_clusters=i, init='k-means++', random_state=42)\n",
    "    kmeans.fit(rfm_df_norm)\n",
    "    wcss.append(kmeans.inertia_)\n",
    "\n",
    "fig = go.Figure()\n",
    "fig.add_trace(go.Scatter(x=list(range(3,16)), y=wcss, mode='lines+markers'))\n",
    "fig.update_layout(title='Elbow Method for Optimal k',\n",
    "                  xaxis_title='Number of Clusters (k)',\n",
    "                  yaxis_title='WCSS')\n",
    "pio.show(fig)"
   ]
  },
  {
   "cell_type": "markdown",
   "id": "5798aeb8",
   "metadata": {
    "id": "5798aeb8"
   },
   "source": [
    "Jika diperhatikan pada grafik elbow method diatas. `Namun apa sih sebenarnya Elbow Method ini?`  \n",
    "\n",
    "Jadi Elbow Method merupakan salah satu metode yang digunakan untuk menentukan banyaknya cluster yang optimal dalam algoritma K-Means. Berikut adalah langkah langkah dalam menentukan jumlah cluster yang optimal:\n",
    "\n",
    "1. Melakukan clustering dengan dengan berbagai jumlah cluster, dalah hal ini kita memulai dari jumlah cluster yakni 3 buah seperti yang sudah dijelaskan sebelumnya.\n",
    "\n",
    "2. Hitung nilai WCSS (Within-Cluster Sum of Square) atau bisa disebut sebagai nilai galat kuadrat dari setiap cluster.\n",
    "\n",
    "3. WCSS biasanya terletak pada sumbu y sedangkan Jumlah cluster pada sumbu x.\n",
    "\n",
    "4. Temukan sudut yang cenderung membentuk siku atau yang menunjukkan di mana penurunan WCSS mulai menurun secara lambat. Pada titik ini, penambahan jumlah cluster tidak lagi memberikan penurunan WCSS yang signifikan.\n",
    "\n",
    "**Berdasarkan data yang berikan, berikut adalah analisa dari elbow method:**\n",
    "\n",
    "- Jumlah kluster: 3, WCSS: 3.844\n",
    "- Jumlah kluster: 4, WCSS: 2.720\n",
    "- Jumlah kluster: 5, WCSS: 2.049\n",
    "- Jumlah kluster: 6, WCSS: 1.689\n",
    "- Jumlah kluster: 7, WCSS: 1.417\n",
    "- Jumlah kluster: 8, WCSS: 1.223\n",
    "- Jumlah kluster: 9, WCSS: 1.096\n",
    "- Jumlah kluster: 10, WCSS: 0.991\n",
    "\n",
    "Dalam elbow method, kita mencari penurunan yang signifikan dalam WCSS saat jumlah kluster meningkat. Tujuan kita adalah menemukan jumlah kluster yang memberikan penurunan yang signifikan dalam WCSS, tetapi setelah titik tersebut, penurunan tidak lagi signifikan secara substansial.\n",
    "\n",
    "Dalam kasus ini, grafik WCSS menunjukkan penurunan yang cukup tajam dari 3 kluster hingga 4 kluster, dan penurunan yang lebih lambat dari 4 kluster hingga 6 kluster. Setelah 6 kluster, penurunan WCSS tidak lagi signifikan secara substansial.\n",
    "\n",
    "Berdasarkan analisa ini, titik \"siku\" atau \"elbow\" mungkin berada `di antara 4 dan 6 kluster`. Namun, keputusan akhir tentang jumlah kluster yang optimal harus dipertimbangkan dengan faktor lain seperti interpretasi bisnis dan tujuan analisis dan perlu dicatat bahwa penggunaan metode Elbow Method terkadang dapat bersifat subjektif, sehingga diperlukan validasi menggunakan metode lain, seperti silhouette scores."
   ]
  },
  {
   "cell_type": "code",
   "execution_count": null,
   "id": "debbaac2",
   "metadata": {
    "ExecuteTime": {
     "end_time": "2023-05-12T13:41:52.816513Z",
     "start_time": "2023-05-12T13:36:29.309748Z"
    },
    "colab": {
     "base_uri": "https://localhost:8080/",
     "height": 1000
    },
    "executionInfo": {
     "elapsed": 400131,
     "status": "ok",
     "timestamp": 1683877703296,
     "user": {
      "displayName": "Muhammad Rafi",
      "userId": "02077341653276340637"
     },
     "user_tz": -420
    },
    "id": "debbaac2",
    "outputId": "97387d64-2900-485b-b538-397194807961",
    "scrolled": false
   },
   "outputs": [],
   "source": [
    "silhouette_scores = []\n",
    "\n",
    "for k in range(4, 11):\n",
    "    kmeans = KMeans(n_clusters=k, init='k-means++', random_state=42)\n",
    "    kmeans.fit(rfm_df_norm)\n",
    "    labels = kmeans.labels_\n",
    "    silhouette_scores.append(silhouette_score(rfm_df_norm, labels))\n",
    "\n",
    "fig = go.Figure()\n",
    "fig.add_trace(go.Scatter(x=np.arange(4,11), y=silhouette_scores, mode='lines+markers', name='Silhouette Score'))\n",
    "fig.update_layout(title='Silhouette Score vs Number of Clusters',\n",
    "xaxis_title='Number of Clusters (k)', yaxis_title='Silhouette Score')\n",
    "fig.show()"
   ]
  },
  {
   "cell_type": "markdown",
   "id": "21a607a0",
   "metadata": {
    "id": "21a607a0"
   },
   "source": [
    "Silhouette score adalah metode evaluasi clustering yang digunakan untuk menentukan seberapa baik suatu data dikelompokkan dalam suatu cluster. Silhouette score menghitung seberapa dekat setiap titik data dalam suatu cluster dengan titik data di cluster lain dibandingkan dengan titik data di cluster yang sama.\n",
    "\n",
    "Silhouette score berkisar antara -1 hingga 1, di mana nilai positif menunjukkan seberapa baik data dikelompokkan dan nilai negatif menunjukkan bahwa data seharusnya lebih baik dikelompokkan ke dalam cluster yang berbeda. Semakin dekat nilai Silhouette score dengan 1, semakin baik data dikelompokkan.\n",
    "\n",
    "\n",
    "**Berdasarkan nilai silhouette score yang Anda berikan, berikut adalah kesimpulan yang dapat diambil:**\n",
    "\n",
    "- Jumlah kluster: 4, Silhouette score: 0.374\n",
    "- Jumlah kluster: 5, Silhouette score: 0.368\n",
    "- Jumlah kluster: 6, Silhouette score: 0.369\n",
    "\n",
    "\n",
    "Berdasarkan kesimpulan dari metode elbow dan silhouette score, Kita akan mempertimbangkan menggunakan 4 kluster atau 5 kluster atau 6 kluster sebagai jumlah kluster yang optimal. Namun, keputusan akhir harus dipertimbangkan dengan tujuan bisnis dan interpretasi hasil clustering yang dihasilkan. Maka selanjutnya kita akan coba untuk mebandingkan kedua jumlah kluster tersebut."
   ]
  },
  {
   "cell_type": "markdown",
   "id": "6ab7effe",
   "metadata": {
    "id": "6ab7effe"
   },
   "source": [
    "### 4 Clustering"
   ]
  },
  {
   "cell_type": "code",
   "execution_count": null,
   "id": "f25908c0",
   "metadata": {
    "ExecuteTime": {
     "end_time": "2023-05-12T13:41:54.958173Z",
     "start_time": "2023-05-12T13:41:52.821526Z"
    },
    "colab": {
     "base_uri": "https://localhost:8080/",
     "height": 686,
     "output_embedded_package_id": "1FobrCGyrNEOwuBSfICpA8k0GfrkUq8zu"
    },
    "executionInfo": {
     "elapsed": 7371,
     "status": "ok",
     "timestamp": 1683877710655,
     "user": {
      "displayName": "Muhammad Rafi",
      "userId": "02077341653276340637"
     },
     "user_tz": -420
    },
    "id": "f25908c0",
    "outputId": "04133681-2179-4e07-b3c9-c42f2dcff90d"
   },
   "outputs": [],
   "source": [
    "# melakukan k-means clustering dengan 4 cluster\n",
    "kmeans = KMeans(n_clusters=4, init='k-means++', random_state=42)\n",
    "kmeans.fit(rfm_df_norm)\n",
    "labels_4 = kmeans.labels_\n",
    "\n",
    "# menambahkan kolom labels hasil clustering ke dalam dataframe rfm_df\n",
    "rfm_df['cluster_4'] = labels_4\n",
    "\n",
    "# membuat scatter plot\n",
    "fig = px.scatter_3d(rfm_df, x='R_rank_scaled', y='F_rank_scaled', z='M_rank_scaled', color='cluster_4',\n",
    "                    symbol='cluster_4', opacity=0.8, width=800, height=600)\n",
    "\n",
    "# menambahkan title pada plot\n",
    "fig.update_layout(title_text=\"RFM Clustering\")\n",
    "\n",
    "# mengatur posisi dan tampilan legend\n",
    "fig.update_layout(legend=dict(\n",
    "    yanchor=\"top\",\n",
    "    y=0.99,\n",
    "    xanchor=\"left\",\n",
    "    x=0.01,\n",
    "    title='Cluster',\n",
    "    orientation=\"h\"))\n",
    "\n",
    "# menampilkan plot\n",
    "fig.show()"
   ]
  },
  {
   "cell_type": "code",
   "execution_count": null,
   "id": "53fba902",
   "metadata": {
    "ExecuteTime": {
     "end_time": "2023-05-12T13:41:55.067355Z",
     "start_time": "2023-05-12T13:41:54.961133Z"
    },
    "colab": {
     "base_uri": "https://localhost:8080/",
     "height": 296
    },
    "executionInfo": {
     "elapsed": 33,
     "status": "ok",
     "timestamp": 1683877710657,
     "user": {
      "displayName": "Muhammad Rafi",
      "userId": "02077341653276340637"
     },
     "user_tz": -420
    },
    "id": "53fba902",
    "outputId": "15fe051c-4974-4596-d7ab-d510213c5453"
   },
   "outputs": [],
   "source": [
    "# Buat dataframe dengan pivot table\n",
    "pivot_table = rfm_df.pivot_table(index='cluster_4', values=['Recency', 'Frequency', 'Monetary'], aggfunc='mean') # \n",
    "\n",
    "# gradasi warna merah\n",
    "cmap = plt.cm.get_cmap('Reds')\n",
    "\n",
    "# Tambahkan parameter menunjukkan tinggi rendahnya angka dalam gradasi warna merah\n",
    "pivot_table.style.background_gradient(cmap=cmap).format('{:.2f}')"
   ]
  },
  {
   "cell_type": "markdown",
   "id": "b0641ddf",
   "metadata": {
    "id": "b0641ddf"
   },
   "source": [
    "**Analisis Segmentasi:**\n",
    "\n",
    "- Terlihat bahwa pengelompokkan yang dilakukan terlalu general. Jumlah cluster yang terlalu sedikit dapat mengakibatkan pengelompokkan yang kurang representatif terhadap variasi data yang sebenarnya.\n",
    "- Jika diperhatikan cakupan pada cluster 1 yang merupakan cluster memiliki recency sudah cukup lama, namun sebenarnya cluster ini masih bisa dibagi lagi menjadi 2 cluster yang lebih menggambarkan pembagian segmentasi nya.\n",
    "- Karena pembagiannya terlalu general kami memutuskan untuk tidak melanjutkan analisa lebih lagi."
   ]
  },
  {
   "cell_type": "markdown",
   "id": "697c1158",
   "metadata": {
    "id": "697c1158"
   },
   "source": [
    "### 5 Clustering"
   ]
  },
  {
   "cell_type": "code",
   "execution_count": null,
   "id": "32c8ace8",
   "metadata": {
    "ExecuteTime": {
     "end_time": "2023-05-12T13:41:56.662355Z",
     "start_time": "2023-05-12T13:41:55.070348Z"
    },
    "colab": {
     "base_uri": "https://localhost:8080/",
     "height": 686,
     "output_embedded_package_id": "1wumIrCaoOtU9cWT6PQ7rwCWsNq3WB64k"
    },
    "executionInfo": {
     "elapsed": 2819,
     "status": "ok",
     "timestamp": 1683877713453,
     "user": {
      "displayName": "Muhammad Rafi",
      "userId": "02077341653276340637"
     },
     "user_tz": -420
    },
    "id": "32c8ace8",
    "outputId": "3980bc41-718f-4061-8f9b-7877914b42b3",
    "scrolled": false
   },
   "outputs": [],
   "source": [
    "# melakukan k-means clustering dengan 5 cluster\n",
    "kmeans = KMeans(n_clusters=5, init='k-means++', random_state=42)\n",
    "kmeans.fit(rfm_df_norm)\n",
    "labels_5 = kmeans.labels_\n",
    "\n",
    "# menambahkan kolom labels hasil clustering ke dalam dataframe rfm_df\n",
    "rfm_df['cluster_5'] = labels_5\n",
    "\n",
    "# membuat scatter plot\n",
    "fig = px.scatter_3d(rfm_df, x='R_rank_scaled', y='F_rank_scaled', z='M_rank_scaled', color='cluster_5',\n",
    "                    symbol='cluster_5', opacity=0.8, width=800, height=600)\n",
    "\n",
    "# menambahkan title pada plot\n",
    "fig.update_layout(title_text=\"RFM Clustering\")\n",
    "\n",
    "# mengatur posisi dan tampilan legend\n",
    "fig.update_layout(legend=dict(\n",
    "    yanchor=\"top\",\n",
    "    y=0.99,\n",
    "    xanchor=\"left\",\n",
    "    x=0.01,\n",
    "    orientation=\"h\"))\n",
    "\n",
    "# menampilkan plot\n",
    "fig.show()"
   ]
  },
  {
   "cell_type": "markdown",
   "id": "b99f06b4",
   "metadata": {
    "id": "b99f06b4"
   },
   "source": [
    "**Analisa Segmentasi:**\n",
    "\n",
    "\n",
    "Untuk menentukan apakah 5 klaster sudah cukup detail dan representatif terhadap data, ada beberapa faktor yang perlu dipertimbangkan:\n",
    "\n",
    "- Jumlah cluster: Jumlah cluster yang terlalu sedikit dapat menghasilkan pengelompokkan yang terlalu umum dan tidak memberikan detail yang cukup. Sebaliknya, terlalu banyak cluster dapat menyulitkan interpretasi dan menghasilkan cluster yang tidak signifikan. Pemilihan 5 klaster mungkin telah mempertimbangkan keseimbangan antara detail dan interpretasi yang baik.\n",
    "\n",
    "- Kesesuaian dengan tujuan analisis: Penting untuk memastikan bahwa klaster yang terbentuk sesuai dengan tujuan analisis dan pemahaman yang ingin dicapai. Jika tujuan analisis adalah untuk mengidentifikasi pola pembelian atau perilaku pelanggan, maka klaster harus mampu menjelaskan perbedaan dalam pola tersebut.\n",
    "\n",
    "- Visualisasi dan pemahaman pola: Melalui visualisasi dan pemahaman pola atau perilaku yang berbeda-beda dari pelanggan dalam masing-masing klaster, Anda dapat membuat keputusan tentang apakah klaster tersebut sudah memberikan informasi yang cukup detail dan representatif terhadap data.\n",
    "\n",
    "Coba kita lihat perbandingan dengan menggunakan 6 buah kluster."
   ]
  },
  {
   "cell_type": "markdown",
   "id": "c5039823",
   "metadata": {
    "id": "c5039823"
   },
   "source": [
    "**Analisa Lebih Lanjut 5 Buah Cluster:**"
   ]
  },
  {
   "cell_type": "markdown",
   "id": "718f8a4f",
   "metadata": {
    "id": "718f8a4f"
   },
   "source": [
    "Berdasarkan informasi yang disajikan sebelumnya, terdapat beberapa temuan terkait klaster yang terbentuk:\n",
    "\n",
    "- Cluster 0 memiliki proporsi terbanyak, dengan jumlah pelanggan yang baru dan cenderung memiliki pengeluaran yang signifikan. Cluster ini mungkin mencakup sebagian besar pelanggan baru yang belum terlalu aktif dalam bertransaksi.\n",
    "\n",
    "- Cluster 2 memiliki proporsi terendah dengan hanya 1298 pelanggan. Klaster ini mungkin mencakup pelanggan yang sangat loyal dan memiliki tingkat pengeluaran yang tinggi. Pelanggan dalam klaster ini dapat dianggap sebagai kelompok yang paling aktif dan terlibat dalam bertransaksi di platform.\n",
    "\n",
    "Karakteristik ini dapat memberikan wawasan yang berharga terkait segmentasi pelanggan. Dalam hal ini, pengelompokkan klaster dapat memberikan gambaran yang lebih rinci tentang perilaku dan preferensi pelanggan yang berbeda."
   ]
  },
  {
   "cell_type": "markdown",
   "id": "e9a4a2ad",
   "metadata": {
    "id": "e9a4a2ad"
   },
   "source": [
    "**Recency Analysis**"
   ]
  },
  {
   "cell_type": "code",
   "execution_count": null,
   "id": "4b16556c",
   "metadata": {
    "ExecuteTime": {
     "end_time": "2023-05-12T13:41:56.726186Z",
     "start_time": "2023-05-12T13:41:56.666345Z"
    },
    "colab": {
     "base_uri": "https://localhost:8080/",
     "height": 238
    },
    "executionInfo": {
     "elapsed": 106,
     "status": "ok",
     "timestamp": 1683877713454,
     "user": {
      "displayName": "Muhammad Rafi",
      "userId": "02077341653276340637"
     },
     "user_tz": -420
    },
    "id": "4b16556c",
    "outputId": "d21e66c1-35d8-488e-a68c-6f2cae2fc483"
   },
   "outputs": [],
   "source": [
    "# buat bins berdasarkan quantile\n",
    "bins = pd.qcut(rfm_df.Recency, q=4, labels=['New', 'Active','Risk', 'Inactive'])\n",
    "\n",
    "rfm_df['Recency_Bins'] = bins\n",
    "\n",
    "cluster_rec = pd.pivot_table(rfm_df, values='customer_unique_id', index='cluster_5', columns='Recency_Bins', aggfunc='count', fill_value=0) \n",
    "\n",
    "cluster_rec"
   ]
  },
  {
   "cell_type": "code",
   "execution_count": null,
   "id": "d1ef9b9e",
   "metadata": {
    "ExecuteTime": {
     "end_time": "2023-05-12T13:41:56.865830Z",
     "start_time": "2023-05-12T13:41:56.729178Z"
    },
    "colab": {
     "base_uri": "https://localhost:8080/",
     "height": 300
    },
    "executionInfo": {
     "elapsed": 101,
     "status": "ok",
     "timestamp": 1683877713456,
     "user": {
      "displayName": "Muhammad Rafi",
      "userId": "02077341653276340637"
     },
     "user_tz": -420
    },
    "id": "d1ef9b9e",
    "outputId": "079a3048-ab0b-46dc-defb-e7ed28a26807"
   },
   "outputs": [],
   "source": [
    "i = ['New', 'Active','Risk', 'Inactive']\n",
    "result = pd.DataFrame()\n",
    "for label in i:\n",
    "    temp = rfm_df[rfm_df['Recency_Bins']==label]['Recency'].describe()\n",
    "    temp.name = label\n",
    "    result = pd.concat([result, temp], axis=1)\n",
    "result"
   ]
  },
  {
   "cell_type": "markdown",
   "id": "0bdae360",
   "metadata": {
    "id": "0bdae360"
   },
   "source": [
    "**NOTE**:  \n",
    "* `NEW: < 3 Bulan` \n",
    "* `Active: 4 < 6 Bulan`  \n",
    "* `Risk: 7 < 9 Bulan`  \n",
    "* `Inactive: > 12 Bulan`  \n",
    "\n",
    "Berdasarkan data yang diberikan pada tabel di atas, kita dapat membuat analisa singkat sebagai berikut:\n",
    "\n",
    "1. `Cluster 0`: Cluster ini memiliki proporsi yang cukup merata antara pelanggan dalam kategori `Inactive` dan `Risk`. Hal ini menunjukkan bahwa pelanggan dalam cluster ini cenderung tidak aktif dalam bertransaksi dalam kurun waktu 4 hingga 9 bulan terakhir.\n",
    "\n",
    "2. `Cluster 1`: Cluster ini memiliki jumlah pelanggan yang relatif kecil dalam setiap kategori, termasuk \"New\", \"Active\", `New`, dan `Active`. Hal ini menunjukkan bahwa pelanggan dalam cluster ini memiliki tingkat aktivitas yang lebih tinggi secara keseluruhan.\n",
    "\n",
    "3. `Cluster 2`: Cluster ini tidak memiliki pelanggan dalam kategori `inactive`, namun memiliki jumlah yang signifikan dalam kategori \"Risk\" dan \"Inactive\". Hal ini menunjukkan bahwa pelanggan dalam cluster ini memiliki risiko churn (berhenti bertransaksi) yang tinggi atau sudah tidak aktif dalam bertransaksi dalam kurun waktu 7 hingga 12 bulan terakhir.\n",
    "\n",
    "4. `Cluster 3`: Cluster ini tidak memiliki pelanggan dalam kategori `Inactive`, namun memiliki jumlah yang signifikan dalam kategori `New` dan `Active`. Hal ini menunjukkan bahwa pelanggan dalam cluster ini didominasi pengguna baru.\n",
    "\n",
    "5. `Cluster 4`: Cluster ini cukup seragam dari segi recency\n"
   ]
  },
  {
   "cell_type": "code",
   "execution_count": null,
   "id": "48feddd8",
   "metadata": {
    "ExecuteTime": {
     "end_time": "2023-05-12T13:41:56.975538Z",
     "start_time": "2023-05-12T13:41:56.869821Z"
    },
    "colab": {
     "base_uri": "https://localhost:8080/",
     "height": 238
    },
    "executionInfo": {
     "elapsed": 98,
     "status": "ok",
     "timestamp": 1683877713458,
     "user": {
      "displayName": "Muhammad Rafi",
      "userId": "02077341653276340637"
     },
     "user_tz": -420
    },
    "id": "48feddd8",
    "outputId": "5f918211-db9f-4884-9d9b-9f73f64c0caf"
   },
   "outputs": [],
   "source": [
    "cluster_freq = pd.pivot_table(rfm_df, values='customer_unique_id', index='cluster_5', columns='Frequency', aggfunc='count', fill_value=0)\n",
    "\n",
    "cluster_freq"
   ]
  },
  {
   "cell_type": "markdown",
   "id": "76972a87",
   "metadata": {
    "id": "76972a87"
   },
   "source": [
    "**INSIGHT**:\n",
    "\n",
    "Analisa ini memberikan gambaran singkat tentang pola frekuensi pembelian pada masing-masing klaster. Cluster 2 memiliki variasi frekuensi pembelian yang lebih tinggi dibandingkan dengan klaster lainnya. Cluster 0, 1, 3, dan 4 memiliki mayoritas pelanggan dengan frekuensi pembelian sebanyak 1."
   ]
  },
  {
   "cell_type": "code",
   "execution_count": null,
   "id": "05dbff98",
   "metadata": {
    "ExecuteTime": {
     "end_time": "2023-05-12T13:41:57.086242Z",
     "start_time": "2023-05-12T13:41:56.978530Z"
    },
    "colab": {
     "base_uri": "https://localhost:8080/",
     "height": 238
    },
    "executionInfo": {
     "elapsed": 96,
     "status": "ok",
     "timestamp": 1683877713460,
     "user": {
      "displayName": "Muhammad Rafi",
      "userId": "02077341653276340637"
     },
     "user_tz": -420
    },
    "id": "05dbff98",
    "outputId": "f8d323e4-def6-4480-8068-f4b01c78df4f"
   },
   "outputs": [],
   "source": [
    "# buat bins berdasarkan quantile\n",
    "bins = pd.qcut(rfm_df.Monetary, q=4, labels=['low', 'medium', 'high', 'very_high'])\n",
    "\n",
    "rfm_df['Monetary_Bins'] = bins\n",
    "\n",
    "cluster_mon = pd.pivot_table(rfm_df, values='customer_unique_id', index='cluster_5', columns='Monetary_Bins', aggfunc='count', fill_value=0)\n",
    "\n",
    "cluster_mon"
   ]
  },
  {
   "cell_type": "code",
   "execution_count": null,
   "id": "f33dd757",
   "metadata": {
    "ExecuteTime": {
     "end_time": "2023-05-12T13:41:57.242823Z",
     "start_time": "2023-05-12T13:41:57.088236Z"
    },
    "colab": {
     "base_uri": "https://localhost:8080/",
     "height": 300
    },
    "executionInfo": {
     "elapsed": 93,
     "status": "ok",
     "timestamp": 1683877713462,
     "user": {
      "displayName": "Muhammad Rafi",
      "userId": "02077341653276340637"
     },
     "user_tz": -420
    },
    "id": "f33dd757",
    "outputId": "7d99091c-fb0c-4e27-8282-f85275a42fe6"
   },
   "outputs": [],
   "source": [
    "i = ['low', 'medium', 'high', 'very_high']\n",
    "result = pd.DataFrame()\n",
    "for label in i:\n",
    "    temp = rfm_df[rfm_df['Monetary_Bins']==label]['Monetary'].describe()\n",
    "    temp.name = label\n",
    "    result = pd.concat([result, temp], axis=1)\n",
    "result"
   ]
  },
  {
   "cell_type": "markdown",
   "id": "94170d1d",
   "metadata": {
    "id": "94170d1d"
   },
   "source": [
    "**INSIGHT**:\n",
    "\n",
    "Analisa ini memberikan gambaran singkat tentang tingkat pengeluaran pelanggan dalam masing-masing klaster. Cluster 0 dan 1 memiliki mayoritas pelanggan dengan nilai Monetary yang tinggi, sedangkan Cluster 3 dan 4 memiliki mayoritas pelanggan dengan nilai Monetary yang rendah. Cluster 2 memiliki variasi dalam tingkat pengeluaran pelanggan."
   ]
  },
  {
   "cell_type": "code",
   "execution_count": null,
   "id": "0ef28436",
   "metadata": {
    "ExecuteTime": {
     "end_time": "2023-05-12T13:41:57.288700Z",
     "start_time": "2023-05-12T13:41:57.245816Z"
    },
    "colab": {
     "base_uri": "https://localhost:8080/",
     "height": 327
    },
    "executionInfo": {
     "elapsed": 92,
     "status": "ok",
     "timestamp": 1683877713463,
     "user": {
      "displayName": "Muhammad Rafi",
      "userId": "02077341653276340637"
     },
     "user_tz": -420
    },
    "id": "0ef28436",
    "outputId": "8d2407c8-7e1c-429e-968e-e4b1461be521",
    "scrolled": true
   },
   "outputs": [],
   "source": [
    "# Buat dataframe dengan pivot table\n",
    "pivot_table = rfm_df.pivot_table(index='cluster_5', values=['Recency', 'Frequency', 'Monetary'], aggfunc='mean') # \n",
    "\n",
    "# Definisikan gradasi warna merah\n",
    "cmap = plt.cm.get_cmap('Reds')\n",
    "\n",
    "# Tambahkan parameter samping untuk menunjukkan tinggi rendahnya angka dalam gradasi warna merah\n",
    "pivot_table.style.background_gradient(cmap=cmap).format('{:.2f}')"
   ]
  },
  {
   "cell_type": "markdown",
   "id": "7f76077e",
   "metadata": {
    "id": "7f76077e"
   },
   "source": [
    "| Nama Cluster | Arti Cluster | Deskripsi Cluster |\n",
    "|:--------------:|:--------------:|:---------------------:|\n",
    "|Cluster 0 | Sleeping Giant | Cluster ini merupakan cluster yang dahulunya merupakan Big Spender, namun saat ini mereka sudah tidak aktif lagi berbelanja. Berdasarkan Recency nya mereka sudah tidak beraktifitas lebih dari 7 bulan, lalu pelanggan ini juga memiliki frekuensi hanya 1 kali  serta cluster ini memiliki tingkat monetary yang besar yaitu dengan rata-rata R262.50 yang merupakan tingkat monetary terbesar ke-2 dari seluruh cluster. Sehingga dengan demikian untuk kita perlu memperhatikan mereka agar tetap kembali aktif.|\n",
    "|Cluster 1 | Newcomers | Karakteristik pelanggan yang baru melakukan pembelian pertama dengan mayoritas recency (0-6 bulan) namun mayoritas data berada pada range 0-3 bulan. Pelanggan ini memiliki frekuensi mayoritas sebanyak 1 kali serta Pelanggan ini memiliki tingkat pengeluaran kecil dengan rata-rata R59.79. Cluster ini memiliki jumlah data terbanyak ke-2 setelah cluster big spender dengan total pelanggan 16k orang. Sehingga dengan demikian cluster ini perlu diperhatikan karena dapat berpotensi menjadi pelanggan setia di masa depan.|\n",
    "|Cluster 2 | Lost Customer | Cluster pelanggan ini merupakan pelanggan yang sudah lama tidak melakukan pembelian dengan dominasi range recency lebih dari 12 bulan. Cluster ini juga memiliki frekuensi hanya 1 kali selain itu pelanggan ini juga memiliki tingkat monetary yang cenderung kecil yaitu dengan rata-rata R63.61. Sehingga Perlu dicoba untuk mengaktifkan kembali minat mereka agar tetap menjadi pelanggan setia Anda.|\n",
    "|Cluster 3 | Big Spenders | Pelanggan ini memiliki karakteristik baru melakukan pembelian pertama-nya dengan range recency (0-9 bulan) dengan dominasi pelanggan di range 0-6 bulan. Secara frekuensi pelanggan ini memiliki memiliki pelanggan yang mempunyai frekuensi hanya 1 kali, serta pelanggan ini memiliki rata-rata pengeluaran yang cenderung menengah-atas R238.12. Sehingga dengan demikian cluster ini memiliki potensi menjadi pelanggan setia dengan pengeluaran besar di masa depan. |\n",
    "|Cluster 4 | Loyalist | Cluster ini dapat dikategorikan sebagai cluster terbaik serta loyal, karena berdasarkan Recency di dominasi pelanggan yang beraktifitas dalam kurun waktu 0-7 bulan. Pelanggan ini memiliki frekuensi lebih dari 1 kali terbanyak serta pelanggan ini memiliki rata-rata pengeluaran yang besar yaitu sebesar R276.09. Walaupun cluster ini sudah menjadi yang terbaik namun kita tetap harus menjaga mereka untuk menjadi pelanggan setia. |\n"
   ]
  },
  {
   "cell_type": "markdown",
   "id": "1157dbf2",
   "metadata": {
    "id": "1157dbf2"
   },
   "source": [
    "Untuk menentukan apakah 5 klaster sudah cukup detail dan representatif terhadap data, terdapat beberapa hal yang perlu dipertimbangkan, seperti:\n",
    "\n",
    "- Jumlah cluster: Apabila jumlah cluster terlalu sedikit maka pembentukan cluster akan menjadi general atau kurang detail. Jika diperlukan informasi yang lebih detail atau kompleks, jumlah cluster yang terbentuk dapat ditingkatkan. Namun, jumlah cluster yang terlalu banyak dapat menyulitkan interpretasi dan menghasilkan cluster yang tidak informatif atau tidak signifikan.\n",
    "\n",
    "- Kesesuaian dengan tujuan analisis: Cluster yang terbentuk harus relevan dengan tujuan analisis dan pemahaman domain yang ingin dicapai. Misalnya, jika tujuan analisis adalah untuk menemukan pola pembelian atau perilaku pelanggan, maka cluster yang terbentuk harus mampu menjelaskan perbedaan dalam pola pembelian atau perilaku.\n",
    "\n",
    "Dengan menggunakan ke-5 cluster ini, secara visualisasi dan pola atau perilaku dari pelanggan yang berbeda-beda kami memutuskan untuk menggunakan jumlah cluster tersebut.\n",
    "\n",
    "`Namun bagaimana dengan jumlah 6 buah cluster apakah lebih baik? Mari kita cek..`"
   ]
  },
  {
   "cell_type": "markdown",
   "id": "797552cd",
   "metadata": {
    "id": "797552cd"
   },
   "source": [
    "### 6 Clustering"
   ]
  },
  {
   "cell_type": "code",
   "execution_count": null,
   "id": "740dd1b1",
   "metadata": {
    "ExecuteTime": {
     "end_time": "2023-05-12T13:41:58.996479Z",
     "start_time": "2023-05-12T13:41:57.290696Z"
    },
    "colab": {
     "base_uri": "https://localhost:8080/",
     "height": 686,
     "output_embedded_package_id": "1dKA391lCnNwKvpx_fco2FMNXwQ4kakpQ"
    },
    "executionInfo": {
     "elapsed": 2539,
     "status": "ok",
     "timestamp": 1683877715930,
     "user": {
      "displayName": "Muhammad Rafi",
      "userId": "02077341653276340637"
     },
     "user_tz": -420
    },
    "id": "740dd1b1",
    "outputId": "b626916c-f696-4ad6-b8bd-2fccdfb7067d",
    "scrolled": false
   },
   "outputs": [],
   "source": [
    "# melakukan k-means clustering dengan 6 cluster\n",
    "kmeans = KMeans(n_clusters=6, init='k-means++', random_state=42)\n",
    "kmeans.fit(rfm_df_norm)\n",
    "labels_6 = kmeans.labels_\n",
    "\n",
    "# menambahkan kolom labels hasil clustering ke dalam dataframe rfm_df\n",
    "rfm_df['cluster_6'] = labels_6\n",
    "\n",
    "# membuat scatter plot\n",
    "fig = px.scatter_3d(rfm_df, x='R_rank_scaled', y='F_rank_scaled', z='M_rank_scaled', color='cluster_6',\n",
    "                    symbol='cluster_6', opacity=0.8, width=800, height=600)\n",
    "\n",
    "# menambahkan title pada plot\n",
    "fig.update_layout(title_text=\"RFM Clustering\")\n",
    "\n",
    "# mengatur posisi dan tampilan legend\n",
    "fig.update_layout(legend=dict(\n",
    "    yanchor=\"top\",\n",
    "    y=0.99,\n",
    "    xanchor=\"left\",\n",
    "    x=0.01,\n",
    "    orientation=\"h\"))\n",
    "\n",
    "# menampilkan plot\n",
    "fig.show()"
   ]
  },
  {
   "cell_type": "code",
   "execution_count": null,
   "id": "4a7db5ec",
   "metadata": {
    "ExecuteTime": {
     "end_time": "2023-05-12T13:54:08.768813Z",
     "start_time": "2023-05-12T13:54:08.734905Z"
    },
    "colab": {
     "base_uri": "https://localhost:8080/",
     "height": 542
    },
    "executionInfo": {
     "elapsed": 116,
     "status": "ok",
     "timestamp": 1683877715932,
     "user": {
      "displayName": "Muhammad Rafi",
      "userId": "02077341653276340637"
     },
     "user_tz": -420
    },
    "id": "4a7db5ec",
    "outputId": "070b2446-227c-45b5-d611-1327b8f5b521"
   },
   "outputs": [],
   "source": [
    "cluster_count = rfm_df.groupby('cluster_6')['customer_unique_id'].count()\n",
    "\n",
    "fig = go.Figure(data=[\n",
    "    go.Bar(x=cluster_count.index, y=cluster_count.values),\n",
    "    go.Bar(x=cluster_count.index, y=cluster_count.values / cluster_count.sum(), visible=False)\n",
    "])\n",
    "\n",
    "fig.update_layout(\n",
    "    title=\"Customer Count per Cluster\",\n",
    "    xaxis_title=\"Cluster ID\",\n",
    "    yaxis_title=\"Count\",\n",
    "    updatemenus=[\n",
    "        dict(\n",
    "            active=0,\n",
    "            buttons=list([\n",
    "                dict(label=\"Customer Count\", method=\"update\", args=[{\"visible\": [True, False]}]),\n",
    "                dict(label=\"Normalized Customer Count\", method=\"update\", args=[{\"visible\": [False, True]}])\n",
    "            ]),\n",
    "        )\n",
    "    ]\n",
    ")\n",
    "\n",
    "fig.update_traces(texttemplate='%{y}', textposition='outside') # Menambahkan anotasi pada masing-masing bar\n",
    "\n",
    "fig.show()"
   ]
  },
  {
   "cell_type": "markdown",
   "id": "76427e4c",
   "metadata": {
    "id": "76427e4c"
   },
   "source": [
    "Jika dibandingkan dengan 5 buah kluster, dengan menggunakan 6 buah kluster terlihat lebih detail. terutama pada bagian segmentasi customer yang memiliki tingkat pengeluaran menengah-rendah yang terbagi menjadi 3 buah kluster yang berbeda berdasarkan recency nya. \n",
    "\n",
    "Hal ini bisa membantu dalam membuat analisa yang lebih baik lagi, mengingat hasil visualisasi masih mendukung dari tujuan analisis kita."
   ]
  },
  {
   "cell_type": "markdown",
   "id": "b6dd3c7d",
   "metadata": {
    "id": "b6dd3c7d"
   },
   "source": [
    "**Analisa Lebih Lanjut 6 Cluster**"
   ]
  },
  {
   "cell_type": "code",
   "execution_count": null,
   "id": "e172b32b",
   "metadata": {
    "ExecuteTime": {
     "end_time": "2023-05-12T13:41:59.215554Z",
     "start_time": "2023-05-12T13:41:59.061307Z"
    },
    "colab": {
     "base_uri": "https://localhost:8080/",
     "height": 269
    },
    "executionInfo": {
     "elapsed": 112,
     "status": "ok",
     "timestamp": 1683877715933,
     "user": {
      "displayName": "Muhammad Rafi",
      "userId": "02077341653276340637"
     },
     "user_tz": -420
    },
    "id": "e172b32b",
    "outputId": "79de32d1-1ae7-4db5-c2c3-9a30fa782753"
   },
   "outputs": [],
   "source": [
    "# buat bins berdasarkan quantile\n",
    "bins = pd.qcut(rfm_df.Recency, q=4, labels=['New', 'Active','Risk', 'Inactive'])\n",
    "\n",
    "rfm_df['Recency_Bins'] = bins\n",
    "\n",
    "cluster_rec = pd.pivot_table(rfm_df, values='customer_unique_id', index='cluster_6', columns='Recency_Bins', aggfunc='count', fill_value=0)\n",
    "\n",
    "cluster_rec"
   ]
  },
  {
   "cell_type": "markdown",
   "id": "88e2fe37",
   "metadata": {},
   "source": [
    "**NOTE**:  \n",
    "* `NEW: <= 3 Bulan` \n",
    "* `Active: 4 <= 6 Bulan`  \n",
    "* `Risk: 7 <= 9 Bulan`  \n",
    "* `Inactive: > 12 Bulan`  \n",
    "\n",
    "Berdasarkan data yang diberikan pada tabel di atas, kita dapat membuat analisa singkat sebagai berikut:\n",
    "\n",
    "1. `Cluster 0`: Cluster ini memiliki proporsi yang cukup merata antara pelanggan dalam kategori `Inactive` dan `Risk`. Hal ini menunjukkan bahwa pelanggan dalam cluster ini cenderung tidak aktif dalam bertransaksi dalam kurun waktu 4 hingga 9 bulan terakhir.\n",
    "\n",
    "2. `Cluster 1`: Cluster ini memiliki dominasi pada kategori `New` dan `Active`, sehingga dapat dikatakan kategori ini merupakan pelanggan yang baru baru ini melakukan transaksi.\n",
    "\n",
    "3. `Cluster 2`: Cluster ini memiliki pelanggan dalam kategori `Active` dan `Risk` dengan range terakhir kali aktifitas 4-9 bulan. Kelompok ini dapat dikatakan sebagai cluster churn risk.\n",
    "\n",
    "4. `Cluster 3`: Cluster ini memiliki beragam kategori dari segi recency.\n",
    "\n",
    "5. `Cluster 4`: Cluster ini dari segi recency memiliki dominasi pada kategori `New` dan `Active` sehingga dapat dikatakan juga sebagai pelanggan baru.\n",
    "\n",
    "6. `Cluster 5` : Cluster ini memiliki dominasi pada kategori `Inactive`.\n"
   ]
  },
  {
   "cell_type": "code",
   "execution_count": null,
   "id": "7ce53d0a",
   "metadata": {
    "ExecuteTime": {
     "end_time": "2023-05-12T13:41:59.277390Z",
     "start_time": "2023-05-12T13:41:59.220541Z"
    },
    "colab": {
     "base_uri": "https://localhost:8080/",
     "height": 300
    },
    "executionInfo": {
     "elapsed": 111,
     "status": "ok",
     "timestamp": 1683877715935,
     "user": {
      "displayName": "Muhammad Rafi",
      "userId": "02077341653276340637"
     },
     "user_tz": -420
    },
    "id": "7ce53d0a",
    "outputId": "23665488-112d-4d89-f866-af51ca0ca6f0"
   },
   "outputs": [],
   "source": [
    "i = ['New', 'Active','Risk', 'Inactive']\n",
    "result = pd.DataFrame()\n",
    "for label in i:\n",
    "    temp = rfm_df[rfm_df['Recency_Bins']==label]['Recency'].describe()\n",
    "    temp.name = label\n",
    "    result = pd.concat([result, temp], axis=1)\n",
    "result"
   ]
  },
  {
   "cell_type": "code",
   "execution_count": null,
   "id": "ec0745d2",
   "metadata": {
    "ExecuteTime": {
     "end_time": "2023-05-12T13:41:59.464891Z",
     "start_time": "2023-05-12T13:41:59.279384Z"
    },
    "colab": {
     "base_uri": "https://localhost:8080/",
     "height": 269
    },
    "executionInfo": {
     "elapsed": 110,
     "status": "ok",
     "timestamp": 1683877715936,
     "user": {
      "displayName": "Muhammad Rafi",
      "userId": "02077341653276340637"
     },
     "user_tz": -420
    },
    "id": "ec0745d2",
    "outputId": "0240b981-0459-4f16-ebd0-f4cab422e906"
   },
   "outputs": [],
   "source": [
    "cluster_freq = pd.pivot_table(rfm_df, values='customer_unique_id', index='cluster_6', columns='Frequency', aggfunc='count', fill_value=0)\n",
    "\n",
    "cluster_freq"
   ]
  },
  {
   "cell_type": "markdown",
   "id": "c9d22195",
   "metadata": {},
   "source": [
    "**Insight**: \n",
    "\n",
    "Dari segi frekuensi seluruh segmentasi kecuali cluster 3 tidak memiliki pelanggan yang melakukan transaksi lebih dari 1 kali. Hal ini dapat terjadi karena seperti yang sudah diketahui bahwa secara natural dataset ini memang memiliki masalah dalam mempertahankan pelanggan."
   ]
  },
  {
   "cell_type": "code",
   "execution_count": null,
   "id": "9f6e4d8f",
   "metadata": {
    "ExecuteTime": {
     "end_time": "2023-05-12T13:41:59.669376Z",
     "start_time": "2023-05-12T13:41:59.467885Z"
    },
    "colab": {
     "base_uri": "https://localhost:8080/",
     "height": 269
    },
    "executionInfo": {
     "elapsed": 108,
     "status": "ok",
     "timestamp": 1683877715938,
     "user": {
      "displayName": "Muhammad Rafi",
      "userId": "02077341653276340637"
     },
     "user_tz": -420
    },
    "id": "9f6e4d8f",
    "outputId": "c74c1626-4e03-4b84-afe9-116538a30cd6"
   },
   "outputs": [],
   "source": [
    "# buat bins berdasarkan quantile\n",
    "bins = pd.qcut(rfm_df.Monetary, q=4, labels=['low', 'medium', 'high', 'very_high'])\n",
    "\n",
    "rfm_df['Monetary_Bins'] = bins\n",
    "\n",
    "cluster_mon = pd.pivot_table(rfm_df, values='customer_unique_id', index='cluster_6', columns='Monetary_Bins', aggfunc='count', fill_value=0)\n",
    "\n",
    "cluster_mon"
   ]
  },
  {
   "cell_type": "code",
   "execution_count": null,
   "id": "bb26ed68",
   "metadata": {
    "ExecuteTime": {
     "end_time": "2023-05-12T13:41:59.780049Z",
     "start_time": "2023-05-12T13:41:59.671341Z"
    },
    "colab": {
     "base_uri": "https://localhost:8080/",
     "height": 300
    },
    "executionInfo": {
     "elapsed": 108,
     "status": "ok",
     "timestamp": 1683877715940,
     "user": {
      "displayName": "Muhammad Rafi",
      "userId": "02077341653276340637"
     },
     "user_tz": -420
    },
    "id": "bb26ed68",
    "outputId": "227f7d74-e55c-4949-995c-96bc9a261f22"
   },
   "outputs": [],
   "source": [
    "i = ['low', 'medium', 'high', 'very_high']\n",
    "result = pd.DataFrame()\n",
    "for label in i:\n",
    "    temp = rfm_df[rfm_df['Monetary_Bins']==label]['Monetary'].describe()\n",
    "    temp.name = label\n",
    "    result = pd.concat([result, temp], axis=1)\n",
    "result"
   ]
  },
  {
   "cell_type": "markdown",
   "id": "9a8cd244",
   "metadata": {},
   "source": [
    "**Insight**:\n",
    "\n",
    "- `Cluster 0 & 4` cenderung memiliki karakteristik pengeluaran yang serupa yaitu di dominasi oleh pelanggan yang menghabiskan banyak uang.\n",
    "\n",
    "- `Cluster 1, 2 & 5` dalam segi monetary memiliki karakteristik yang serupa yaitu di dominasi oleh pelanggan yang sedikit menghabiskan uangnya.\n",
    "\n",
    "- `Cluster 3` dalam segi monetary cukup beragam namun memiliki dominasi pada pelanggan yang menghabiskan banyak uang."
   ]
  },
  {
   "cell_type": "code",
   "execution_count": null,
   "id": "a72ee84a",
   "metadata": {
    "ExecuteTime": {
     "end_time": "2023-05-12T13:41:59.859871Z",
     "start_time": "2023-05-12T13:41:59.784039Z"
    },
    "colab": {
     "base_uri": "https://localhost:8080/",
     "height": 358
    },
    "executionInfo": {
     "elapsed": 108,
     "status": "ok",
     "timestamp": 1683877715942,
     "user": {
      "displayName": "Muhammad Rafi",
      "userId": "02077341653276340637"
     },
     "user_tz": -420
    },
    "id": "a72ee84a",
    "outputId": "8466f046-41d8-421a-f256-a967eeaeb0a3"
   },
   "outputs": [],
   "source": [
    "# Buat dataframe dengan pivot table\n",
    "pivot_table = rfm_df.pivot_table(index='cluster_6', values=['Recency', 'Frequency', 'Monetary'], aggfunc='mean') # \n",
    "\n",
    "# Definisikan gradasi warna merah\n",
    "cmap = plt.cm.get_cmap('Reds')\n",
    "\n",
    "# Tambahkan parameter samping untuk menunjukkan tinggi rendahnya angka dalam gradasi warna merah\n",
    "pivot_table.style.background_gradient(cmap=cmap).format('{:.2f}')"
   ]
  },
  {
   "cell_type": "markdown",
   "id": "d55fe55b",
   "metadata": {
    "id": "d55fe55b"
   },
   "source": [
    "| Nama Cluster | Arti Cluster | Deskripsi Cluster |\n",
    "|:--------------:|:--------------:|:---------------------:|\n",
    "|Cluster 0 | Sleeping Giant | Cluster ini merupakan cluster yang dahulunya merupakan Big Spender, namun saat ini mereka sudah tidak aktif lagi berbelanja. Berdasarkan Recency nya mereka sudah tidak beraktifitas lebih dari 7 bulan, lalu pelanggan ini juga memiliki frekuensi hanya 1 kali  serta cluster ini memiliki tingkat monetary yang besar yaitu dengan rata-rata R200.43 yang merupakan tingkat monetary terbesar ke-1 dari seluruh cluster. Sehingga dengan demikian untuk kita perlu memperhatikan mereka agar tetap kembali aktif.|\n",
    "|Cluster 1 | Newcomers | Karakteristik pelanggan yang baru melakukan pembelian pertama dengan mayoritas recency (0-6 bulan) namun mayoritas data berada pada range 0-3 bulan. Pelanggan ini memiliki frekuensi mayoritas sebanyak 1 kali serta Pelanggan ini memiliki tingkat pengeluaran kecil dengan rata-rata R59.99. Cluster ini memiliki jumlah data terbanyak ke-2 setelah cluster big spender dengan total pelanggan 16k orang. Sehingga dengan demikian cluster ini perlu diperhatikan karena dapat berpotensi menjadi pelanggan setia di masa depan.|\n",
    "|Cluster 2 | Churn Risk | Cluster pelanggan ini merupakan pelanggan yang tidak terlalu lama  sekitar 4-9 bulan dengan dominasi pada range 7-9 bulan. Cluster ini hanya memiliki 1 kali frekuensi dengan rata rata pengeluaran sebesar R66.20 yang termasuk rendah dibanding cluster lainnya. Sehingga perlu di coba untuk meretain mereka agar tidak menjadi Lost Customer. |\n",
    "|Cluster 3 | Loyalist | Cluster ini dapat dikategorikan sebagai cluster terbaik serta loyal, karena berdasarkan Recency di dominasi pelanggan yang beraktifitas dalam kurun waktu 0-7 bulan. Pelanggan ini memiliki frekuensi lebih dari 1 kali terbanyak serta pelanggan ini memiliki rata-rata pengeluaran yang besar yaitu sebesar R241.79. Walaupun cluster ini sudah menjadi yang terbaik namun kita tetap harus menjaga mereka untuk menjadi pelanggan setia. |\n",
    "|Cluster 4 | Big Spenders | Pelanggan ini memiliki karakteristik baru melakukan pembelian pertama-nya dengan range recency (0-9 bulan) dengan dominasi pelanggan di range 0-6 bulan. Secara frekuensi pelanggan ini memiliki memiliki pelanggan yang mempunyai frekuensi hanya 1 kali, serta pelanggan ini memiliki rata-rata pengeluaran yang cenderung menengah-atas R189.97. Sehingga dengan demikian cluster ini memiliki potensi menjadi pelanggan setia dengan pengeluaran besar di masa depan. |\n",
    "|Cluster 5 | Lost Customer | Cluster pelanggan ini merupakan pelanggan yang sudah lama tidak melakukan pembelian dengan dominasi range recency lebih dari 12 bulan. Cluster ini juga memiliki frekuensi hanya 1 kali selain itu pelanggan ini juga memiliki tingkat monetary yang cenderung kecil yaitu dengan rata-rata R65.18. Sehingga Perlu dicoba untuk mengaktifkan kembali minat mereka agar tetap menjadi pelanggan setia Anda.|\n"
   ]
  },
  {
   "cell_type": "markdown",
   "id": "72528d64",
   "metadata": {
    "id": "72528d64"
   },
   "source": [
    "Setelah melakukan analisis lebih lanjut, kami menemukan bahwa menggunakan 6 buah cluster memberikan hasil yang lebih baik dibandingkan dengan 5 buah cluster. Keputusan ini didasarkan pada visualisasi yang lebih mudah dipahami serta pembentukan cluster yang lebih detail dan jelas. Oleh karena itu, kami memutuskan untuk melanjutkan analisis dengan menggunakan 6 buah cluster guna mendapatkan pemahaman yang lebih mendalam mengenai karakteristik pelanggan."
   ]
  },
  {
   "cell_type": "code",
   "execution_count": null,
   "id": "a6519870",
   "metadata": {
    "ExecuteTime": {
     "end_time": "2023-05-12T13:56:55.786070Z",
     "start_time": "2023-05-12T13:56:55.752172Z"
    },
    "id": "a6519870"
   },
   "outputs": [],
   "source": [
    "# Mengubah penamaan cluster menjadi lebih interpretable\n",
    "rfm_df['cluster_name'] = np.where(rfm_df['cluster_6'] == 0, 'Sleeping Giant',\n",
    "                            np.where(rfm_df['cluster_6'] == 1, 'Newcomers',\n",
    "                                    np.where(rfm_df['cluster_6'] == 2, 'Churn Risk',\n",
    "                                            np.where(rfm_df['cluster_6'] == 3, 'Loyalist',\n",
    "                                                     np.where(rfm_df['cluster_6'] == 4, 'Big Spenders', 'Lost Customer')\n",
    "                                                    ))))"
   ]
  },
  {
   "cell_type": "markdown",
   "id": "217bf707",
   "metadata": {
    "id": "217bf707"
   },
   "source": [
    "# Segmentasi Analysis\n",
    "\n",
    "Setelah melakukan pengelompokkan cluster berdasarkan RFM Analysis, langkah selanjutnya adalah melakukan analisis terhadap setiap segmentasi yang terbentuk dengan menganalisisnya menggunakan fitur lain. Dengan demikian, akan didapatkan informasi yang lebih lengkap mengenai perilaku dan karakteristik dari setiap segmen pelanggan. Hal ini akan membantu dalam pengambilan keputusan strategis, seperti mengembangkan produk, meningkatkan loyalitas pelanggan, atau meningkatkan efektivitas pemasaran untuk setiap segmen pelanggan."
   ]
  },
  {
   "cell_type": "code",
   "execution_count": null,
   "id": "d4d5cb93",
   "metadata": {
    "ExecuteTime": {
     "end_time": "2023-05-12T13:56:57.423475Z",
     "start_time": "2023-05-12T13:56:57.394527Z"
    },
    "id": "d4d5cb93"
   },
   "outputs": [],
   "source": [
    "# Membuat cluster yang nantinya akan digabungkan dengan df\n",
    "cluster = rfm_df[['customer_unique_id', 'Recency', 'Frequency', 'Monetary',  'cluster_6', 'cluster_name']].copy()\n",
    "# cluster.rename(columns={'cluster_6': 'cluster'}, inplace=True)"
   ]
  },
  {
   "cell_type": "code",
   "execution_count": null,
   "id": "df279483",
   "metadata": {
    "ExecuteTime": {
     "end_time": "2023-05-12T13:57:27.804675Z",
     "start_time": "2023-05-12T13:57:27.688277Z"
    },
    "id": "df279483"
   },
   "outputs": [],
   "source": [
    "# Menggabungkan hasil pembentukan cluster dengan dataframe df untuk dilakukan analisa kembali\n",
    "df = df.merge(cluster, how='left', on='customer_unique_id')\n",
    "df = df.drop(columns='Total')"
   ]
  },
  {
   "cell_type": "code",
   "execution_count": null,
   "id": "c39bdb81",
   "metadata": {
    "ExecuteTime": {
     "end_time": "2023-05-12T13:57:29.516931Z",
     "start_time": "2023-05-12T13:57:29.502971Z"
    },
    "id": "c39bdb81"
   },
   "outputs": [],
   "source": [
    "# membuat variabel recency_month\n",
    "df['Recency_Month'] = df['Recency'] // 30"
   ]
  },
  {
   "cell_type": "code",
   "execution_count": null,
   "id": "13c96022",
   "metadata": {
    "ExecuteTime": {
     "end_time": "2023-05-12T13:57:30.092474Z",
     "start_time": "2023-05-12T13:57:30.065514Z"
    },
    "id": "13c96022"
   },
   "outputs": [],
   "source": [
    "# membuat variabel recency_period\n",
    "df['Recency_Period'] = np.where(df['Recency_Month'] <= 3, '<=3 Month',\n",
    "                                np.where(df['Recency_Month'] <= 6, '4-6 Month',\n",
    "                                        np.where(df['Recency_Month'] <= 9, '7-9 Month', '>12 Month')))"
   ]
  },
  {
   "cell_type": "code",
   "execution_count": null,
   "id": "93957577",
   "metadata": {
    "ExecuteTime": {
     "end_time": "2023-05-12T13:57:30.481849Z",
     "start_time": "2023-05-12T13:57:30.451919Z"
    },
    "id": "93957577"
   },
   "outputs": [],
   "source": [
    "# membuat variabel recency_period\n",
    "df['Frequency_Period'] = np.where(df['Frequency'] == 1, '1 times',\n",
    "                                np.where(df['Frequency'] == 2, '2 times',\n",
    "                                        np.where(df['Frequency'] == 3, '3 times',\n",
    "                                                np.where(df['Frequency'] == 4, '4 times', '>=5 times'))))"
   ]
  },
  {
   "cell_type": "code",
   "execution_count": null,
   "id": "ec041e80",
   "metadata": {
    "ExecuteTime": {
     "end_time": "2023-05-12T13:57:31.031014Z",
     "start_time": "2023-05-12T13:57:30.901151Z"
    },
    "id": "ec041e80"
   },
   "outputs": [],
   "source": [
    "# Membuat variabel lifespan\n",
    "df[\"order_approved_at\"] = pd.to_datetime(df['order_approved_at'])\n",
    "latest_date = df[\"order_approved_at\"].max()\n",
    "\n",
    "df[\"Lifespan\"] = latest_date - df.groupby(\"customer_unique_id\")[\"order_approved_at\"].transform(\"max\")\n",
    "\n",
    "df[\"Lifespan\"] = df[\"Lifespan\"].dt.days\n",
    "\n",
    "df['Lifespan_Month'] = df['Lifespan'] // 30\n",
    "\n",
    "df['Lifespan_Period'] = np.where(df['Lifespan_Month'] <= 3, '<=3 Month',\n",
    "                                np.where(df['Lifespan_Month'] <= 6, '4-6 Month',\n",
    "                                        np.where(df['Lifespan_Month'] <= 9, '7-9 Month', '>12 Month')))"
   ]
  },
  {
   "cell_type": "code",
   "execution_count": null,
   "id": "d6569a4d",
   "metadata": {
    "ExecuteTime": {
     "end_time": "2023-05-12T13:57:40.797311Z",
     "start_time": "2023-05-12T13:57:40.663666Z"
    },
    "colab": {
     "base_uri": "https://localhost:8080/",
     "height": 542
    },
    "executionInfo": {
     "elapsed": 167,
     "status": "ok",
     "timestamp": 1683877717038,
     "user": {
      "displayName": "Muhammad Rafi",
      "userId": "02077341653276340637"
     },
     "user_tz": -420
    },
    "id": "d6569a4d",
    "outputId": "bbabbf24-7608-4756-e042-5d1e07152470"
   },
   "outputs": [],
   "source": [
    "pt = df.pivot_table(index='Category', columns='cluster_name', values='order_id', aggfunc='count', fill_value=0)\n",
    "\n",
    "# list warna\n",
    "colors = ['rgba(50, 171, 96, 0.6)', 'rgba(128, 0, 128, 0.6)', 'rgba(255, 69, 0, 0.6)', \n",
    "          'rgba(255, 215, 0, 0.6)', 'rgba(220, 20, 60, 0.6)', 'rgba(0, 191, 255, 0.6)', \n",
    "          'rgba(0, 0, 205, 0.6)', 'rgba(255, 99, 71, 0.6)']\n",
    "\n",
    "# Menghitung rata-rata jumlah untuk setiap kategori\n",
    "avg_values = pt.mean(axis=1)\n",
    "\n",
    "fig = go.Figure()\n",
    "\n",
    "for i, col in enumerate(pt.columns):\n",
    "    fig.add_trace(\n",
    "        go.Bar(\n",
    "            x=pt.index,\n",
    "            y=pt[col],\n",
    "            name=col,\n",
    "            text=pt[col],\n",
    "            textposition='auto',\n",
    "            marker=dict(\n",
    "                color=colors[i],\n",
    "                line=dict(\n",
    "                    color='rgba(50, 171, 96, 1.0)',\n",
    "                    width=1\n",
    "                )\n",
    "            )\n",
    "        )\n",
    "    )\n",
    "\n",
    "# Menambahkan garis rata-rata\n",
    "fig.add_trace(\n",
    "    go.Scatter(\n",
    "        x=pt.index,\n",
    "        y=avg_values,\n",
    "        mode='lines',\n",
    "        name='Average',\n",
    "        line=dict(\n",
    "            color='black',\n",
    "            width=2,\n",
    "            dash='dash'\n",
    "        )\n",
    "    )\n",
    ")\n",
    "\n",
    "fig.update_layout(\n",
    "    title='Pivot Table Barplot with Average Line',\n",
    "    xaxis_tickangle=-45,\n",
    "    xaxis_title='Category',\n",
    "    yaxis_title='Count',\n",
    "    barmode='group',\n",
    "    bargap=0.15,\n",
    "    bargroupgap=0.1\n",
    ")\n",
    "\n",
    "fig.show()"
   ]
  },
  {
   "cell_type": "markdown",
   "id": "c1f7c6cf",
   "metadata": {
    "id": "c1f7c6cf"
   },
   "source": [
    "**Insight**:\n",
    "\n",
    "- Jika diperhatikan tiap cluster memiliki pola yang hampir sama untuk penjualan di tiap kategori-nya, dimana big spender selalu mendominasi penjualan hampir di tiap kategori kecuali pada kategori `clothing & apparel`, `food & beverages`, dan `Games / Entertainment` yang berurutan didominasi oleh churn risk, newcomers, dan sleeping giant.\n",
    "\n",
    "- **Big Spenders**, memiliki minat yang besar terhadap `Electronics & Gadgets`, `Furniture`, `Health & Beauty`, `Sport Products`, hal ini terlihat dari jumlah pembeli yang jauh melebihi jauh dari rata-rata penjualan kategori tersebut.\n",
    "\n",
    "- **Loyalist**, jumlah nya terlihat lebih rendah dibandingkan seluruh cluster lainnya dan jauh dibawah rata-rata penjualan tiap kategori tersebut. Untuk meningkatkan penjualan di tiap kategori nya kita dapat melakukannya dengan cara memberikan diskon / penawaran khusus untuk cluster ini.\n",
    "\n",
    "- **Churn Risk**, memiliki minat yang tinggi juga pada kategori `furniture` serta pada kategori `clothing dan apparel` miliki penjualan tertinggi dibanding segmentasi lainnya, kerena potensi ini sehingga kita bisa membuat churn risk lebih tertarik lagi pada kategori tersebut. Selain itu kategori ini juga memiliki beberapa kategori yang dapat dimanfaatkan untuk mencegah mereka churn diantaranya `Electronics`, `Health and Beauty`, `Sports Products`.\n",
    "\n",
    "- **Sleeping Giant**, terlihat dari pola memiliki tingkat penjualan hampir selalu di bawah rata rata penjualan di kategori nya, cluster ini memiliki keteratrikan yang cukup besar terhadap kategori `furniture` yang memiliki penjualan diatas rata-rata serta `Entertainment` hal ini bisa dilihat dari gap penjualan di kategori tersebut yang cukup tinggi.\n",
    "\n",
    "- **Lost Customer**, terlihat memiliki penjualan yang cenderung di bawah rata rata per kategori nya, namun kluster ini memiliki penjualan tertinggi di `Furniture`.\n",
    "\n",
    "- **Newcomers**, memiliki tren yang mendekati rata rata dari penjualan kategori, jika diperhatikan mereka memiliki tingkat penjualan tertinggi dibanding cluster lainnya pada kategori `food and beverages`, sehingga kita bisa memaksimalkan hal ini untuk terus meningkatkan penjualan di kategori tersebut, selain itu segmentasi customer ini juga memiliki potensi ketertarikan pada `furniture`, `electronics`, dan `health and beauty` hal ini terlihat dari tren penjualan nya yang sedikit diatas rata-rata."
   ]
  },
  {
   "cell_type": "code",
   "execution_count": null,
   "id": "b1b6520f",
   "metadata": {
    "ExecuteTime": {
     "end_time": "2023-05-12T13:57:42.831342Z",
     "start_time": "2023-05-12T13:57:42.692713Z"
    },
    "colab": {
     "base_uri": "https://localhost:8080/",
     "height": 542
    },
    "executionInfo": {
     "elapsed": 165,
     "status": "ok",
     "timestamp": 1683877717040,
     "user": {
      "displayName": "Muhammad Rafi",
      "userId": "02077341653276340637"
     },
     "user_tz": -420
    },
    "id": "b1b6520f",
    "outputId": "8b46c87a-4970-4fa4-ad4e-fc66287f21ac",
    "scrolled": false
   },
   "outputs": [],
   "source": [
    "# membuat pivot tabel untuk menghitung tipe pembayaran berdasarkan cluster\n",
    "pivot_table = pd.pivot_table(df, \n",
    "                             values='customer_unique_id', \n",
    "                             index=['cluster_name'], \n",
    "                             columns=['payment_type'], \n",
    "                             aggfunc='count', \n",
    "                             fill_value=0)\n",
    "\n",
    "# menghitung proporsi setiap cluster\n",
    "payment_type_props = pivot_table.apply(lambda x: x/x.sum(), axis=1)\n",
    "\n",
    "payment_type_props = payment_type_props.reset_index()\n",
    "\n",
    "# Membuat grafik menggunakan plotly\n",
    "payment_type_props_melted = payment_type_props.melt(id_vars=['cluster_name'], \n",
    "                                                   var_name='payment_type', \n",
    "                                                   value_name='prop')\n",
    "fig = px.bar(payment_type_props_melted, \n",
    "             x=\"cluster_name\", \n",
    "             y=\"prop\", \n",
    "             color=\"payment_type\",\n",
    "             barmode='stack')\n",
    "fig.update_layout(title='Payment Types for Each Cluster Name',\n",
    "                  xaxis_title='Cluster Name',\n",
    "                  yaxis_title='Proportion of Payment Types')\n",
    "fig.show()"
   ]
  },
  {
   "cell_type": "markdown",
   "id": "046d352b",
   "metadata": {
    "id": "046d352b"
   },
   "source": [
    "Dari sini terlihat bahwa dari seluruh segmentasi memiliki kesamaan dalam hal tipe pembayaran. Metode Pembayaran yang dominan digunakan oleh customers adalah `credit_card` lalu diikuti oleh `boleto (pembayaran khusus)` lalu diikuti oleh penggunaan voucher dan terakhir yaitu `debit_card`.\n",
    "\n",
    "Berdasarkan temuan tersebut, satu solusi yang bisa diterapkan untuk mempertahankan retensi pelanggan adalah dengan memberikan insentif khusus pada penggunaan metode pembayaran tertentu, terutama credit_card dan boleto. Hal ini bisa dilakukan dengan memberikan `potongan harga` atau `reward points` yang lebih tinggi untuk transaksi yang menggunakan metode pembayaran tersebut. Selain itu, perusahaan juga bisa mempertimbangkan untuk `memperluas pilihan metode pembayaran` yang tersedia, sehingga pelanggan memiliki lebih banyak pilihan dan bisa menggunakan metode pembayaran yang paling nyaman untuk mereka. Dengan cara ini, diharapkan dapat meningkatkan loyalitas pelanggan dan mempertahankan retensi pelanggan."
   ]
  },
  {
   "cell_type": "code",
   "execution_count": null,
   "id": "22aee536",
   "metadata": {
    "ExecuteTime": {
     "end_time": "2023-05-12T13:57:46.978972Z",
     "start_time": "2023-05-12T13:57:46.567156Z"
    },
    "colab": {
     "base_uri": "https://localhost:8080/",
     "height": 542
    },
    "executionInfo": {
     "elapsed": 164,
     "status": "ok",
     "timestamp": 1683877717042,
     "user": {
      "displayName": "Muhammad Rafi",
      "userId": "02077341653276340637"
     },
     "user_tz": -420
    },
    "id": "22aee536",
    "outputId": "7e3d4dc3-cd45-43a1-f4b1-5a65a2a22f51",
    "scrolled": false
   },
   "outputs": [],
   "source": [
    "fig = px.box(df, x=\"cluster_name\", y=\"price\", color=\"cluster_name\")\n",
    "fig.show()"
   ]
  },
  {
   "cell_type": "markdown",
   "id": "fa7ee08a",
   "metadata": {
    "id": "fa7ee08a"
   },
   "source": [
    "**Insight**:\n",
    "\n",
    "Sleeping Giant, Big Spenders dan Loyalist memiliki ketertarikan terhadap barang-barang yang memiliki harga cenderung tinggi jika dibandingkan dengan 3 cluster lainnya."
   ]
  },
  {
   "cell_type": "code",
   "execution_count": null,
   "id": "b252cd06",
   "metadata": {
    "ExecuteTime": {
     "end_time": "2023-05-12T13:57:48.866253Z",
     "start_time": "2023-05-12T13:57:48.794449Z"
    },
    "colab": {
     "base_uri": "https://localhost:8080/",
     "height": 542
    },
    "executionInfo": {
     "elapsed": 126,
     "status": "ok",
     "timestamp": 1683877717043,
     "user": {
      "displayName": "Muhammad Rafi",
      "userId": "02077341653276340637"
     },
     "user_tz": -420
    },
    "id": "b252cd06",
    "outputId": "56a1e65a-a39b-48cd-ed85-cb6368d3bd9a",
    "scrolled": false
   },
   "outputs": [],
   "source": [
    "# pivot tabel untuk menghitung recency period berdasarkan cluster\n",
    "pivot_table = pd.pivot_table(df, values='customer_unique_id', index='cluster_name', columns='Recency_Period', aggfunc='count', fill_value=0)\n",
    "\n",
    "# normalize proporsi\n",
    "prop_table = pivot_table.div(pivot_table.sum(axis=1), axis=0)\n",
    "prop_table = prop_table[['<=3 Month', '4-6 Month', '7-9 Month', '>12 Month']]\n",
    "\n",
    "# membuat grafik\n",
    "fig = go.Figure(data=[go.Bar(x=prop_table.columns, y=prop_table.loc[cluster_name], name=cluster_name) for cluster_name in prop_table.index])\n",
    "fig.update_layout(barmode='stack', xaxis_title='Recency Period', yaxis_title='Proportion', title='Recency Period for Each Cluster Name')\n",
    "fig.show()"
   ]
  },
  {
   "cell_type": "markdown",
   "id": "8bebd43a",
   "metadata": {
    "id": "8bebd43a"
   },
   "source": [
    "**Insight**:\n",
    "\n",
    "- Proporsi pengguna yang sudah tidak aktif yang paling banyak adalah yang lebih dari 12 bulan.\n",
    "- Loyalist memiliki range pembelian yang cukup variatif, namun tetap dimoniasi oleh mereka yang tetap aktif dalam kurun waktu 3 bulan terakhir.\n",
    "- Sleeping Giant memiliki proporsi yang cukup besar, sehingga akan lebih baik apabila kita dapat mempertahankan segmentasi customer tersebut.\n",
    "- Untuk meningkatkan retensi pelanggan, dapat dilakukan strategi pemasaran khusus untuk kelompok ini, seperti memberikan penawaran khusus atau diskon untuk mendorong mereka untuk melakukan pembelian kembali. Selain itu, perlu dilakukan analisis lebih lanjut untuk memahami penyebab dari \"sleeping giants\" dan \"lost customers\" serta mencari solusi yang tepat untuk menarik kembali ke aktifitas pembelian."
   ]
  },
  {
   "cell_type": "code",
   "execution_count": null,
   "id": "2dc59f0b",
   "metadata": {
    "ExecuteTime": {
     "end_time": "2023-05-12T13:57:52.307878Z",
     "start_time": "2023-05-12T13:57:52.234073Z"
    },
    "colab": {
     "base_uri": "https://localhost:8080/",
     "height": 542
    },
    "executionInfo": {
     "elapsed": 124,
     "status": "ok",
     "timestamp": 1683877717045,
     "user": {
      "displayName": "Muhammad Rafi",
      "userId": "02077341653276340637"
     },
     "user_tz": -420
    },
    "id": "2dc59f0b",
    "outputId": "7ad5af6b-aad3-40f8-fa6b-ec78eec46465",
    "scrolled": false
   },
   "outputs": [],
   "source": [
    "# Membuat pivot tabel dengan frekuensi\n",
    "pivot_table = pd.pivot_table(df, values='customer_unique_id', index='Frequency_Period', columns='cluster_name', aggfunc='count', fill_value=0)\n",
    "\n",
    "# normalize proporsi\n",
    "prop_table = pivot_table.div(pivot_table.sum(axis=0), axis=1)\n",
    "\n",
    "# Membuat stack barplot\n",
    "fig = go.Figure(data=[go.Bar(x=prop_table.columns, y=prop_table.loc[cluster_name], name=cluster_name) for cluster_name in prop_table.index])\n",
    "fig.update_layout(barmode='stack', xaxis_title='Frequency Period', yaxis_title='Proportion', title='Frequency Period for Each Cluster Name')\n",
    "fig.show()"
   ]
  },
  {
   "cell_type": "markdown",
   "id": "ec658352",
   "metadata": {
    "id": "ec658352"
   },
   "source": [
    "**Insight**:\n",
    "\n",
    "Dari sini terlihat bahwa memang permasalahan di Olist Brazillian E-Commerce adalah dalam menangani retensi dari customers. Berdasarkan informasi diatas terlihat bahwa customer dominan melakukan transaksi hanya 1 kali saja. Oleh karena itu, perusahaan perlu memperkuat strategi retensi pelanggan dan memikirkan cara untuk membuat pelanggan menjadi lebih loyal pada bisnis mereka."
   ]
  },
  {
   "cell_type": "code",
   "execution_count": null,
   "id": "8837e1b9",
   "metadata": {
    "ExecuteTime": {
     "end_time": "2023-05-12T13:42:03.649984Z",
     "start_time": "2023-05-12T13:42:03.529306Z"
    },
    "colab": {
     "base_uri": "https://localhost:8080/",
     "height": 542
    },
    "executionInfo": {
     "elapsed": 94,
     "status": "ok",
     "timestamp": 1683877717048,
     "user": {
      "displayName": "Muhammad Rafi",
      "userId": "02077341653276340637"
     },
     "user_tz": -420
    },
    "id": "8837e1b9",
    "outputId": "77b0f9cf-d1bb-41a1-b6e1-0a57c14cfc43"
   },
   "outputs": [],
   "source": [
    "# Membuat pivot tabel untuk order_day\n",
    "pivot_table = pd.pivot_table(df, values='customer_unique_id', index='cluster_name', columns='order_day', aggfunc='count', fill_value=0)\n",
    "\n",
    "# normalize proporsi\n",
    "prop_table = pivot_table.div(pivot_table.sum(axis=1), axis=0)\n",
    "prop_table = prop_table[['Monday', 'Tuesday', 'Wednesday', 'Thursday', 'Friday', 'Saturday', 'Sunday']]\n",
    "\n",
    "# membuat stacked barplot\n",
    "fig = go.Figure(data=[go.Bar(x=prop_table.columns, y=prop_table.loc[cluster_name], name=cluster_name) for cluster_name in prop_table.index])\n",
    "fig.update_layout(barmode='stack', xaxis_title='Order Day', yaxis_title='Proportion', title='Order Day for Each Cluster Name')\n",
    "fig.show()"
   ]
  },
  {
   "cell_type": "markdown",
   "id": "087a0333",
   "metadata": {
    "id": "087a0333"
   },
   "source": [
    "**Insight**:\n",
    "\n",
    "- Terjadi penurunan yang tidak terlalu signifikan pada Weekdays\n",
    "\n",
    "- Weekend cenderung lebih rendah dibandingkan Weekdays\n",
    "\n",
    "- Kita dapat memanfaatkan momen Weekend untuk meningkatkan penjualan, sehingga kita perlu membuat sebuah campaign yang berlaku hanya pada weekend untuk meningkatkan penjualan di weekend.\n"
   ]
  },
  {
   "cell_type": "code",
   "execution_count": null,
   "id": "74d7d2ee",
   "metadata": {
    "colab": {
     "referenced_widgets": [
      "fb9d6719819e4057abeeb0b1f93936d1"
     ]
    },
    "id": "74d7d2ee",
    "outputId": "0e644d6e-68a9-4ba1-ee3f-0b49bbe2e79e"
   },
   "outputs": [],
   "source": [
    "# Membuat grafik penjualan mingguan\n",
    "df_copy = df.copy()\n",
    "\n",
    "df_copy['order_approved_at'] = pd.to_datetime(df_copy['order_approved_at'])\n",
    "df_copy['Month'] = df_copy['order_approved_at'].dt.month\n",
    "df_copy['Week'] = pd.qcut(df_copy['order_approved_at'].dt.day, q=4, labels=False)\n",
    "\n",
    "monthly_sales = df_copy.groupby(['Month', 'Week'])['payment_value'].sum().reset_index()\n",
    "\n",
    "@interact\n",
    "def plot_sales_by_month(month=Dropdown(options=df_copy['Month'].unique())):\n",
    "    month_data = monthly_sales[monthly_sales['Month'] == month]\n",
    "    \n",
    "    fig = px.bar(month_data, x='Week', y='payment_value',\n",
    "                 labels={'payment_value': 'Penjualan', 'Week': 'Minggu'},\n",
    "                 title=f'Penjualan Mingguan Bulan {month}')\n",
    "    \n",
    "    fig.update_layout(xaxis=dict(tickmode='array', tickvals=[0, 1, 2, 3], ticktext=['Minggu 1', 'Minggu 2', 'Minggu 3', 'Minggu 4']))\n",
    "    \n",
    "    fig.show()"
   ]
  },
  {
   "cell_type": "code",
   "execution_count": null,
   "id": "415bdf00",
   "metadata": {
    "colab": {
     "referenced_widgets": [
      "2a5e4303b3a34282b3bc1a0f7d9c1947"
     ]
    },
    "id": "415bdf00",
    "outputId": "ae29b9cb-7f86-4101-b183-ac9a8f2ec1d2"
   },
   "outputs": [],
   "source": [
    "df_copy = df.copy()\n",
    "\n",
    "df_copy['order_approved_at'] = pd.to_datetime(df_copy['order_approved_at'])\n",
    "df_copy['Month'] = df_copy['order_approved_at'].dt.month\n",
    "df_copy['Week'] = pd.qcut(df_copy['order_approved_at'].dt.day, q=4, labels=False)\n",
    "\n",
    "monthly_sales = df_copy.groupby(['Month', 'Week', 'cluster_name'])['payment_value'].sum().reset_index()\n",
    "\n",
    "@interact\n",
    "def plot_sales_by_month(month=Dropdown(options=df_copy['Month'].unique()), cluster=Dropdown(options=df_copy['cluster_name'].unique())):\n",
    "    month_data = monthly_sales[(monthly_sales['Month'] == month) & (monthly_sales['cluster_name'] == cluster)]\n",
    "    \n",
    "    fig = px.bar(month_data, x='Week', y='payment_value',\n",
    "                 labels={'payment_value': 'Penjualan', 'Week': 'Minggu'},\n",
    "                 title=f'Penjualan Mingguan Bulan {month} (Cluster {cluster})')\n",
    "    \n",
    "    fig.update_layout(xaxis=dict(tickmode='array', tickvals=[0, 1, 2, 3], ticktext=['Minggu 1', 'Minggu 2', 'Minggu 3', 'Minggu 4']))\n",
    "    \n",
    "    fig.show()\n"
   ]
  },
  {
   "cell_type": "markdown",
   "id": "f75f9c1b",
   "metadata": {
    "id": "f75f9c1b"
   },
   "source": [
    "**Insight**:\n",
    "\n",
    "- Penjualan tertinggi pada Pekan-1 terjadi pada bulan `Februari`, `May`, `Juni`, `Agustus` dan `Desember`.\n",
    "- Penjualan tertinggi pada Pekan-3 terjadi pada bulan `Januari`, `Maret`, `September`, dan `Oktober`\n",
    "- Penjualan tertinggi pada Pekan-4 terjadi pada bulan `Juli` dan `November`\n",
    "- Penjualan pada Pekan-2 belum pernah mencapai puncak jika dibandingkan dengan pekan lainnya\n",
    "- Untuk meningkatkan sales kita dapat menggunakan beberapa strategi diantaranya adalah memberikan `flash-sale` yang terjadi pada Pekan-1 karena berdasarkan data Pekan-1 terjadi puncak terbanyak, atau kita menerapkan nya pada pekan-2 dengan tujuan meningkatkan salses pada pekan-2 tiap bulannya."
   ]
  },
  {
   "cell_type": "code",
   "execution_count": null,
   "id": "d8cf9975",
   "metadata": {
    "ExecuteTime": {
     "end_time": "2023-05-12T13:42:03.745243Z",
     "start_time": "2023-05-12T13:42:03.652979Z"
    },
    "colab": {
     "base_uri": "https://localhost:8080/",
     "height": 269
    },
    "executionInfo": {
     "elapsed": 86,
     "status": "ok",
     "timestamp": 1683877717050,
     "user": {
      "displayName": "Muhammad Rafi",
      "userId": "02077341653276340637"
     },
     "user_tz": -420
    },
    "id": "d8cf9975",
    "outputId": "2948fd6c-e1aa-4f45-fe47-dc65bcb241ee"
   },
   "outputs": [],
   "source": [
    "# buat bins berdasarkan quantile\n",
    "bins = pd.qcut(df.delivery_time_days, q=4, labels=['quick', 'normal', 'slow', '?'])\n",
    "\n",
    "df['delivery_time_days_bins'] = bins\n",
    "\n",
    "delivery_time_days_bins = pd.pivot_table(df, values='customer_unique_id', index='cluster_name', columns='delivery_time_days_bins', aggfunc='count', fill_value=0)\n",
    "\n",
    "delivery_time_days_bins"
   ]
  },
  {
   "cell_type": "code",
   "execution_count": null,
   "id": "13f5bb2d",
   "metadata": {
    "ExecuteTime": {
     "end_time": "2023-05-12T13:42:03.839504Z",
     "start_time": "2023-05-12T13:42:03.747236Z"
    },
    "colab": {
     "base_uri": "https://localhost:8080/",
     "height": 300
    },
    "executionInfo": {
     "elapsed": 83,
     "status": "ok",
     "timestamp": 1683877717051,
     "user": {
      "displayName": "Muhammad Rafi",
      "userId": "02077341653276340637"
     },
     "user_tz": -420
    },
    "id": "13f5bb2d",
    "outputId": "556b4cbd-83fe-445b-91e6-2df322c80fe8"
   },
   "outputs": [],
   "source": [
    "i = ['quick', 'normal', 'slow', '?']\n",
    "result = pd.DataFrame()\n",
    "for label in i:\n",
    "    temp = df[df['delivery_time_days_bins']==label]['delivery_time_days'].describe()\n",
    "    temp.name = label\n",
    "    result = pd.concat([result, temp], axis=1)\n",
    "result"
   ]
  },
  {
   "cell_type": "markdown",
   "id": "ecb1162c",
   "metadata": {
    "id": "ecb1162c"
   },
   "source": [
    "Secara keseluruhan, penting untuk memperhatikan waktu pengiriman dan memastikan pengiriman yang cepat dan konsisten untuk meningkatkan retensi pelanggan.\n",
    "\n",
    "Dari informasi diatas kita perlu melakukan evaluasi terkait kebijakan pengiriman barang terutama yang dapat dikendalikan oleh sellers. Seperti memberikan jaminan atau garansi sampai dalam waktu tertentu. Kebijakan seperti ini dapat membantu meningkatkan pada sektor `Food and Beverages` untuk memastikan kualitas dari makanan itu sendiri."
   ]
  },
  {
   "cell_type": "code",
   "execution_count": null,
   "id": "410aa1b9",
   "metadata": {},
   "outputs": [],
   "source": [
    "# save to csv\n",
    "df.to_csv('cluster_6.csv', index=False)"
   ]
  },
  {
   "cell_type": "markdown",
   "id": "7506a7bc",
   "metadata": {
    "id": "7506a7bc"
   },
   "source": [
    "# Recommendation"
   ]
  },
  {
   "cell_type": "markdown",
   "id": "b57c62c0",
   "metadata": {
    "id": "b57c62c0"
   },
   "source": [
    "Berdasarkan hasil analisa dan informasi yang telah diperoleh sebelumnya kita memutuskan untuk menghasilkan 2 buah rekomendasi dalam scope yang berbeda yaitu secara general dan berdasarkan hasil analisa dengan RFM Analisis. Scope rekomendasi secara general diperoleh berdsarkan informasi yang diperoleh dari EDA dan domain knowledge terkait, sedangkan Scope rekomendasi untuk hasil segmentasi diperoleh berdasarkan analisa dengan RFM dan juga K-Means.\n",
    "\n",
    "\n",
    "\n",
    "**Secara general**, seperti yang kita sudah ketahui bahwa Olist merupakan sebuah E-Commerce baru yang membutuhkan beberapa strategi marketing yang tepat. Secara General, terdapat beberapa faktor yang dapat dipertimbangkan oleh olist:\n",
    "\n",
    "- **Lakukan sosialisasi dan promosi** yang intensif di daerah-daerah yang memiliki sedikit penjual untuk menarik minat para penjual. Fokuskan upaya pemasaran untuk mengedukasi penjual potensial tentang manfaat dan keuntungan bergabung dengan Olist. \n",
    "\n",
    "- Oleh karena lamanya proses pengiriman barang yang bervariasi dan terkadang terlalu lama, kami merekomendasikan **implementasi program garansi atau jaminan barang sampai tepat waktu**. Dengan adanya program garansi atau jaminan barang sampai tepat waktu, diharapkan Olist dapat meningkatkan kepercayaan pelanggan, meminimalisir keterlambatan pengiriman, dan memberikan pengalaman yang lebih baik bagi pelanggan.\n",
    "\n",
    "- Tingkatkan fitur layanan untuk **kebutuhan sehari-hari** serta implementasikan **Program langganan autodebet** akan memberikan kemudahan kepada pelanggan dengan menghilangkan kebutuhan untuk melakukan pembayaran manual setiap bulan.\n",
    "\n",
    "- Untuk meningkatkan penjualan dan menarik perhatian pelanggan, kami merekomendasikan implementasi **program diskon khusus** yang mirip dengan *Black Friday* setiap bulan, namun dengan penekanan khusus pada **akhir pekan** di pekan-1 tiap bulannya.\n",
    "\n",
    "- Terapkan Flash Sale, dan berikan promo yang sesuai dengan personalisasi pengguna selain itu terus tingkatkan **awareness** terhadap kategori yang sangat kecil penjualannya misal *Food and Beverages*.\n",
    "\n",
    "- Kita dapat lihat bahwa food and beverages merupakan catogery terendah, sebagai langkah awal, kita dapat memberikan rekomendasi kepada team marketing untuk **drop item** tersebut, karena item tersebut tidak begitu baik dalam segi penjualan, di sisi lain, item2 tersebut merupakan item2 yg berbeda dari pada item2 lain dalam hal bahwa *food and beverages* merupakan item yg memiliki kadarluasa (memerlukan waktu yg cepat utk jika tidak ingin menanggung loss)\n",
    "\n",
    "- Kita dapat memberika insentif seperti item bundle jika membeli furniture untuk memanfaatkan tinggi nya penjualan furniture, dan juga kita dapat memberikan promosi buy 1 get 1 atau pun diskon kepada item2 lain2 yg kurang baik performanya dalam segi penjualan seperti Clothing & Apparel.\n",
    "\n",
    "- Jika budget masih memungkinkan, kita dapat memberikan insentif reward kepada customer2 yg membeli furniture untuk memperkuat marketing strategi utk category furniture.\n",
    "\n",
    "- Untuk tim data warehouse perlu melakukan validasi data kembali untuk meminimalisir kerusakan data, serta untuk tim data scientist dan analyst perlu cross check terlebih dahulu sebelum menggunakan data.\n",
    "\n",
    "- Untuk variasi model kita bisa menggunakan model DBSCAN, PCA, Gaussian, etc."
   ]
  },
  {
   "cell_type": "markdown",
   "id": "187cdf89",
   "metadata": {
    "id": "187cdf89"
   },
   "source": [
    "Sedangkan berikut adalah **rekomendasi strategi** yang dapat diterapkan Perusahaan untuk **meningkatkan Retensi yang juga akan meningkatkan Sales** berdasarkan hasil temuan dari Analisa RFM dengan menggunakan K-Means:"
   ]
  },
  {
   "cell_type": "markdown",
   "id": "555ded62",
   "metadata": {
    "id": "555ded62"
   },
   "source": [
    "| Nama Cluster | Deskripsi |\n",
    "|:--------------:|:--------------:|\n",
    "| Loyalist | Berikan Reward pada program loyalitas, Sosialisasikan terkait program prioritas sehingga dengan menjadi customers akan selalu di prioritaskan dengan memberikan layanan yang cepat, Berikan program referensi yang terhubung dengan program loyalitas, lebih banyak tawarkan promo pada kategori yang rendah pembeli seperti food and beverage / stationary / dll, tawarkan promo program autodebet untuk pembayaran kebutuhan harian  |\n",
    "| Big Spenders | Berikan promo bundle pada barang barang yang mereka minati, berikan potongan diskon dengan syarat minimum pengeluaran, berikan promo ongkos kirim dengan kuota pemakaian, sosialisasikan manfaat dari program loyalitas, tawarkan promo program autodebet untuk pembayaran kebutuhan harian |\n",
    "| Newcomers | Berikan potongan harga / promo khusus untuk cluster ini dengan adanya syarat minimum pengeluaran, Sosialisasikan bahwa terdapat program loyalitas dan bagi pengguna baru perlu mengumpulkan poin untuk unlock program tersebut, berikan potongan ongkos kirim dengan kuota pemakaian |\n",
    "| Churn Risk Buyers | Minta survei penggunaan, tetap jaga komunikasi dengan menawarkan promo promo sesuai dengan barang yang diminati dengan adanya batasan pengeluaran, berikan ongkos kirim untuk, berikan penwaran khusus, sosialisasikan bagaimana cara mengaktifkan program loyalitas |\n",
    "| Sleeping Giant |menghubungi customer terkait untuk mensosialisasikan program loyalitas, berikan promo yang menarik terkait kategori yang paling diminati agar mereka kembali aktif, berikan reward gratis ongkir untuk pembelian selanjutnya, tawarkan promo program autodebet untuk pembayaran kebutuhan harian|\n",
    "| Lost Customers |menghubungi customer terkait untuk mensosialisasikan adanya program loyalitas, kirimkan notifikasi secara berkala melalui email, minta feedback melalui email, jangan terlalu mengeluarkan dana yang telalu besar untuk menarik mereka kembali |"
   ]
  },
  {
   "cell_type": "markdown",
   "id": "6ebb7ad7",
   "metadata": {
    "id": "6ebb7ad7"
   },
   "source": [
    "**Simulasi Penerapan Segmentasi**\n",
    "\n",
    "Untuk membuktikan apakah hasil modeling yang kita lakukan ini searah dengan salah satu tujuan yang ingin kita capai yaitu meminimalisir biaya strategi marketing:\n",
    "\n",
    "* Tanpa Model (Kita akan menghubungi customer - customer untuk menarik kembali customer agar berbelanja di Olist E-commerce):\n",
    "    - Total cost (Telepon, Email, etc) => 100 BRL\n",
    "    - Total Customer => 10.000 orang\n",
    "    - Total Customer on target (Lost Customer or Sleeping Giant) => 6.000 orang\n",
    "    - Total Customer off target (Loyalist, Big Spenders, New Comers, & Churn Risk) => 4.000 orang\n",
    "    - Total Loss due to off target => 100 BRL * 4.000 Person = **-400.000 BRL**\n",
    "        \n",
    "Jika kita tidak menggunakan model untuk menghubungi pelanggan-pelanggan yang menjadi target agar berbelanja di Olist E-commerce, perusahaan akan mengalami kerugian sebesar -400.000 BRL karena pelanggan-pelanggan yang bukan target terkena program tersebut.\n",
    "    \n",
    "* Dengan Model:\n",
    "    - Total cost (specific to category furniture) => 100 BRL\n",
    "    - Total Customer on target (Lost Customer or Sleeping Giant) => 6.000 orang\n",
    "    - Total Loss due to off target => 100 BRL * 0 Person = **0 BRL**\n",
    "\n",
    "Jika kita tidak menggunakan model untuk menghubungi customer - customer untuk menarik kembali customer agar berbelanja di Olist E-commerce maka perusahaan akan kehilangan (Loss) sebesar **-400.000 BRL** karena terdapat customer - customer off target, jika kita menggunakan model customer -customer yang off target tidak akan terkena program tersebut sehingga loss dapat dihindari.\n",
    "\n",
    "**Overall**:\n",
    "Dengan menggunakan model, kita dapat memfokuskan upaya pemasaran hanya pada pelanggan yang memiliki potensi tinggi untuk berbelanja kembali, yang dapat membantu mengurangi biaya pemasaran secara keseluruhan dan memaksimalkan efektivitas upaya pemasaran."
   ]
  },
  {
   "cell_type": "markdown",
   "id": "64fa74b0",
   "metadata": {
    "id": "64fa74b0"
   },
   "source": [
    "# Conclusion"
   ]
  },
  {
   "cell_type": "markdown",
   "id": "dd8c30a3",
   "metadata": {
    "id": "dd8c30a3"
   },
   "source": [
    "Berdasarkan hasil yang telah kita lakukan maka dapat kita dapat menyimpulkan menjadi 2 bagian yaitu secara model dan bisnis:\n",
    "\n",
    "\n",
    "**Kesimpulan berdasarkan Model**  \n",
    "1. Meskipun Olist memiliki banyak pelanggan baru setiap bulan, tingkat retensi pelanggan sangat rendah dengan hanya sekitar 1% pelanggan yang menggunakan layanan Olist setiap bulannya.\n",
    "\n",
    "2. **Pembagian Cluster**: Berdasarkan analisis RFM, kita melakukan pembagian pelanggan ke dalam beberapa cluster. Cluster ini mencerminkan karakteristik dan perilaku pelanggan yang berbeda.\n",
    "    - `*Big Spenders*`: Pelanggan yang melakukan pembelian dengan nilai tertinggi (Recency rendah, Frequency tinggi, Monetary Value tinggi).\n",
    "    - `*Sleeping Giant*`: Pelanggan yang belum melakukan pembelian baru-baru ini (Recency tinggi), tetapi memiliki nilai pembelian yang tinggi di masa lalu (Frequency tinggi, Monetary Value tinggi).\n",
    "    - `*Loyalist*`: Pelanggan yang secara konsisten melakukan pembelian (Recency rendah, Frequency tinggi, Monetary Value cenderung tinggi).\n",
    "    - `*Newcomers*`: Pelanggan baru yang baru saja melakukan pembelian (Recency rendah, Monetary Rendah, Frequency rendah).\n",
    "    - `*Lost Customers*`: Pelanggan yang sudah lama tidak melakukan pembelian (Recency tinggi) dan memiliki nilai pembelian rendah (Frequency rendah, Monetary Value rendah).\n",
    "    - `*Churn Risk*`: Pelanggan yang berisiko beralih atau tidak melakukan pembelian lagi (Recency tinggi, Frequency rendah, Monetary Value rendah).\n",
    "\n",
    "3. **Metode Evaluasi Cluster**: Untuk memilih jumlah cluster yang optimal, kita menggunakan metode silhouette score. Silhouette score memberikan gambaran seberapa baik pemisahan antara cluster dan seberapa homogen data dalam setiap cluster.\n",
    "\n",
    "4. **Hasil Evaluasi**: Meskipun cluster terbaik berdasarkan silhouette score adalah 4 cluster dengan score 0.374, kita memilih menggunakan 6 cluster dengan score 0.369. Ini dikarenakan pembagian dengan 5-6 cluster memberikan tingkat detail yang lebih baik daripada 4 cluster yang terlalu umum.\n",
    "\n",
    "5. **Hasil Rekomendasi**: Berdasarkan hasil dari RFM Analisis dan K-Means kita dapat menentukan rekomendasi yang tepat untuk melakukan strategi marketing, dan diharapkan dari terbentuknya segmentasi ini dapat meminimalisir loss yang terjadi pada biaya strategi marketing, serta diharapkan dengan rekomendasi yang diberikan mampu untuk meningkatkan retensi serta sales dari Olist.\n",
    "\n",
    "\n",
    "**Kesimpulan berdasarkan Bisnis**\n",
    "1. Terdapat banyak customer baru tiap bulan, tetapi retention rate nya sangat tinggi (hanya sekitar 1% customer yang memakai olist tiap bulannya). (Berhubungan dengan tujuan)\n",
    "2. Product terbaik dari Olist adalah Furniture, sementara product terburuk adalah Food & Beverages. (Kesimpulan utk di EDA)\n",
    "3. Majoritas customer Olist menggunakan credit card dengan jangka waktu pembayaran adalah 1 bulan. (Kesimpulan utk di EDA)\n",
    "4. State yang paling ramai transaksi adalah Sao Paulo, dengan total customer 20.000+ dan total seller 20.000+. (Kesimpulan utk di EDA) \n",
    "5. Sau Paulo menjadi state yang paling ramai bisa dikarenakan harga jual dan harga freight nya yang sangat terjangkau. Rata-rata dan median dari harga jual dan freight price di Sau Paulo adalah yang termurah dibandingkan dengan state lainnya. (Kesimpulan utk di EDA)"
   ]
  }
 ],
 "metadata": {
  "colab": {
   "provenance": []
  },
  "kernelspec": {
   "display_name": "Python 3 (ipykernel)",
   "language": "python",
   "name": "python3"
  },
  "language_info": {
   "codemirror_mode": {
    "name": "ipython",
    "version": 3
   },
   "file_extension": ".py",
   "mimetype": "text/x-python",
   "name": "python",
   "nbconvert_exporter": "python",
   "pygments_lexer": "ipython3",
   "version": "3.10.4"
  },
  "varInspector": {
   "cols": {
    "lenName": 16,
    "lenType": 16,
    "lenVar": 40
   },
   "kernels_config": {
    "python": {
     "delete_cmd_postfix": "",
     "delete_cmd_prefix": "del ",
     "library": "var_list.py",
     "varRefreshCmd": "print(var_dic_list())"
    },
    "r": {
     "delete_cmd_postfix": ") ",
     "delete_cmd_prefix": "rm(",
     "library": "var_list.r",
     "varRefreshCmd": "cat(var_dic_list()) "
    }
   },
   "types_to_exclude": [
    "module",
    "function",
    "builtin_function_or_method",
    "instance",
    "_Feature"
   ],
   "window_display": false
  }
 },
 "nbformat": 4,
 "nbformat_minor": 5
}
