{
 "cells": [
  {
   "attachments": {},
   "cell_type": "markdown",
   "id": "4726f749",
   "metadata": {
    "id": "4726f749"
   },
   "source": [
    "# Brazilian E-Commerce Olist: Customer Segmentation\n",
    "### By Delta Group JCDS1904"
   ]
  },
  {
   "attachments": {},
   "cell_type": "markdown",
   "id": "9b03319a",
   "metadata": {
    "id": "9b03319a"
   },
   "source": [
    "# Business Understanding\n",
    "\n",
    "### Konteks  \n",
    "\n",
    "Olist merupakan sebuah perusahaan E-Commerce yang dapat dikatakan baru beroperasi, dan dalam konteks ini kami sebagai seorang Data Scientist diberikan tugas untuk mengumpulkan informasi terkait karakteristik dari customer agar dapat menghasilkan strategi marketing yang tepat. Tahapan awal yang dapat dilakukan adalah dengan mengumpulkan data pelanggan yang dapat digunakan seperti demografi, histori pembelian, perilaku pembelian, dan lainnya. Data yang sudah terkumpul dapat dilakukan analisa dengan berbagai terknik seperti customer segmentation, clustering dan lain-nya untuk menghasilkan kelompok-kelompok / segmentasi customer berdasarkan pola pembelian. Setelah mendapatakan segmentasi customer, selanjutnya dapat dikembangkan strategi marketing yang disesuaikan dengan kebutuhan atau preferensi dari masing-masing segmentasi customer. Dengan memahami karakteristik customer, perusahaan dapat meningkatkan efektivitas strategi marketing serta mempertahankan retensi yang sudah ada.\n",
    "\n",
    "### Latar Belakang  \n",
    "Brazilian E-Commerce Olist merupakan perusahaan baru dan saat ini sedang mengalami masalah yakni rendahnya customer retention, dalam artian perusahaan kesulitan untuk mempertahankan pelanggan yang ada. Masalah ini dapat muncul karena tidak adanya strategi marketing untuk menjaga retensi customer yang efektif serta kurangnya pemahaman mengenai perliaku pelanggan. Dampak dari permasalahan ini adalah berpotensi kehilangan pelanggan yang sudah ada dan meningkatkan biaya pemasaran untuk menarik pelanggan baru. Selain itu, masalah tambahan adalah dataset yang tidak berisikan customer segmentation, yaitu pembagian pelanggan ke dalam kelompok yang berbeda berdasarkan perilaku mereka. Hal ini menyulitkan Olist untuk memahami perilaku pelanggan dan membuat strategi pemasaran yang efektif. Oleh karena itu, solusi yang diusulkan adalah membuat strategi pemasaran berdasarkan customer segmentation dengan langkah-langkah membuat sistem atau proses untuk membagi pelanggan ke dalam kelompok yang berbeda, melakukan analisis perilaku pelanggan untuk masing-masing kelompok, dan membuat strategi pemasaran yang sesuai untuk masing-masing kelompok. Dengan adanya solusi ini, diharapkan dapat meningkatkan efektivitas strategi pemasaran dan retensi pelanggan serta menurunkan biaya pemasaran secara keseluruhan.\n",
    "\n",
    "### Tujuan  \n",
    "Tujuan akhir dari strategi marketing yang akan diimplementasikan adalah untuk meningkatkan penjualan dan retensi pelanggan di perusahaan e-commerce Olist. Hal ini dapat dicapai dengan mengembangkan strategi marketing yang sesuai untuk masing-masing kelompok pelanggan berdasarkan data yang telah dianalisis. Dengan mengoptimalkan strategi marketing dan memonitor kinerja strategi secara berkala, diharapkan dapat meningkatkan efektivitas pemasaran dan mempertahankan pelanggan yang sudah ada. Dalam jangka panjang, hal ini dapat membantu perusahaan untuk bertahan di tengah persaingan yang semakin ketat.\n",
    "\n",
    "### Batasan Masalah  \n",
    "- Project ini akan memfokuskan pada perusahaan Brazilian E-Commerce Olist dan tidak akan membandingkan dengan perusahaan E-Commerce lainnya.\n",
    "- Project ini akan memfokuskan pada masalah rendahnya retensi pelanggan dan strategi marketing yang efektif berdasarkan segementasi customer.\n",
    "- Project ini akan berfokus pada pengembangan strategi marketing yang efektif untuk meningkatkan penjualan dan retensi pelanggan.\n",
    "\n",
    "\n",
    "### Metrik Evaluasi\n",
    "Karena disini kita akan melakukan segmentasi customer dengan demikian machine learning yang digunakan adalah unsupervised learning dan berikut adalah metrik evaluasi yang dapat digunakan pada permasalahan ini:\n",
    "- Silhouette Coefficient: metrik ini mengukur seberapa baik setiap sampel cocok dengan kelompoknya sendiri dibandingkan dengan kelompok lain dalam dataset. Nilai Silhouette Coefficient berkisar antara -1 hingga 1, dimana nilai yang lebih tinggi menunjukkan kelompok yang lebih terdefinisi dengan baik.\n",
    "\n",
    "- Elbow Method: metrik ini digunakan untuk menemukan jumlah klaster optimal dalam data. Dalam metrik ini, nilai inertia (jarak rata-rata setiap titik ke pusat klaster terdekat) digambar melawan jumlah klaster, dan titik siku dalam grafik ini menunjukkan jumlah klaster yang optimal.\n"
   ]
  },
  {
   "attachments": {},
   "cell_type": "markdown",
   "id": "d5f93d31",
   "metadata": {
    "id": "d5f93d31"
   },
   "source": [
    "# Data Understanding\n",
    "Dataset ini berisi informasi dari 100 ribuan lebih pesanan dari tahun 2016 hingga 2018. Pada dataset ini terdapat beberapa fitur diantaranya adalah sebagai berikut:\n",
    "\n",
    "\n",
    "\n",
    "<img src=\"https://i.imgur.com/HRhd2Y0.png\" width=\"500\" height=\"500\">\n",
    "\n",
    "\n",
    "Data ini adalah data komersial yang sebenarnya (asli), namun data ini telah di-anonimisasi dan referensi ke perusahaan dan mitra dalam teks ulasan telah diganti dengan nama-nama rumah besar di Game of Thrones.\n",
    "\n",
    "Untuk memahami data lebih dalam lagi maka kita akan menggabungkan seluruh tabel dari dataset ini menjadi satu tabel agar mudah dalam melakukan EDA."
   ]
  },
  {
   "attachments": {},
   "cell_type": "markdown",
   "id": "da94bde4",
   "metadata": {
    "id": "da94bde4"
   },
   "source": [
    "## Import Libraries"
   ]
  },
  {
   "cell_type": "code",
   "execution_count": 26,
   "id": "eeacceee",
   "metadata": {
    "ExecuteTime": {
     "end_time": "2023-05-08T06:47:16.740397Z",
     "start_time": "2023-05-08T06:47:16.108243Z"
    },
    "id": "eeacceee"
   },
   "outputs": [],
   "source": [
    "# Import Libraries yang diperlukan\n",
    "import pandas as pd\n",
    "import numpy as np"
   ]
  },
  {
   "attachments": {},
   "cell_type": "markdown",
   "id": "1c449d39",
   "metadata": {
    "id": "1c449d39"
   },
   "source": [
    "## Load Data"
   ]
  },
  {
   "cell_type": "code",
   "execution_count": 27,
   "id": "189c6e4e",
   "metadata": {
    "ExecuteTime": {
     "end_time": "2023-05-08T06:47:17.145415Z",
     "start_time": "2023-05-08T06:47:16.743341Z"
    },
    "id": "189c6e4e",
    "outputId": "2733fa17-a978-4049-f73a-7ea9b059a7ed"
   },
   "outputs": [
    {
     "data": {
      "text/html": [
       "<div>\n",
       "<style scoped>\n",
       "    .dataframe tbody tr th:only-of-type {\n",
       "        vertical-align: middle;\n",
       "    }\n",
       "\n",
       "    .dataframe tbody tr th {\n",
       "        vertical-align: top;\n",
       "    }\n",
       "\n",
       "    .dataframe thead th {\n",
       "        text-align: right;\n",
       "    }\n",
       "</style>\n",
       "<table border=\"1\" class=\"dataframe\">\n",
       "  <thead>\n",
       "    <tr style=\"text-align: right;\">\n",
       "      <th></th>\n",
       "      <th>customer_id</th>\n",
       "      <th>customer_unique_id</th>\n",
       "      <th>customer_zip_code_prefix</th>\n",
       "      <th>customer_city</th>\n",
       "      <th>customer_state</th>\n",
       "    </tr>\n",
       "  </thead>\n",
       "  <tbody>\n",
       "    <tr>\n",
       "      <th>0</th>\n",
       "      <td>06b8999e2fba1a1fbc88172c00ba8bc7</td>\n",
       "      <td>861eff4711a542e4b93843c6dd7febb0</td>\n",
       "      <td>14409</td>\n",
       "      <td>franca</td>\n",
       "      <td>SP</td>\n",
       "    </tr>\n",
       "    <tr>\n",
       "      <th>1</th>\n",
       "      <td>18955e83d337fd6b2def6b18a428ac77</td>\n",
       "      <td>290c77bc529b7ac935b93aa66c333dc3</td>\n",
       "      <td>9790</td>\n",
       "      <td>sao bernardo do campo</td>\n",
       "      <td>SP</td>\n",
       "    </tr>\n",
       "    <tr>\n",
       "      <th>2</th>\n",
       "      <td>4e7b3e00288586ebd08712fdd0374a03</td>\n",
       "      <td>060e732b5b29e8181a18229c7b0b2b5e</td>\n",
       "      <td>1151</td>\n",
       "      <td>sao paulo</td>\n",
       "      <td>SP</td>\n",
       "    </tr>\n",
       "    <tr>\n",
       "      <th>3</th>\n",
       "      <td>b2b6027bc5c5109e529d4dc6358b12c3</td>\n",
       "      <td>259dac757896d24d7702b9acbbff3f3c</td>\n",
       "      <td>8775</td>\n",
       "      <td>mogi das cruzes</td>\n",
       "      <td>SP</td>\n",
       "    </tr>\n",
       "    <tr>\n",
       "      <th>4</th>\n",
       "      <td>4f2d8ab171c80ec8364f7c12e35b23ad</td>\n",
       "      <td>345ecd01c38d18a9036ed96c73b8d066</td>\n",
       "      <td>13056</td>\n",
       "      <td>campinas</td>\n",
       "      <td>SP</td>\n",
       "    </tr>\n",
       "  </tbody>\n",
       "</table>\n",
       "</div>"
      ],
      "text/plain": [
       "                        customer_id                customer_unique_id  \\\n",
       "0  06b8999e2fba1a1fbc88172c00ba8bc7  861eff4711a542e4b93843c6dd7febb0   \n",
       "1  18955e83d337fd6b2def6b18a428ac77  290c77bc529b7ac935b93aa66c333dc3   \n",
       "2  4e7b3e00288586ebd08712fdd0374a03  060e732b5b29e8181a18229c7b0b2b5e   \n",
       "3  b2b6027bc5c5109e529d4dc6358b12c3  259dac757896d24d7702b9acbbff3f3c   \n",
       "4  4f2d8ab171c80ec8364f7c12e35b23ad  345ecd01c38d18a9036ed96c73b8d066   \n",
       "\n",
       "   customer_zip_code_prefix          customer_city customer_state  \n",
       "0                     14409                 franca             SP  \n",
       "1                      9790  sao bernardo do campo             SP  \n",
       "2                      1151              sao paulo             SP  \n",
       "3                      8775        mogi das cruzes             SP  \n",
       "4                     13056               campinas             SP  "
      ]
     },
     "execution_count": 27,
     "metadata": {},
     "output_type": "execute_result"
    }
   ],
   "source": [
    "# Load data customers\n",
    "cust = pd.read_csv('olist_customers_dataset.csv')\n",
    "cust.head()"
   ]
  },
  {
   "attachments": {},
   "cell_type": "markdown",
   "id": "1a6b13ec",
   "metadata": {
    "id": "1a6b13ec"
   },
   "source": [
    "`customers`: tabel ini berisi informasi tentang pelanggan. Setiap baris pada tabel ini merepresentasikan satu pelanggan. Kolom-kolom pada tabel ini antara lain: *customer_id (ID pelanggan), customer_unique_id (ID pelanggan unik), customer_zip_code_prefix (kode pos pelanggan), customer_city (kota pelanggan), dan customer_state (negara bagian).*"
   ]
  },
  {
   "cell_type": "code",
   "execution_count": 28,
   "id": "7f386536",
   "metadata": {
    "ExecuteTime": {
     "end_time": "2023-05-08T06:47:18.075203Z",
     "start_time": "2023-05-08T06:47:17.147409Z"
    },
    "id": "7f386536",
    "outputId": "b92c984f-f648-4a86-ad90-08cae01578a3",
    "scrolled": true
   },
   "outputs": [
    {
     "data": {
      "text/html": [
       "<div>\n",
       "<style scoped>\n",
       "    .dataframe tbody tr th:only-of-type {\n",
       "        vertical-align: middle;\n",
       "    }\n",
       "\n",
       "    .dataframe tbody tr th {\n",
       "        vertical-align: top;\n",
       "    }\n",
       "\n",
       "    .dataframe thead th {\n",
       "        text-align: right;\n",
       "    }\n",
       "</style>\n",
       "<table border=\"1\" class=\"dataframe\">\n",
       "  <thead>\n",
       "    <tr style=\"text-align: right;\">\n",
       "      <th></th>\n",
       "      <th>geolocation_zip_code_prefix</th>\n",
       "      <th>geolocation_lat</th>\n",
       "      <th>geolocation_lng</th>\n",
       "      <th>geolocation_city</th>\n",
       "      <th>geolocation_state</th>\n",
       "    </tr>\n",
       "  </thead>\n",
       "  <tbody>\n",
       "    <tr>\n",
       "      <th>0</th>\n",
       "      <td>1037</td>\n",
       "      <td>-23.545621</td>\n",
       "      <td>-46.639292</td>\n",
       "      <td>sao paulo</td>\n",
       "      <td>SP</td>\n",
       "    </tr>\n",
       "    <tr>\n",
       "      <th>1</th>\n",
       "      <td>1046</td>\n",
       "      <td>-23.546081</td>\n",
       "      <td>-46.644820</td>\n",
       "      <td>sao paulo</td>\n",
       "      <td>SP</td>\n",
       "    </tr>\n",
       "    <tr>\n",
       "      <th>2</th>\n",
       "      <td>1046</td>\n",
       "      <td>-23.546129</td>\n",
       "      <td>-46.642951</td>\n",
       "      <td>sao paulo</td>\n",
       "      <td>SP</td>\n",
       "    </tr>\n",
       "    <tr>\n",
       "      <th>3</th>\n",
       "      <td>1041</td>\n",
       "      <td>-23.544392</td>\n",
       "      <td>-46.639499</td>\n",
       "      <td>sao paulo</td>\n",
       "      <td>SP</td>\n",
       "    </tr>\n",
       "    <tr>\n",
       "      <th>4</th>\n",
       "      <td>1035</td>\n",
       "      <td>-23.541578</td>\n",
       "      <td>-46.641607</td>\n",
       "      <td>sao paulo</td>\n",
       "      <td>SP</td>\n",
       "    </tr>\n",
       "  </tbody>\n",
       "</table>\n",
       "</div>"
      ],
      "text/plain": [
       "   geolocation_zip_code_prefix  geolocation_lat  geolocation_lng  \\\n",
       "0                         1037       -23.545621       -46.639292   \n",
       "1                         1046       -23.546081       -46.644820   \n",
       "2                         1046       -23.546129       -46.642951   \n",
       "3                         1041       -23.544392       -46.639499   \n",
       "4                         1035       -23.541578       -46.641607   \n",
       "\n",
       "  geolocation_city geolocation_state  \n",
       "0        sao paulo                SP  \n",
       "1        sao paulo                SP  \n",
       "2        sao paulo                SP  \n",
       "3        sao paulo                SP  \n",
       "4        sao paulo                SP  "
      ]
     },
     "execution_count": 28,
     "metadata": {},
     "output_type": "execute_result"
    }
   ],
   "source": [
    "# Load data Geolocation\n",
    "# geo = pd.read_csv('olist_geolocation_dataset.csv')\n",
    "# geo.head()"
   ]
  },
  {
   "attachments": {},
   "cell_type": "markdown",
   "id": "RP17gIQ1E5XI",
   "metadata": {
    "id": "RP17gIQ1E5XI"
   },
   "source": [
    "`Geolocation`: tabel ini berisi informasi tentang identifikasi lokasi geografis dunia nyata atau suatu objek berdasarkan titik navigasi / GPS. Setiap baris pada tabel ini merepresentasikan satu titik lokasi. Kolom-kolom pada tabel ini antara lain : *geolocation_zip_code_prefix (nomor kodepos), \tgeolocation_lat (garis lintang),\tgeolocation_lng (garis bujur), \tgeolocation_city (kota berdasarkan titik geolokasi), dan\tgeolocation_state (negara bagian berdasarkan titik geolokasi)*."
   ]
  },
  {
   "cell_type": "code",
   "execution_count": 29,
   "id": "fdd12414",
   "metadata": {
    "ExecuteTime": {
     "end_time": "2023-05-08T06:47:18.546516Z",
     "start_time": "2023-05-08T06:47:18.079157Z"
    },
    "id": "fdd12414",
    "outputId": "999705fe-5346-4bd1-8395-f13a094b4521"
   },
   "outputs": [
    {
     "data": {
      "text/html": [
       "<div>\n",
       "<style scoped>\n",
       "    .dataframe tbody tr th:only-of-type {\n",
       "        vertical-align: middle;\n",
       "    }\n",
       "\n",
       "    .dataframe tbody tr th {\n",
       "        vertical-align: top;\n",
       "    }\n",
       "\n",
       "    .dataframe thead th {\n",
       "        text-align: right;\n",
       "    }\n",
       "</style>\n",
       "<table border=\"1\" class=\"dataframe\">\n",
       "  <thead>\n",
       "    <tr style=\"text-align: right;\">\n",
       "      <th></th>\n",
       "      <th>order_id</th>\n",
       "      <th>order_item_id</th>\n",
       "      <th>product_id</th>\n",
       "      <th>seller_id</th>\n",
       "      <th>shipping_limit_date</th>\n",
       "      <th>price</th>\n",
       "      <th>freight_value</th>\n",
       "    </tr>\n",
       "  </thead>\n",
       "  <tbody>\n",
       "    <tr>\n",
       "      <th>0</th>\n",
       "      <td>00010242fe8c5a6d1ba2dd792cb16214</td>\n",
       "      <td>1</td>\n",
       "      <td>4244733e06e7ecb4970a6e2683c13e61</td>\n",
       "      <td>48436dade18ac8b2bce089ec2a041202</td>\n",
       "      <td>2017-09-19 09:45:35</td>\n",
       "      <td>58.90</td>\n",
       "      <td>13.29</td>\n",
       "    </tr>\n",
       "    <tr>\n",
       "      <th>1</th>\n",
       "      <td>00018f77f2f0320c557190d7a144bdd3</td>\n",
       "      <td>1</td>\n",
       "      <td>e5f2d52b802189ee658865ca93d83a8f</td>\n",
       "      <td>dd7ddc04e1b6c2c614352b383efe2d36</td>\n",
       "      <td>2017-05-03 11:05:13</td>\n",
       "      <td>239.90</td>\n",
       "      <td>19.93</td>\n",
       "    </tr>\n",
       "    <tr>\n",
       "      <th>2</th>\n",
       "      <td>000229ec398224ef6ca0657da4fc703e</td>\n",
       "      <td>1</td>\n",
       "      <td>c777355d18b72b67abbeef9df44fd0fd</td>\n",
       "      <td>5b51032eddd242adc84c38acab88f23d</td>\n",
       "      <td>2018-01-18 14:48:30</td>\n",
       "      <td>199.00</td>\n",
       "      <td>17.87</td>\n",
       "    </tr>\n",
       "    <tr>\n",
       "      <th>3</th>\n",
       "      <td>00024acbcdf0a6daa1e931b038114c75</td>\n",
       "      <td>1</td>\n",
       "      <td>7634da152a4610f1595efa32f14722fc</td>\n",
       "      <td>9d7a1d34a5052409006425275ba1c2b4</td>\n",
       "      <td>2018-08-15 10:10:18</td>\n",
       "      <td>12.99</td>\n",
       "      <td>12.79</td>\n",
       "    </tr>\n",
       "    <tr>\n",
       "      <th>4</th>\n",
       "      <td>00042b26cf59d7ce69dfabb4e55b4fd9</td>\n",
       "      <td>1</td>\n",
       "      <td>ac6c3623068f30de03045865e4e10089</td>\n",
       "      <td>df560393f3a51e74553ab94004ba5c87</td>\n",
       "      <td>2017-02-13 13:57:51</td>\n",
       "      <td>199.90</td>\n",
       "      <td>18.14</td>\n",
       "    </tr>\n",
       "  </tbody>\n",
       "</table>\n",
       "</div>"
      ],
      "text/plain": [
       "                           order_id  order_item_id  \\\n",
       "0  00010242fe8c5a6d1ba2dd792cb16214              1   \n",
       "1  00018f77f2f0320c557190d7a144bdd3              1   \n",
       "2  000229ec398224ef6ca0657da4fc703e              1   \n",
       "3  00024acbcdf0a6daa1e931b038114c75              1   \n",
       "4  00042b26cf59d7ce69dfabb4e55b4fd9              1   \n",
       "\n",
       "                         product_id                         seller_id  \\\n",
       "0  4244733e06e7ecb4970a6e2683c13e61  48436dade18ac8b2bce089ec2a041202   \n",
       "1  e5f2d52b802189ee658865ca93d83a8f  dd7ddc04e1b6c2c614352b383efe2d36   \n",
       "2  c777355d18b72b67abbeef9df44fd0fd  5b51032eddd242adc84c38acab88f23d   \n",
       "3  7634da152a4610f1595efa32f14722fc  9d7a1d34a5052409006425275ba1c2b4   \n",
       "4  ac6c3623068f30de03045865e4e10089  df560393f3a51e74553ab94004ba5c87   \n",
       "\n",
       "   shipping_limit_date   price  freight_value  \n",
       "0  2017-09-19 09:45:35   58.90          13.29  \n",
       "1  2017-05-03 11:05:13  239.90          19.93  \n",
       "2  2018-01-18 14:48:30  199.00          17.87  \n",
       "3  2018-08-15 10:10:18   12.99          12.79  \n",
       "4  2017-02-13 13:57:51  199.90          18.14  "
      ]
     },
     "execution_count": 29,
     "metadata": {},
     "output_type": "execute_result"
    }
   ],
   "source": [
    "# Load data order items dataset\n",
    "order_item = pd.read_csv('olist_order_items_dataset.csv')\n",
    "order_item.head()"
   ]
  },
  {
   "attachments": {},
   "cell_type": "markdown",
   "id": "18e8cfeb",
   "metadata": {
    "id": "18e8cfeb"
   },
   "source": [
    "`order_items`: tabel ini berisi informasi tentang barang-barang yang dibeli oleh pelanggan dalam setiap pesanan. Setiap baris pada tabel ini merepresentasikan satu barang yang dibeli dalam satu pesanan. Kolom-kolom pada tabel ini antara lain: *order_id (ID pesanan), product_id (ID produk), seller_id (ID penjual), price (harga produk), freight_value (harga ongkos kirim)*."
   ]
  },
  {
   "cell_type": "code",
   "execution_count": 30,
   "id": "8dd0852e",
   "metadata": {
    "ExecuteTime": {
     "end_time": "2023-05-08T06:47:18.813941Z",
     "start_time": "2023-05-08T06:47:18.549508Z"
    },
    "id": "8dd0852e",
    "outputId": "3c193b3c-3692-425d-fd90-1ef364b98b5c"
   },
   "outputs": [
    {
     "data": {
      "text/html": [
       "<div>\n",
       "<style scoped>\n",
       "    .dataframe tbody tr th:only-of-type {\n",
       "        vertical-align: middle;\n",
       "    }\n",
       "\n",
       "    .dataframe tbody tr th {\n",
       "        vertical-align: top;\n",
       "    }\n",
       "\n",
       "    .dataframe thead th {\n",
       "        text-align: right;\n",
       "    }\n",
       "</style>\n",
       "<table border=\"1\" class=\"dataframe\">\n",
       "  <thead>\n",
       "    <tr style=\"text-align: right;\">\n",
       "      <th></th>\n",
       "      <th>order_id</th>\n",
       "      <th>payment_sequential</th>\n",
       "      <th>payment_type</th>\n",
       "      <th>payment_installments</th>\n",
       "      <th>payment_value</th>\n",
       "    </tr>\n",
       "  </thead>\n",
       "  <tbody>\n",
       "    <tr>\n",
       "      <th>0</th>\n",
       "      <td>b81ef226f3fe1789b1e8b2acac839d17</td>\n",
       "      <td>1</td>\n",
       "      <td>credit_card</td>\n",
       "      <td>8</td>\n",
       "      <td>99.33</td>\n",
       "    </tr>\n",
       "    <tr>\n",
       "      <th>1</th>\n",
       "      <td>a9810da82917af2d9aefd1278f1dcfa0</td>\n",
       "      <td>1</td>\n",
       "      <td>credit_card</td>\n",
       "      <td>1</td>\n",
       "      <td>24.39</td>\n",
       "    </tr>\n",
       "    <tr>\n",
       "      <th>2</th>\n",
       "      <td>25e8ea4e93396b6fa0d3dd708e76c1bd</td>\n",
       "      <td>1</td>\n",
       "      <td>credit_card</td>\n",
       "      <td>1</td>\n",
       "      <td>65.71</td>\n",
       "    </tr>\n",
       "    <tr>\n",
       "      <th>3</th>\n",
       "      <td>ba78997921bbcdc1373bb41e913ab953</td>\n",
       "      <td>1</td>\n",
       "      <td>credit_card</td>\n",
       "      <td>8</td>\n",
       "      <td>107.78</td>\n",
       "    </tr>\n",
       "    <tr>\n",
       "      <th>4</th>\n",
       "      <td>42fdf880ba16b47b59251dd489d4441a</td>\n",
       "      <td>1</td>\n",
       "      <td>credit_card</td>\n",
       "      <td>2</td>\n",
       "      <td>128.45</td>\n",
       "    </tr>\n",
       "  </tbody>\n",
       "</table>\n",
       "</div>"
      ],
      "text/plain": [
       "                           order_id  payment_sequential payment_type  \\\n",
       "0  b81ef226f3fe1789b1e8b2acac839d17                   1  credit_card   \n",
       "1  a9810da82917af2d9aefd1278f1dcfa0                   1  credit_card   \n",
       "2  25e8ea4e93396b6fa0d3dd708e76c1bd                   1  credit_card   \n",
       "3  ba78997921bbcdc1373bb41e913ab953                   1  credit_card   \n",
       "4  42fdf880ba16b47b59251dd489d4441a                   1  credit_card   \n",
       "\n",
       "   payment_installments  payment_value  \n",
       "0                     8          99.33  \n",
       "1                     1          24.39  \n",
       "2                     1          65.71  \n",
       "3                     8         107.78  \n",
       "4                     2         128.45  "
      ]
     },
     "execution_count": 30,
     "metadata": {},
     "output_type": "execute_result"
    }
   ],
   "source": [
    "# Load data Order payments\n",
    "order_payment = pd.read_csv('olist_order_payments_dataset.csv')\n",
    "order_payment.head()"
   ]
  },
  {
   "attachments": {},
   "cell_type": "markdown",
   "id": "40cc4cfb",
   "metadata": {
    "id": "40cc4cfb"
   },
   "source": [
    "`olist_order_payments_dataset`: tabel ini berisi informasi tentang pembayaran yang dilakukan oleh pelanggan untuk setiap pesanan. Setiap baris pada tabel ini merepresentasikan satu pembayaran yang dilakukan oleh satu pelanggan untuk satu pesanan. Kolom-kolom pada tabel ini antara lain: *order_id (ID pesanan terkait dengan pembayaran), payment_sequential (urutan pembayaran), payment_type (jenis pembayaran), payment_installments (jumlah angsuran pembayaran), dan payment_value (jumlah pembayaran).*"
   ]
  },
  {
   "cell_type": "code",
   "execution_count": 31,
   "id": "0dfa2b21",
   "metadata": {
    "ExecuteTime": {
     "end_time": "2023-05-08T06:47:19.333959Z",
     "start_time": "2023-05-08T06:47:18.817931Z"
    },
    "id": "0dfa2b21",
    "outputId": "abbaa3ef-0870-4c7f-c20d-048e834d2e84"
   },
   "outputs": [
    {
     "data": {
      "text/html": [
       "<div>\n",
       "<style scoped>\n",
       "    .dataframe tbody tr th:only-of-type {\n",
       "        vertical-align: middle;\n",
       "    }\n",
       "\n",
       "    .dataframe tbody tr th {\n",
       "        vertical-align: top;\n",
       "    }\n",
       "\n",
       "    .dataframe thead th {\n",
       "        text-align: right;\n",
       "    }\n",
       "</style>\n",
       "<table border=\"1\" class=\"dataframe\">\n",
       "  <thead>\n",
       "    <tr style=\"text-align: right;\">\n",
       "      <th></th>\n",
       "      <th>review_id</th>\n",
       "      <th>order_id</th>\n",
       "      <th>review_score</th>\n",
       "      <th>review_comment_title</th>\n",
       "      <th>review_comment_message</th>\n",
       "      <th>review_creation_date</th>\n",
       "      <th>review_answer_timestamp</th>\n",
       "    </tr>\n",
       "  </thead>\n",
       "  <tbody>\n",
       "    <tr>\n",
       "      <th>0</th>\n",
       "      <td>7bc2406110b926393aa56f80a40eba40</td>\n",
       "      <td>73fc7af87114b39712e6da79b0a377eb</td>\n",
       "      <td>4</td>\n",
       "      <td>NaN</td>\n",
       "      <td>NaN</td>\n",
       "      <td>2018-01-18 00:00:00</td>\n",
       "      <td>2018-01-18 21:46:59</td>\n",
       "    </tr>\n",
       "    <tr>\n",
       "      <th>1</th>\n",
       "      <td>80e641a11e56f04c1ad469d5645fdfde</td>\n",
       "      <td>a548910a1c6147796b98fdf73dbeba33</td>\n",
       "      <td>5</td>\n",
       "      <td>NaN</td>\n",
       "      <td>NaN</td>\n",
       "      <td>2018-03-10 00:00:00</td>\n",
       "      <td>2018-03-11 03:05:13</td>\n",
       "    </tr>\n",
       "    <tr>\n",
       "      <th>2</th>\n",
       "      <td>228ce5500dc1d8e020d8d1322874b6f0</td>\n",
       "      <td>f9e4b658b201a9f2ecdecbb34bed034b</td>\n",
       "      <td>5</td>\n",
       "      <td>NaN</td>\n",
       "      <td>NaN</td>\n",
       "      <td>2018-02-17 00:00:00</td>\n",
       "      <td>2018-02-18 14:36:24</td>\n",
       "    </tr>\n",
       "    <tr>\n",
       "      <th>3</th>\n",
       "      <td>e64fb393e7b32834bb789ff8bb30750e</td>\n",
       "      <td>658677c97b385a9be170737859d3511b</td>\n",
       "      <td>5</td>\n",
       "      <td>NaN</td>\n",
       "      <td>Recebi bem antes do prazo estipulado.</td>\n",
       "      <td>2017-04-21 00:00:00</td>\n",
       "      <td>2017-04-21 22:02:06</td>\n",
       "    </tr>\n",
       "    <tr>\n",
       "      <th>4</th>\n",
       "      <td>f7c4243c7fe1938f181bec41a392bdeb</td>\n",
       "      <td>8e6bfb81e283fa7e4f11123a3fb894f1</td>\n",
       "      <td>5</td>\n",
       "      <td>NaN</td>\n",
       "      <td>Parabéns lojas lannister adorei comprar pela I...</td>\n",
       "      <td>2018-03-01 00:00:00</td>\n",
       "      <td>2018-03-02 10:26:53</td>\n",
       "    </tr>\n",
       "  </tbody>\n",
       "</table>\n",
       "</div>"
      ],
      "text/plain": [
       "                          review_id                          order_id  \\\n",
       "0  7bc2406110b926393aa56f80a40eba40  73fc7af87114b39712e6da79b0a377eb   \n",
       "1  80e641a11e56f04c1ad469d5645fdfde  a548910a1c6147796b98fdf73dbeba33   \n",
       "2  228ce5500dc1d8e020d8d1322874b6f0  f9e4b658b201a9f2ecdecbb34bed034b   \n",
       "3  e64fb393e7b32834bb789ff8bb30750e  658677c97b385a9be170737859d3511b   \n",
       "4  f7c4243c7fe1938f181bec41a392bdeb  8e6bfb81e283fa7e4f11123a3fb894f1   \n",
       "\n",
       "   review_score review_comment_title  \\\n",
       "0             4                  NaN   \n",
       "1             5                  NaN   \n",
       "2             5                  NaN   \n",
       "3             5                  NaN   \n",
       "4             5                  NaN   \n",
       "\n",
       "                              review_comment_message review_creation_date  \\\n",
       "0                                                NaN  2018-01-18 00:00:00   \n",
       "1                                                NaN  2018-03-10 00:00:00   \n",
       "2                                                NaN  2018-02-17 00:00:00   \n",
       "3              Recebi bem antes do prazo estipulado.  2017-04-21 00:00:00   \n",
       "4  Parabéns lojas lannister adorei comprar pela I...  2018-03-01 00:00:00   \n",
       "\n",
       "  review_answer_timestamp  \n",
       "0     2018-01-18 21:46:59  \n",
       "1     2018-03-11 03:05:13  \n",
       "2     2018-02-18 14:36:24  \n",
       "3     2017-04-21 22:02:06  \n",
       "4     2018-03-02 10:26:53  "
      ]
     },
     "execution_count": 31,
     "metadata": {},
     "output_type": "execute_result"
    }
   ],
   "source": [
    "# Load Data Order Reviews\n",
    "order_reviews = pd.read_csv('olist_order_reviews_dataset.csv')\n",
    "order_reviews.head()"
   ]
  },
  {
   "attachments": {},
   "cell_type": "markdown",
   "id": "61efcb53",
   "metadata": {
    "id": "61efcb53"
   },
   "source": [
    "`olist_order_reviews_dataset`: tabel ini berisi informasi tentang ulasan produk yang diberikan oleh pelanggan. Setiap baris pada tabel ini merepresentasikan satu ulasan produk yang diberikan oleh satu pelanggan. Kolom-kolom pada tabel ini antara lain: *review_id (ID ulasan), order_id (ID pesanan terkait dengan ulasan), review_score (skor ulasan dari 1 hingga 5), review_comment_title (judul ulasan), review_comment_message (isi ulasan), review_creation_date\t(waktu kapan review dibuat), dan review_answer_timestamp (waktu kapan review dikirim)*."
   ]
  },
  {
   "cell_type": "code",
   "execution_count": 32,
   "id": "5fed2798",
   "metadata": {
    "ExecuteTime": {
     "end_time": "2023-05-08T06:47:19.915407Z",
     "start_time": "2023-05-08T06:47:19.336917Z"
    },
    "id": "5fed2798",
    "outputId": "0e430fd5-0397-4148-a117-c710c9495974"
   },
   "outputs": [
    {
     "data": {
      "text/html": [
       "<div>\n",
       "<style scoped>\n",
       "    .dataframe tbody tr th:only-of-type {\n",
       "        vertical-align: middle;\n",
       "    }\n",
       "\n",
       "    .dataframe tbody tr th {\n",
       "        vertical-align: top;\n",
       "    }\n",
       "\n",
       "    .dataframe thead th {\n",
       "        text-align: right;\n",
       "    }\n",
       "</style>\n",
       "<table border=\"1\" class=\"dataframe\">\n",
       "  <thead>\n",
       "    <tr style=\"text-align: right;\">\n",
       "      <th></th>\n",
       "      <th>order_id</th>\n",
       "      <th>customer_id</th>\n",
       "      <th>order_status</th>\n",
       "      <th>order_purchase_timestamp</th>\n",
       "      <th>order_approved_at</th>\n",
       "      <th>order_delivered_carrier_date</th>\n",
       "      <th>order_delivered_customer_date</th>\n",
       "      <th>order_estimated_delivery_date</th>\n",
       "    </tr>\n",
       "  </thead>\n",
       "  <tbody>\n",
       "    <tr>\n",
       "      <th>0</th>\n",
       "      <td>e481f51cbdc54678b7cc49136f2d6af7</td>\n",
       "      <td>9ef432eb6251297304e76186b10a928d</td>\n",
       "      <td>delivered</td>\n",
       "      <td>2017-10-02 10:56:33</td>\n",
       "      <td>2017-10-02 11:07:15</td>\n",
       "      <td>2017-10-04 19:55:00</td>\n",
       "      <td>2017-10-10 21:25:13</td>\n",
       "      <td>2017-10-18 00:00:00</td>\n",
       "    </tr>\n",
       "    <tr>\n",
       "      <th>1</th>\n",
       "      <td>53cdb2fc8bc7dce0b6741e2150273451</td>\n",
       "      <td>b0830fb4747a6c6d20dea0b8c802d7ef</td>\n",
       "      <td>delivered</td>\n",
       "      <td>2018-07-24 20:41:37</td>\n",
       "      <td>2018-07-26 03:24:27</td>\n",
       "      <td>2018-07-26 14:31:00</td>\n",
       "      <td>2018-08-07 15:27:45</td>\n",
       "      <td>2018-08-13 00:00:00</td>\n",
       "    </tr>\n",
       "    <tr>\n",
       "      <th>2</th>\n",
       "      <td>47770eb9100c2d0c44946d9cf07ec65d</td>\n",
       "      <td>41ce2a54c0b03bf3443c3d931a367089</td>\n",
       "      <td>delivered</td>\n",
       "      <td>2018-08-08 08:38:49</td>\n",
       "      <td>2018-08-08 08:55:23</td>\n",
       "      <td>2018-08-08 13:50:00</td>\n",
       "      <td>2018-08-17 18:06:29</td>\n",
       "      <td>2018-09-04 00:00:00</td>\n",
       "    </tr>\n",
       "    <tr>\n",
       "      <th>3</th>\n",
       "      <td>949d5b44dbf5de918fe9c16f97b45f8a</td>\n",
       "      <td>f88197465ea7920adcdbec7375364d82</td>\n",
       "      <td>delivered</td>\n",
       "      <td>2017-11-18 19:28:06</td>\n",
       "      <td>2017-11-18 19:45:59</td>\n",
       "      <td>2017-11-22 13:39:59</td>\n",
       "      <td>2017-12-02 00:28:42</td>\n",
       "      <td>2017-12-15 00:00:00</td>\n",
       "    </tr>\n",
       "    <tr>\n",
       "      <th>4</th>\n",
       "      <td>ad21c59c0840e6cb83a9ceb5573f8159</td>\n",
       "      <td>8ab97904e6daea8866dbdbc4fb7aad2c</td>\n",
       "      <td>delivered</td>\n",
       "      <td>2018-02-13 21:18:39</td>\n",
       "      <td>2018-02-13 22:20:29</td>\n",
       "      <td>2018-02-14 19:46:34</td>\n",
       "      <td>2018-02-16 18:17:02</td>\n",
       "      <td>2018-02-26 00:00:00</td>\n",
       "    </tr>\n",
       "  </tbody>\n",
       "</table>\n",
       "</div>"
      ],
      "text/plain": [
       "                           order_id                       customer_id  \\\n",
       "0  e481f51cbdc54678b7cc49136f2d6af7  9ef432eb6251297304e76186b10a928d   \n",
       "1  53cdb2fc8bc7dce0b6741e2150273451  b0830fb4747a6c6d20dea0b8c802d7ef   \n",
       "2  47770eb9100c2d0c44946d9cf07ec65d  41ce2a54c0b03bf3443c3d931a367089   \n",
       "3  949d5b44dbf5de918fe9c16f97b45f8a  f88197465ea7920adcdbec7375364d82   \n",
       "4  ad21c59c0840e6cb83a9ceb5573f8159  8ab97904e6daea8866dbdbc4fb7aad2c   \n",
       "\n",
       "  order_status order_purchase_timestamp    order_approved_at  \\\n",
       "0    delivered      2017-10-02 10:56:33  2017-10-02 11:07:15   \n",
       "1    delivered      2018-07-24 20:41:37  2018-07-26 03:24:27   \n",
       "2    delivered      2018-08-08 08:38:49  2018-08-08 08:55:23   \n",
       "3    delivered      2017-11-18 19:28:06  2017-11-18 19:45:59   \n",
       "4    delivered      2018-02-13 21:18:39  2018-02-13 22:20:29   \n",
       "\n",
       "  order_delivered_carrier_date order_delivered_customer_date  \\\n",
       "0          2017-10-04 19:55:00           2017-10-10 21:25:13   \n",
       "1          2018-07-26 14:31:00           2018-08-07 15:27:45   \n",
       "2          2018-08-08 13:50:00           2018-08-17 18:06:29   \n",
       "3          2017-11-22 13:39:59           2017-12-02 00:28:42   \n",
       "4          2018-02-14 19:46:34           2018-02-16 18:17:02   \n",
       "\n",
       "  order_estimated_delivery_date  \n",
       "0           2017-10-18 00:00:00  \n",
       "1           2018-08-13 00:00:00  \n",
       "2           2018-09-04 00:00:00  \n",
       "3           2017-12-15 00:00:00  \n",
       "4           2018-02-26 00:00:00  "
      ]
     },
     "execution_count": 32,
     "metadata": {},
     "output_type": "execute_result"
    }
   ],
   "source": [
    "# Load Data Orders\n",
    "orders = pd.read_csv('olist_orders_dataset.csv')\n",
    "orders.head()"
   ]
  },
  {
   "attachments": {},
   "cell_type": "markdown",
   "id": "25469d16",
   "metadata": {
    "id": "25469d16"
   },
   "source": [
    "`orders`: tabel ini berisi informasi tentang pesanan yang dilakukan oleh pelanggan. Setiap baris pada tabel ini merepresentasikan satu pesanan. Kolom-kolom pada tabel ini antara lain: *order_id (ID pesanan), customer_id (ID pelanggan), order_status (status pesanan), order_purchase_timestamp (waktu pembelian), order_approved_at (waktu orderan di terima), order_delivered_carrier_date (waktu orderan dikirimkan oleh kurir),\torder_delivered_customer_date (waktu orderan diterima oleh customer), dan order_estimated_delivery_date (waktu estimasi orderan dikirim)*."
   ]
  },
  {
   "cell_type": "code",
   "execution_count": 33,
   "id": "f1f8479f",
   "metadata": {
    "ExecuteTime": {
     "end_time": "2023-05-08T06:47:19.960872Z",
     "start_time": "2023-05-08T06:47:19.918388Z"
    },
    "id": "f1f8479f",
    "outputId": "25ef7acf-ccaa-4cdc-da44-7bec1feaf95d"
   },
   "outputs": [
    {
     "data": {
      "text/html": [
       "<div>\n",
       "<style scoped>\n",
       "    .dataframe tbody tr th:only-of-type {\n",
       "        vertical-align: middle;\n",
       "    }\n",
       "\n",
       "    .dataframe tbody tr th {\n",
       "        vertical-align: top;\n",
       "    }\n",
       "\n",
       "    .dataframe thead th {\n",
       "        text-align: right;\n",
       "    }\n",
       "</style>\n",
       "<table border=\"1\" class=\"dataframe\">\n",
       "  <thead>\n",
       "    <tr style=\"text-align: right;\">\n",
       "      <th></th>\n",
       "      <th>seller_id</th>\n",
       "      <th>seller_zip_code_prefix</th>\n",
       "      <th>seller_city</th>\n",
       "      <th>seller_state</th>\n",
       "    </tr>\n",
       "  </thead>\n",
       "  <tbody>\n",
       "    <tr>\n",
       "      <th>0</th>\n",
       "      <td>3442f8959a84dea7ee197c632cb2df15</td>\n",
       "      <td>13023</td>\n",
       "      <td>campinas</td>\n",
       "      <td>SP</td>\n",
       "    </tr>\n",
       "    <tr>\n",
       "      <th>1</th>\n",
       "      <td>d1b65fc7debc3361ea86b5f14c68d2e2</td>\n",
       "      <td>13844</td>\n",
       "      <td>mogi guacu</td>\n",
       "      <td>SP</td>\n",
       "    </tr>\n",
       "    <tr>\n",
       "      <th>2</th>\n",
       "      <td>ce3ad9de960102d0677a81f5d0bb7b2d</td>\n",
       "      <td>20031</td>\n",
       "      <td>rio de janeiro</td>\n",
       "      <td>RJ</td>\n",
       "    </tr>\n",
       "    <tr>\n",
       "      <th>3</th>\n",
       "      <td>c0f3eea2e14555b6faeea3dd58c1b1c3</td>\n",
       "      <td>4195</td>\n",
       "      <td>sao paulo</td>\n",
       "      <td>SP</td>\n",
       "    </tr>\n",
       "    <tr>\n",
       "      <th>4</th>\n",
       "      <td>51a04a8a6bdcb23deccc82b0b80742cf</td>\n",
       "      <td>12914</td>\n",
       "      <td>braganca paulista</td>\n",
       "      <td>SP</td>\n",
       "    </tr>\n",
       "  </tbody>\n",
       "</table>\n",
       "</div>"
      ],
      "text/plain": [
       "                          seller_id  seller_zip_code_prefix  \\\n",
       "0  3442f8959a84dea7ee197c632cb2df15                   13023   \n",
       "1  d1b65fc7debc3361ea86b5f14c68d2e2                   13844   \n",
       "2  ce3ad9de960102d0677a81f5d0bb7b2d                   20031   \n",
       "3  c0f3eea2e14555b6faeea3dd58c1b1c3                    4195   \n",
       "4  51a04a8a6bdcb23deccc82b0b80742cf                   12914   \n",
       "\n",
       "         seller_city seller_state  \n",
       "0           campinas           SP  \n",
       "1         mogi guacu           SP  \n",
       "2     rio de janeiro           RJ  \n",
       "3          sao paulo           SP  \n",
       "4  braganca paulista           SP  "
      ]
     },
     "execution_count": 33,
     "metadata": {},
     "output_type": "execute_result"
    }
   ],
   "source": [
    "# Load Data Sellers\n",
    "sellers = pd.read_csv('olist_sellers_dataset.csv')\n",
    "sellers.head()"
   ]
  },
  {
   "attachments": {},
   "cell_type": "markdown",
   "id": "2539a824",
   "metadata": {
    "id": "2539a824"
   },
   "source": [
    "`sellers`: tabel ini berisi informasi tentang penjual di e-commerce. Setiap baris pada tabel ini merepresentasikan satu penjual. Kolom-kolom pada tabel ini antara lain: *seller_id (ID penjual), seller_zip_code_prefix (kode pos penjual), seller_city (kota penjual), dan seller_state (negara bagian penjual)*."
   ]
  },
  {
   "cell_type": "code",
   "execution_count": 34,
   "id": "7d88bb4f",
   "metadata": {
    "ExecuteTime": {
     "end_time": "2023-05-08T06:47:20.211163Z",
     "start_time": "2023-05-08T06:47:19.964863Z"
    },
    "id": "7d88bb4f",
    "outputId": "06961232-2630-4726-faac-0321c648d846"
   },
   "outputs": [
    {
     "data": {
      "text/html": [
       "<div>\n",
       "<style scoped>\n",
       "    .dataframe tbody tr th:only-of-type {\n",
       "        vertical-align: middle;\n",
       "    }\n",
       "\n",
       "    .dataframe tbody tr th {\n",
       "        vertical-align: top;\n",
       "    }\n",
       "\n",
       "    .dataframe thead th {\n",
       "        text-align: right;\n",
       "    }\n",
       "</style>\n",
       "<table border=\"1\" class=\"dataframe\">\n",
       "  <thead>\n",
       "    <tr style=\"text-align: right;\">\n",
       "      <th></th>\n",
       "      <th>product_id</th>\n",
       "      <th>product_category_name</th>\n",
       "      <th>product_name_lenght</th>\n",
       "      <th>product_description_lenght</th>\n",
       "      <th>product_photos_qty</th>\n",
       "      <th>product_weight_g</th>\n",
       "      <th>product_length_cm</th>\n",
       "      <th>product_height_cm</th>\n",
       "      <th>product_width_cm</th>\n",
       "    </tr>\n",
       "  </thead>\n",
       "  <tbody>\n",
       "    <tr>\n",
       "      <th>0</th>\n",
       "      <td>1e9e8ef04dbcff4541ed26657ea517e5</td>\n",
       "      <td>perfumaria</td>\n",
       "      <td>40.0</td>\n",
       "      <td>287.0</td>\n",
       "      <td>1.0</td>\n",
       "      <td>225.0</td>\n",
       "      <td>16.0</td>\n",
       "      <td>10.0</td>\n",
       "      <td>14.0</td>\n",
       "    </tr>\n",
       "    <tr>\n",
       "      <th>1</th>\n",
       "      <td>3aa071139cb16b67ca9e5dea641aaa2f</td>\n",
       "      <td>artes</td>\n",
       "      <td>44.0</td>\n",
       "      <td>276.0</td>\n",
       "      <td>1.0</td>\n",
       "      <td>1000.0</td>\n",
       "      <td>30.0</td>\n",
       "      <td>18.0</td>\n",
       "      <td>20.0</td>\n",
       "    </tr>\n",
       "    <tr>\n",
       "      <th>2</th>\n",
       "      <td>96bd76ec8810374ed1b65e291975717f</td>\n",
       "      <td>esporte_lazer</td>\n",
       "      <td>46.0</td>\n",
       "      <td>250.0</td>\n",
       "      <td>1.0</td>\n",
       "      <td>154.0</td>\n",
       "      <td>18.0</td>\n",
       "      <td>9.0</td>\n",
       "      <td>15.0</td>\n",
       "    </tr>\n",
       "    <tr>\n",
       "      <th>3</th>\n",
       "      <td>cef67bcfe19066a932b7673e239eb23d</td>\n",
       "      <td>bebes</td>\n",
       "      <td>27.0</td>\n",
       "      <td>261.0</td>\n",
       "      <td>1.0</td>\n",
       "      <td>371.0</td>\n",
       "      <td>26.0</td>\n",
       "      <td>4.0</td>\n",
       "      <td>26.0</td>\n",
       "    </tr>\n",
       "    <tr>\n",
       "      <th>4</th>\n",
       "      <td>9dc1a7de274444849c219cff195d0b71</td>\n",
       "      <td>utilidades_domesticas</td>\n",
       "      <td>37.0</td>\n",
       "      <td>402.0</td>\n",
       "      <td>4.0</td>\n",
       "      <td>625.0</td>\n",
       "      <td>20.0</td>\n",
       "      <td>17.0</td>\n",
       "      <td>13.0</td>\n",
       "    </tr>\n",
       "  </tbody>\n",
       "</table>\n",
       "</div>"
      ],
      "text/plain": [
       "                         product_id  product_category_name  \\\n",
       "0  1e9e8ef04dbcff4541ed26657ea517e5             perfumaria   \n",
       "1  3aa071139cb16b67ca9e5dea641aaa2f                  artes   \n",
       "2  96bd76ec8810374ed1b65e291975717f          esporte_lazer   \n",
       "3  cef67bcfe19066a932b7673e239eb23d                  bebes   \n",
       "4  9dc1a7de274444849c219cff195d0b71  utilidades_domesticas   \n",
       "\n",
       "   product_name_lenght  product_description_lenght  product_photos_qty  \\\n",
       "0                 40.0                       287.0                 1.0   \n",
       "1                 44.0                       276.0                 1.0   \n",
       "2                 46.0                       250.0                 1.0   \n",
       "3                 27.0                       261.0                 1.0   \n",
       "4                 37.0                       402.0                 4.0   \n",
       "\n",
       "   product_weight_g  product_length_cm  product_height_cm  product_width_cm  \n",
       "0             225.0               16.0               10.0              14.0  \n",
       "1            1000.0               30.0               18.0              20.0  \n",
       "2             154.0               18.0                9.0              15.0  \n",
       "3             371.0               26.0                4.0              26.0  \n",
       "4             625.0               20.0               17.0              13.0  "
      ]
     },
     "execution_count": 34,
     "metadata": {},
     "output_type": "execute_result"
    }
   ],
   "source": [
    "# Load Data Products\n",
    "product = pd.read_csv('olist_products_dataset.csv')\n",
    "product.head()"
   ]
  },
  {
   "attachments": {},
   "cell_type": "markdown",
   "id": "fc6247c6",
   "metadata": {
    "id": "fc6247c6"
   },
   "source": [
    "`products`: tabel ini berisi informasi tentang produk yang dijual di e-commerce. Setiap baris pada tabel ini merepresentasikan satu produk. Kolom-kolom pada tabel ini antara lain: *product_id (ID produk), product_category_name (nama kategori produk), product_weight_g (berat produk dalam gram), product_length_cm (panjang produk dalam cm),\tproduct_height_cm (tinggi produk dalam cm), dan\tproduct_width_cm (lebar produk dalam cm)*."
   ]
  },
  {
   "cell_type": "code",
   "execution_count": 35,
   "id": "ea89fc88",
   "metadata": {
    "ExecuteTime": {
     "end_time": "2023-05-08T06:47:20.243074Z",
     "start_time": "2023-05-08T06:47:20.218110Z"
    },
    "id": "ea89fc88",
    "outputId": "c65e42c2-c628-4dcf-88f5-a27d952878ca"
   },
   "outputs": [
    {
     "data": {
      "text/html": [
       "<div>\n",
       "<style scoped>\n",
       "    .dataframe tbody tr th:only-of-type {\n",
       "        vertical-align: middle;\n",
       "    }\n",
       "\n",
       "    .dataframe tbody tr th {\n",
       "        vertical-align: top;\n",
       "    }\n",
       "\n",
       "    .dataframe thead th {\n",
       "        text-align: right;\n",
       "    }\n",
       "</style>\n",
       "<table border=\"1\" class=\"dataframe\">\n",
       "  <thead>\n",
       "    <tr style=\"text-align: right;\">\n",
       "      <th></th>\n",
       "      <th>product_category_name</th>\n",
       "      <th>product_category_name_english</th>\n",
       "    </tr>\n",
       "  </thead>\n",
       "  <tbody>\n",
       "    <tr>\n",
       "      <th>0</th>\n",
       "      <td>beleza_saude</td>\n",
       "      <td>health_beauty</td>\n",
       "    </tr>\n",
       "    <tr>\n",
       "      <th>1</th>\n",
       "      <td>informatica_acessorios</td>\n",
       "      <td>computers_accessories</td>\n",
       "    </tr>\n",
       "    <tr>\n",
       "      <th>2</th>\n",
       "      <td>automotivo</td>\n",
       "      <td>auto</td>\n",
       "    </tr>\n",
       "    <tr>\n",
       "      <th>3</th>\n",
       "      <td>cama_mesa_banho</td>\n",
       "      <td>bed_bath_table</td>\n",
       "    </tr>\n",
       "    <tr>\n",
       "      <th>4</th>\n",
       "      <td>moveis_decoracao</td>\n",
       "      <td>furniture_decor</td>\n",
       "    </tr>\n",
       "  </tbody>\n",
       "</table>\n",
       "</div>"
      ],
      "text/plain": [
       "    product_category_name product_category_name_english\n",
       "0            beleza_saude                 health_beauty\n",
       "1  informatica_acessorios         computers_accessories\n",
       "2              automotivo                          auto\n",
       "3         cama_mesa_banho                bed_bath_table\n",
       "4        moveis_decoracao               furniture_decor"
      ]
     },
     "execution_count": 35,
     "metadata": {},
     "output_type": "execute_result"
    }
   ],
   "source": [
    "# Load Data Category Name\n",
    "product_categ = pd.read_csv('product_category_name_translation.csv')\n",
    "product_categ.head()"
   ]
  },
  {
   "attachments": {},
   "cell_type": "markdown",
   "id": "20b2bb67",
   "metadata": {
    "id": "20b2bb67"
   },
   "source": [
    "`product_category_name_translation`: tabel ini berisi terjemahan dari nama-nama kategori produk pada tabel products. Setiap baris pada tabel ini merepresentasikan satu kategori produk beserta terjemahan dalam beberapa bahasa. Kolom-kolom pada tabel ini antara lain: *product_category_name (nama kategori produk dalam bahasa Portugis), product_category_name_english (terjemahan nama kategori produk dalam bahasa Inggris)*."
   ]
  },
  {
   "attachments": {},
   "cell_type": "markdown",
   "id": "ee6b8065",
   "metadata": {
    "id": "ee6b8065"
   },
   "source": [
    "## Merging Data\n",
    "\n",
    "Setelah kita load seluruh data, selanjutnya kita akan menggabungkan seluruh data berdasarkan koneksi seperti pada gambar arsitektur data tersebut. Disini kita tidak akan menggunakan data geolocation, karena informasi terkait demografi customer sudah tergambarkan pada tabel customer."
   ]
  },
  {
   "cell_type": "code",
   "execution_count": 36,
   "id": "bde0ebb3",
   "metadata": {
    "ExecuteTime": {
     "end_time": "2023-05-08T06:47:21.483171Z",
     "start_time": "2023-05-08T06:47:20.246035Z"
    },
    "id": "bde0ebb3",
    "outputId": "e6e1ea9f-fd19-46e1-d797-35f676658d87"
   },
   "outputs": [
    {
     "data": {
      "text/plain": [
       "(115609, 40)"
      ]
     },
     "execution_count": 36,
     "metadata": {},
     "output_type": "execute_result"
    }
   ],
   "source": [
    "# Merge\n",
    "\n",
    "df= pd.merge(cust, orders, on=\"customer_id\", how='inner')\n",
    "df= df.merge(order_reviews, on=\"order_id\", how='inner')\n",
    "df= df.merge(order_item, on=\"order_id\", how='inner')\n",
    "df= df.merge(product, on=\"product_id\", how='inner')\n",
    "df= df.merge(order_payment, on=\"order_id\", how='inner')\n",
    "df= df.merge(sellers, on='seller_id', how='inner')\n",
    "df= df.merge(product_categ, on='product_category_name', how='inner')\n",
    "df.shape"
   ]
  },
  {
   "cell_type": "code",
   "execution_count": 37,
   "id": "dce8fd0d",
   "metadata": {
    "ExecuteTime": {
     "end_time": "2023-05-08T06:47:21.547034Z",
     "start_time": "2023-05-08T06:47:21.487167Z"
    },
    "id": "dce8fd0d",
    "outputId": "b6419cb9-bee9-4fc7-e67e-63f2195b39bf"
   },
   "outputs": [
    {
     "data": {
      "text/plain": [
       "93396"
      ]
     },
     "execution_count": 37,
     "metadata": {},
     "output_type": "execute_result"
    }
   ],
   "source": [
    "df.customer_unique_id.nunique()"
   ]
  },
  {
   "cell_type": "code",
   "execution_count": 38,
   "id": "061b901a",
   "metadata": {
    "ExecuteTime": {
     "end_time": "2023-05-08T06:47:22.055275Z",
     "start_time": "2023-05-08T06:47:21.549220Z"
    },
    "id": "061b901a",
    "outputId": "be7fb4ef-a840-4633-9a1e-164bfeebc1a7"
   },
   "outputs": [
    {
     "name": "stdout",
     "output_type": "stream",
     "text": [
      "<class 'pandas.core.frame.DataFrame'>\n",
      "Int64Index: 115609 entries, 0 to 115608\n",
      "Data columns (total 40 columns):\n",
      " #   Column                         Non-Null Count   Dtype  \n",
      "---  ------                         --------------   -----  \n",
      " 0   customer_id                    115609 non-null  object \n",
      " 1   customer_unique_id             115609 non-null  object \n",
      " 2   customer_zip_code_prefix       115609 non-null  int64  \n",
      " 3   customer_city                  115609 non-null  object \n",
      " 4   customer_state                 115609 non-null  object \n",
      " 5   order_id                       115609 non-null  object \n",
      " 6   order_status                   115609 non-null  object \n",
      " 7   order_purchase_timestamp       115609 non-null  object \n",
      " 8   order_approved_at              115595 non-null  object \n",
      " 9   order_delivered_carrier_date   114414 non-null  object \n",
      " 10  order_delivered_customer_date  113209 non-null  object \n",
      " 11  order_estimated_delivery_date  115609 non-null  object \n",
      " 12  review_id                      115609 non-null  object \n",
      " 13  review_score                   115609 non-null  int64  \n",
      " 14  review_comment_title           13801 non-null   object \n",
      " 15  review_comment_message         48906 non-null   object \n",
      " 16  review_creation_date           115609 non-null  object \n",
      " 17  review_answer_timestamp        115609 non-null  object \n",
      " 18  order_item_id                  115609 non-null  int64  \n",
      " 19  product_id                     115609 non-null  object \n",
      " 20  seller_id                      115609 non-null  object \n",
      " 21  shipping_limit_date            115609 non-null  object \n",
      " 22  price                          115609 non-null  float64\n",
      " 23  freight_value                  115609 non-null  float64\n",
      " 24  product_category_name          115609 non-null  object \n",
      " 25  product_name_lenght            115609 non-null  float64\n",
      " 26  product_description_lenght     115609 non-null  float64\n",
      " 27  product_photos_qty             115609 non-null  float64\n",
      " 28  product_weight_g               115608 non-null  float64\n",
      " 29  product_length_cm              115608 non-null  float64\n",
      " 30  product_height_cm              115608 non-null  float64\n",
      " 31  product_width_cm               115608 non-null  float64\n",
      " 32  payment_sequential             115609 non-null  int64  \n",
      " 33  payment_type                   115609 non-null  object \n",
      " 34  payment_installments           115609 non-null  int64  \n",
      " 35  payment_value                  115609 non-null  float64\n",
      " 36  seller_zip_code_prefix         115609 non-null  int64  \n",
      " 37  seller_city                    115609 non-null  object \n",
      " 38  seller_state                   115609 non-null  object \n",
      " 39  product_category_name_english  115609 non-null  object \n",
      "dtypes: float64(10), int64(6), object(24)\n",
      "memory usage: 36.2+ MB\n"
     ]
    }
   ],
   "source": [
    "df.info()"
   ]
  },
  {
   "attachments": {},
   "cell_type": "markdown",
   "id": "958b3da4",
   "metadata": {
    "id": "958b3da4"
   },
   "source": [
    "Setelah kita menggabungkan seluruh dataset, terdapat 40 kolom dengan 2 tipe data yaitu numerik dan string dengan total data sebanyak 115.609 data.\n",
    "\n"
   ]
  },
  {
   "cell_type": "code",
   "execution_count": 39,
   "id": "85a73980",
   "metadata": {
    "ExecuteTime": {
     "end_time": "2023-05-08T06:47:22.087260Z",
     "start_time": "2023-05-08T06:47:22.058232Z"
    },
    "id": "85a73980",
    "outputId": "b8cd36e2-33e5-4714-964b-e9065446fb0e"
   },
   "outputs": [
    {
     "data": {
      "text/html": [
       "<div>\n",
       "<style scoped>\n",
       "    .dataframe tbody tr th:only-of-type {\n",
       "        vertical-align: middle;\n",
       "    }\n",
       "\n",
       "    .dataframe tbody tr th {\n",
       "        vertical-align: top;\n",
       "    }\n",
       "\n",
       "    .dataframe thead th {\n",
       "        text-align: right;\n",
       "    }\n",
       "</style>\n",
       "<table border=\"1\" class=\"dataframe\">\n",
       "  <thead>\n",
       "    <tr style=\"text-align: right;\">\n",
       "      <th></th>\n",
       "      <th>customer_id</th>\n",
       "      <th>customer_unique_id</th>\n",
       "      <th>customer_zip_code_prefix</th>\n",
       "      <th>customer_city</th>\n",
       "      <th>customer_state</th>\n",
       "      <th>order_id</th>\n",
       "      <th>order_status</th>\n",
       "      <th>order_purchase_timestamp</th>\n",
       "      <th>order_approved_at</th>\n",
       "      <th>order_delivered_carrier_date</th>\n",
       "      <th>...</th>\n",
       "      <th>product_height_cm</th>\n",
       "      <th>product_width_cm</th>\n",
       "      <th>payment_sequential</th>\n",
       "      <th>payment_type</th>\n",
       "      <th>payment_installments</th>\n",
       "      <th>payment_value</th>\n",
       "      <th>seller_zip_code_prefix</th>\n",
       "      <th>seller_city</th>\n",
       "      <th>seller_state</th>\n",
       "      <th>product_category_name_english</th>\n",
       "    </tr>\n",
       "  </thead>\n",
       "  <tbody>\n",
       "    <tr>\n",
       "      <th>0</th>\n",
       "      <td>06b8999e2fba1a1fbc88172c00ba8bc7</td>\n",
       "      <td>861eff4711a542e4b93843c6dd7febb0</td>\n",
       "      <td>14409</td>\n",
       "      <td>franca</td>\n",
       "      <td>SP</td>\n",
       "      <td>00e7ee1b050b8499577073aeb2a297a1</td>\n",
       "      <td>delivered</td>\n",
       "      <td>2017-05-16 15:05:35</td>\n",
       "      <td>2017-05-16 15:22:12</td>\n",
       "      <td>2017-05-23 10:47:57</td>\n",
       "      <td>...</td>\n",
       "      <td>64.0</td>\n",
       "      <td>31.0</td>\n",
       "      <td>1</td>\n",
       "      <td>credit_card</td>\n",
       "      <td>2</td>\n",
       "      <td>146.87</td>\n",
       "      <td>8577</td>\n",
       "      <td>itaquaquecetuba</td>\n",
       "      <td>SP</td>\n",
       "      <td>office_furniture</td>\n",
       "    </tr>\n",
       "    <tr>\n",
       "      <th>1</th>\n",
       "      <td>8912fc0c3bbf1e2fbf35819e21706718</td>\n",
       "      <td>9eae34bbd3a474ec5d07949ca7de67c0</td>\n",
       "      <td>68030</td>\n",
       "      <td>santarem</td>\n",
       "      <td>PA</td>\n",
       "      <td>c1d2b34febe9cd269e378117d6681172</td>\n",
       "      <td>delivered</td>\n",
       "      <td>2017-11-09 00:50:13</td>\n",
       "      <td>2017-11-10 00:47:48</td>\n",
       "      <td>2017-11-22 01:43:37</td>\n",
       "      <td>...</td>\n",
       "      <td>64.0</td>\n",
       "      <td>31.0</td>\n",
       "      <td>1</td>\n",
       "      <td>credit_card</td>\n",
       "      <td>1</td>\n",
       "      <td>275.79</td>\n",
       "      <td>8577</td>\n",
       "      <td>itaquaquecetuba</td>\n",
       "      <td>SP</td>\n",
       "      <td>office_furniture</td>\n",
       "    </tr>\n",
       "    <tr>\n",
       "      <th>2</th>\n",
       "      <td>8912fc0c3bbf1e2fbf35819e21706718</td>\n",
       "      <td>9eae34bbd3a474ec5d07949ca7de67c0</td>\n",
       "      <td>68030</td>\n",
       "      <td>santarem</td>\n",
       "      <td>PA</td>\n",
       "      <td>c1d2b34febe9cd269e378117d6681172</td>\n",
       "      <td>delivered</td>\n",
       "      <td>2017-11-09 00:50:13</td>\n",
       "      <td>2017-11-10 00:47:48</td>\n",
       "      <td>2017-11-22 01:43:37</td>\n",
       "      <td>...</td>\n",
       "      <td>64.0</td>\n",
       "      <td>31.0</td>\n",
       "      <td>1</td>\n",
       "      <td>credit_card</td>\n",
       "      <td>1</td>\n",
       "      <td>275.79</td>\n",
       "      <td>8577</td>\n",
       "      <td>itaquaquecetuba</td>\n",
       "      <td>SP</td>\n",
       "      <td>office_furniture</td>\n",
       "    </tr>\n",
       "    <tr>\n",
       "      <th>3</th>\n",
       "      <td>f0ac8e5a239118859b1734e1087cbb1f</td>\n",
       "      <td>3c799d181c34d51f6d44bbbc563024db</td>\n",
       "      <td>92480</td>\n",
       "      <td>nova santa rita</td>\n",
       "      <td>RS</td>\n",
       "      <td>b1a5d5365d330d10485e0203d54ab9e8</td>\n",
       "      <td>delivered</td>\n",
       "      <td>2017-05-07 20:11:26</td>\n",
       "      <td>2017-05-08 22:22:56</td>\n",
       "      <td>2017-05-19 20:16:31</td>\n",
       "      <td>...</td>\n",
       "      <td>64.0</td>\n",
       "      <td>31.0</td>\n",
       "      <td>1</td>\n",
       "      <td>credit_card</td>\n",
       "      <td>7</td>\n",
       "      <td>140.61</td>\n",
       "      <td>8577</td>\n",
       "      <td>itaquaquecetuba</td>\n",
       "      <td>SP</td>\n",
       "      <td>office_furniture</td>\n",
       "    </tr>\n",
       "    <tr>\n",
       "      <th>4</th>\n",
       "      <td>6bc8d08963a135220ed6c6d098831f84</td>\n",
       "      <td>23397e992b09769faf5e66f9e171a241</td>\n",
       "      <td>25931</td>\n",
       "      <td>mage</td>\n",
       "      <td>RJ</td>\n",
       "      <td>2e604b3614664aa66867856dba7e61b7</td>\n",
       "      <td>delivered</td>\n",
       "      <td>2018-02-03 19:45:40</td>\n",
       "      <td>2018-02-04 22:29:19</td>\n",
       "      <td>2018-02-19 18:21:47</td>\n",
       "      <td>...</td>\n",
       "      <td>64.0</td>\n",
       "      <td>31.0</td>\n",
       "      <td>1</td>\n",
       "      <td>credit_card</td>\n",
       "      <td>10</td>\n",
       "      <td>137.58</td>\n",
       "      <td>8577</td>\n",
       "      <td>itaquaquecetuba</td>\n",
       "      <td>SP</td>\n",
       "      <td>office_furniture</td>\n",
       "    </tr>\n",
       "  </tbody>\n",
       "</table>\n",
       "<p>5 rows × 40 columns</p>\n",
       "</div>"
      ],
      "text/plain": [
       "                        customer_id                customer_unique_id  \\\n",
       "0  06b8999e2fba1a1fbc88172c00ba8bc7  861eff4711a542e4b93843c6dd7febb0   \n",
       "1  8912fc0c3bbf1e2fbf35819e21706718  9eae34bbd3a474ec5d07949ca7de67c0   \n",
       "2  8912fc0c3bbf1e2fbf35819e21706718  9eae34bbd3a474ec5d07949ca7de67c0   \n",
       "3  f0ac8e5a239118859b1734e1087cbb1f  3c799d181c34d51f6d44bbbc563024db   \n",
       "4  6bc8d08963a135220ed6c6d098831f84  23397e992b09769faf5e66f9e171a241   \n",
       "\n",
       "   customer_zip_code_prefix    customer_city customer_state  \\\n",
       "0                     14409           franca             SP   \n",
       "1                     68030         santarem             PA   \n",
       "2                     68030         santarem             PA   \n",
       "3                     92480  nova santa rita             RS   \n",
       "4                     25931             mage             RJ   \n",
       "\n",
       "                           order_id order_status order_purchase_timestamp  \\\n",
       "0  00e7ee1b050b8499577073aeb2a297a1    delivered      2017-05-16 15:05:35   \n",
       "1  c1d2b34febe9cd269e378117d6681172    delivered      2017-11-09 00:50:13   \n",
       "2  c1d2b34febe9cd269e378117d6681172    delivered      2017-11-09 00:50:13   \n",
       "3  b1a5d5365d330d10485e0203d54ab9e8    delivered      2017-05-07 20:11:26   \n",
       "4  2e604b3614664aa66867856dba7e61b7    delivered      2018-02-03 19:45:40   \n",
       "\n",
       "     order_approved_at order_delivered_carrier_date  ... product_height_cm  \\\n",
       "0  2017-05-16 15:22:12          2017-05-23 10:47:57  ...              64.0   \n",
       "1  2017-11-10 00:47:48          2017-11-22 01:43:37  ...              64.0   \n",
       "2  2017-11-10 00:47:48          2017-11-22 01:43:37  ...              64.0   \n",
       "3  2017-05-08 22:22:56          2017-05-19 20:16:31  ...              64.0   \n",
       "4  2018-02-04 22:29:19          2018-02-19 18:21:47  ...              64.0   \n",
       "\n",
       "  product_width_cm payment_sequential  payment_type payment_installments  \\\n",
       "0             31.0                  1   credit_card                    2   \n",
       "1             31.0                  1   credit_card                    1   \n",
       "2             31.0                  1   credit_card                    1   \n",
       "3             31.0                  1   credit_card                    7   \n",
       "4             31.0                  1   credit_card                   10   \n",
       "\n",
       "  payment_value seller_zip_code_prefix      seller_city  seller_state  \\\n",
       "0        146.87                   8577  itaquaquecetuba            SP   \n",
       "1        275.79                   8577  itaquaquecetuba            SP   \n",
       "2        275.79                   8577  itaquaquecetuba            SP   \n",
       "3        140.61                   8577  itaquaquecetuba            SP   \n",
       "4        137.58                   8577  itaquaquecetuba            SP   \n",
       "\n",
       "  product_category_name_english  \n",
       "0              office_furniture  \n",
       "1              office_furniture  \n",
       "2              office_furniture  \n",
       "3              office_furniture  \n",
       "4              office_furniture  \n",
       "\n",
       "[5 rows x 40 columns]"
      ]
     },
     "execution_count": 39,
     "metadata": {},
     "output_type": "execute_result"
    }
   ],
   "source": [
    "df.head()"
   ]
  },
  {
   "attachments": {},
   "cell_type": "markdown",
   "id": "5d2b8647",
   "metadata": {
    "id": "5d2b8647"
   },
   "source": [
    "## Data Manipulation\n",
    "\n",
    "Pada tahapan ini kita akan melakukan manipulasi terhadap data dengan tujuan agar lebih mudah di intepretasikan."
   ]
  },
  {
   "attachments": {},
   "cell_type": "markdown",
   "id": "0fa127be",
   "metadata": {
    "id": "0fa127be"
   },
   "source": [
    "### Missing Values"
   ]
  },
  {
   "cell_type": "code",
   "execution_count": 40,
   "id": "871db123",
   "metadata": {
    "ExecuteTime": {
     "end_time": "2023-05-08T06:47:22.637359Z",
     "start_time": "2023-05-08T06:47:22.090254Z"
    },
    "id": "871db123",
    "outputId": "64fdaebb-94bb-4b3f-949f-96a58c2f3099"
   },
   "outputs": [
    {
     "data": {
      "text/plain": [
       "customer_id                       0.000000\n",
       "customer_unique_id                0.000000\n",
       "customer_zip_code_prefix          0.000000\n",
       "customer_city                     0.000000\n",
       "customer_state                    0.000000\n",
       "order_id                          0.000000\n",
       "order_status                      0.000000\n",
       "order_purchase_timestamp          0.000000\n",
       "order_approved_at                 0.012110\n",
       "order_delivered_carrier_date      1.033657\n",
       "order_delivered_customer_date     2.075963\n",
       "order_estimated_delivery_date     0.000000\n",
       "review_id                         0.000000\n",
       "review_score                      0.000000\n",
       "review_comment_title             88.062348\n",
       "review_comment_message           57.697065\n",
       "review_creation_date              0.000000\n",
       "review_answer_timestamp           0.000000\n",
       "order_item_id                     0.000000\n",
       "product_id                        0.000000\n",
       "seller_id                         0.000000\n",
       "shipping_limit_date               0.000000\n",
       "price                             0.000000\n",
       "freight_value                     0.000000\n",
       "product_category_name             0.000000\n",
       "product_name_lenght               0.000000\n",
       "product_description_lenght        0.000000\n",
       "product_photos_qty                0.000000\n",
       "product_weight_g                  0.000865\n",
       "product_length_cm                 0.000865\n",
       "product_height_cm                 0.000865\n",
       "product_width_cm                  0.000865\n",
       "payment_sequential                0.000000\n",
       "payment_type                      0.000000\n",
       "payment_installments              0.000000\n",
       "payment_value                     0.000000\n",
       "seller_zip_code_prefix            0.000000\n",
       "seller_city                       0.000000\n",
       "seller_state                      0.000000\n",
       "product_category_name_english     0.000000\n",
       "dtype: float64"
      ]
     },
     "execution_count": 40,
     "metadata": {},
     "output_type": "execute_result"
    }
   ],
   "source": [
    "df.isna().sum()/len(df)*100"
   ]
  },
  {
   "attachments": {},
   "cell_type": "markdown",
   "id": "cce724d0",
   "metadata": {
    "id": "cce724d0"
   },
   "source": [
    "Dari informasi diatas terlihat bahwa review_comment_title dan review_comment_message memiliki missing values lebih dari 50% total data, serta pada beberapa kolom lainnya memiliki missing values yang relatif sedikit dibawah 3%.\n",
    "\n",
    "Untuk itu kita akan melakukan perlakuan yang berbeda, untuk data yang memiliki missing values lebih dari 50% kami akan drop kolom, sedangkan untuk kolom yang memiliki missing values dibawah 3% akan kita drop berdasarkan baris-nya."
   ]
  },
  {
   "cell_type": "code",
   "execution_count": 41,
   "id": "7b60d74a",
   "metadata": {
    "ExecuteTime": {
     "end_time": "2023-05-08T06:47:22.699716Z",
     "start_time": "2023-05-08T06:47:22.640316Z"
    },
    "id": "7b60d74a"
   },
   "outputs": [],
   "source": [
    "# Drop kolom dengan missing values lebih dari 50%\n",
    "df.drop(columns=['review_comment_title', 'review_comment_message'], inplace=True)"
   ]
  },
  {
   "cell_type": "code",
   "execution_count": 42,
   "id": "93809670",
   "metadata": {
    "ExecuteTime": {
     "end_time": "2023-05-08T06:47:23.344510Z",
     "start_time": "2023-05-08T06:47:22.701636Z"
    },
    "id": "93809670"
   },
   "outputs": [],
   "source": [
    "# Drop baris yang berisi missing values\n",
    "df.dropna(inplace=True)"
   ]
  },
  {
   "attachments": {},
   "cell_type": "markdown",
   "id": "27ebfd0d",
   "metadata": {
    "id": "27ebfd0d"
   },
   "source": [
    "### Simplified Category Feature\n",
    "\n",
    "Tahapan ini bertujuan untuk menyederhanakan fitur pada kategori, karena data pada `product_category_name` memiliki unique yang sangat banyak, sehingga kita dapat menyederhanakannya menjadi kolom `Category` sedangkan fitur / kolom yang lama akan diganti nama nya menjadi `sub-Category`."
   ]
  },
  {
   "cell_type": "code",
   "execution_count": 43,
   "id": "8acf20c9",
   "metadata": {
    "ExecuteTime": {
     "end_time": "2023-05-08T06:47:23.374554Z",
     "start_time": "2023-05-08T06:47:23.346508Z"
    },
    "id": "8acf20c9",
    "outputId": "03ec7864-e054-4ef7-b398-9c04eee912d0"
   },
   "outputs": [
    {
     "data": {
      "text/plain": [
       "array(['office_furniture', 'furniture_decor', 'furniture_living_room',\n",
       "       'auto', 'sports_leisure', 'baby', 'housewares',\n",
       "       'kitchen_dining_laundry_garden_furniture', 'home_confort',\n",
       "       'bed_bath_table', 'home_comfort_2', 'toys', 'cool_stuff',\n",
       "       'computers_accessories', 'musical_instruments', 'consoles_games',\n",
       "       'watches_gifts', 'health_beauty', 'perfumery', 'home_construction',\n",
       "       'garden_tools', 'small_appliances', 'stationery', 'art',\n",
       "       'market_place', 'air_conditioning', 'telephony',\n",
       "       'construction_tools_construction', 'electronics', 'pet_shop',\n",
       "       'fixed_telephony', 'food_drink', 'drinks', 'food',\n",
       "       'signaling_and_security', 'industry_commerce_and_business',\n",
       "       'construction_tools_lights', 'agro_industry_and_commerce',\n",
       "       'diapers_and_hygiene', 'audio', 'fashio_female_clothing',\n",
       "       'fashion_male_clothing', 'home_appliances',\n",
       "       'fashion_bags_accessories', 'construction_tools_safety',\n",
       "       'luggage_accessories', 'fashion_shoes', 'books_general_interest',\n",
       "       'music', 'dvds_blu_ray', 'christmas_supplies', 'party_supplies',\n",
       "       'costruction_tools_garden', 'home_appliances_2',\n",
       "       'costruction_tools_tools', 'books_technical', 'cine_photo',\n",
       "       'fashion_sport', 'cds_dvds_musicals', 'security_and_services',\n",
       "       'tablets_printing_image', 'furniture_bedroom',\n",
       "       'small_appliances_home_oven_and_coffee', 'computers',\n",
       "       'fashion_underwear_beach', 'furniture_mattress_and_upholstery',\n",
       "       'flowers', 'books_imported', 'fashion_childrens_clothes',\n",
       "       'arts_and_craftmanship', 'la_cuisine'], dtype=object)"
      ]
     },
     "execution_count": 43,
     "metadata": {},
     "output_type": "execute_result"
    }
   ],
   "source": [
    "df['product_category_name_english'].unique()"
   ]
  },
  {
   "cell_type": "code",
   "execution_count": 44,
   "id": "73b4e9e9",
   "metadata": {
    "ExecuteTime": {
     "end_time": "2023-05-08T06:47:23.578390Z",
     "start_time": "2023-05-08T06:47:23.376514Z"
    },
    "id": "73b4e9e9",
    "outputId": "ef1e450c-8557-4607-ffc0-17fb13f33902",
    "scrolled": true
   },
   "outputs": [
    {
     "name": "stderr",
     "output_type": "stream",
     "text": [
      "C:\\Users\\Fazas\\AppData\\Local\\Temp\\ipykernel_23632\\2725205667.py:19: FutureWarning: The frame.append method is deprecated and will be removed from pandas in a future version. Use pandas.concat instead.\n",
      "  df_categories = df_categories.append({'Category': category, 'product_category_name_english': subcategory}, ignore_index=True)\n",
      "C:\\Users\\Fazas\\AppData\\Local\\Temp\\ipykernel_23632\\2725205667.py:19: FutureWarning: The frame.append method is deprecated and will be removed from pandas in a future version. Use pandas.concat instead.\n",
      "  df_categories = df_categories.append({'Category': category, 'product_category_name_english': subcategory}, ignore_index=True)\n",
      "C:\\Users\\Fazas\\AppData\\Local\\Temp\\ipykernel_23632\\2725205667.py:19: FutureWarning: The frame.append method is deprecated and will be removed from pandas in a future version. Use pandas.concat instead.\n",
      "  df_categories = df_categories.append({'Category': category, 'product_category_name_english': subcategory}, ignore_index=True)\n",
      "C:\\Users\\Fazas\\AppData\\Local\\Temp\\ipykernel_23632\\2725205667.py:19: FutureWarning: The frame.append method is deprecated and will be removed from pandas in a future version. Use pandas.concat instead.\n",
      "  df_categories = df_categories.append({'Category': category, 'product_category_name_english': subcategory}, ignore_index=True)\n",
      "C:\\Users\\Fazas\\AppData\\Local\\Temp\\ipykernel_23632\\2725205667.py:19: FutureWarning: The frame.append method is deprecated and will be removed from pandas in a future version. Use pandas.concat instead.\n",
      "  df_categories = df_categories.append({'Category': category, 'product_category_name_english': subcategory}, ignore_index=True)\n",
      "C:\\Users\\Fazas\\AppData\\Local\\Temp\\ipykernel_23632\\2725205667.py:19: FutureWarning: The frame.append method is deprecated and will be removed from pandas in a future version. Use pandas.concat instead.\n",
      "  df_categories = df_categories.append({'Category': category, 'product_category_name_english': subcategory}, ignore_index=True)\n",
      "C:\\Users\\Fazas\\AppData\\Local\\Temp\\ipykernel_23632\\2725205667.py:19: FutureWarning: The frame.append method is deprecated and will be removed from pandas in a future version. Use pandas.concat instead.\n",
      "  df_categories = df_categories.append({'Category': category, 'product_category_name_english': subcategory}, ignore_index=True)\n",
      "C:\\Users\\Fazas\\AppData\\Local\\Temp\\ipykernel_23632\\2725205667.py:19: FutureWarning: The frame.append method is deprecated and will be removed from pandas in a future version. Use pandas.concat instead.\n",
      "  df_categories = df_categories.append({'Category': category, 'product_category_name_english': subcategory}, ignore_index=True)\n",
      "C:\\Users\\Fazas\\AppData\\Local\\Temp\\ipykernel_23632\\2725205667.py:19: FutureWarning: The frame.append method is deprecated and will be removed from pandas in a future version. Use pandas.concat instead.\n",
      "  df_categories = df_categories.append({'Category': category, 'product_category_name_english': subcategory}, ignore_index=True)\n",
      "C:\\Users\\Fazas\\AppData\\Local\\Temp\\ipykernel_23632\\2725205667.py:19: FutureWarning: The frame.append method is deprecated and will be removed from pandas in a future version. Use pandas.concat instead.\n",
      "  df_categories = df_categories.append({'Category': category, 'product_category_name_english': subcategory}, ignore_index=True)\n",
      "C:\\Users\\Fazas\\AppData\\Local\\Temp\\ipykernel_23632\\2725205667.py:19: FutureWarning: The frame.append method is deprecated and will be removed from pandas in a future version. Use pandas.concat instead.\n",
      "  df_categories = df_categories.append({'Category': category, 'product_category_name_english': subcategory}, ignore_index=True)\n",
      "C:\\Users\\Fazas\\AppData\\Local\\Temp\\ipykernel_23632\\2725205667.py:19: FutureWarning: The frame.append method is deprecated and will be removed from pandas in a future version. Use pandas.concat instead.\n",
      "  df_categories = df_categories.append({'Category': category, 'product_category_name_english': subcategory}, ignore_index=True)\n",
      "C:\\Users\\Fazas\\AppData\\Local\\Temp\\ipykernel_23632\\2725205667.py:19: FutureWarning: The frame.append method is deprecated and will be removed from pandas in a future version. Use pandas.concat instead.\n",
      "  df_categories = df_categories.append({'Category': category, 'product_category_name_english': subcategory}, ignore_index=True)\n",
      "C:\\Users\\Fazas\\AppData\\Local\\Temp\\ipykernel_23632\\2725205667.py:19: FutureWarning: The frame.append method is deprecated and will be removed from pandas in a future version. Use pandas.concat instead.\n",
      "  df_categories = df_categories.append({'Category': category, 'product_category_name_english': subcategory}, ignore_index=True)\n",
      "C:\\Users\\Fazas\\AppData\\Local\\Temp\\ipykernel_23632\\2725205667.py:19: FutureWarning: The frame.append method is deprecated and will be removed from pandas in a future version. Use pandas.concat instead.\n",
      "  df_categories = df_categories.append({'Category': category, 'product_category_name_english': subcategory}, ignore_index=True)\n",
      "C:\\Users\\Fazas\\AppData\\Local\\Temp\\ipykernel_23632\\2725205667.py:19: FutureWarning: The frame.append method is deprecated and will be removed from pandas in a future version. Use pandas.concat instead.\n",
      "  df_categories = df_categories.append({'Category': category, 'product_category_name_english': subcategory}, ignore_index=True)\n",
      "C:\\Users\\Fazas\\AppData\\Local\\Temp\\ipykernel_23632\\2725205667.py:19: FutureWarning: The frame.append method is deprecated and will be removed from pandas in a future version. Use pandas.concat instead.\n",
      "  df_categories = df_categories.append({'Category': category, 'product_category_name_english': subcategory}, ignore_index=True)\n",
      "C:\\Users\\Fazas\\AppData\\Local\\Temp\\ipykernel_23632\\2725205667.py:19: FutureWarning: The frame.append method is deprecated and will be removed from pandas in a future version. Use pandas.concat instead.\n",
      "  df_categories = df_categories.append({'Category': category, 'product_category_name_english': subcategory}, ignore_index=True)\n",
      "C:\\Users\\Fazas\\AppData\\Local\\Temp\\ipykernel_23632\\2725205667.py:19: FutureWarning: The frame.append method is deprecated and will be removed from pandas in a future version. Use pandas.concat instead.\n",
      "  df_categories = df_categories.append({'Category': category, 'product_category_name_english': subcategory}, ignore_index=True)\n",
      "C:\\Users\\Fazas\\AppData\\Local\\Temp\\ipykernel_23632\\2725205667.py:19: FutureWarning: The frame.append method is deprecated and will be removed from pandas in a future version. Use pandas.concat instead.\n",
      "  df_categories = df_categories.append({'Category': category, 'product_category_name_english': subcategory}, ignore_index=True)\n",
      "C:\\Users\\Fazas\\AppData\\Local\\Temp\\ipykernel_23632\\2725205667.py:19: FutureWarning: The frame.append method is deprecated and will be removed from pandas in a future version. Use pandas.concat instead.\n",
      "  df_categories = df_categories.append({'Category': category, 'product_category_name_english': subcategory}, ignore_index=True)\n",
      "C:\\Users\\Fazas\\AppData\\Local\\Temp\\ipykernel_23632\\2725205667.py:19: FutureWarning: The frame.append method is deprecated and will be removed from pandas in a future version. Use pandas.concat instead.\n",
      "  df_categories = df_categories.append({'Category': category, 'product_category_name_english': subcategory}, ignore_index=True)\n",
      "C:\\Users\\Fazas\\AppData\\Local\\Temp\\ipykernel_23632\\2725205667.py:19: FutureWarning: The frame.append method is deprecated and will be removed from pandas in a future version. Use pandas.concat instead.\n",
      "  df_categories = df_categories.append({'Category': category, 'product_category_name_english': subcategory}, ignore_index=True)\n",
      "C:\\Users\\Fazas\\AppData\\Local\\Temp\\ipykernel_23632\\2725205667.py:19: FutureWarning: The frame.append method is deprecated and will be removed from pandas in a future version. Use pandas.concat instead.\n",
      "  df_categories = df_categories.append({'Category': category, 'product_category_name_english': subcategory}, ignore_index=True)\n",
      "C:\\Users\\Fazas\\AppData\\Local\\Temp\\ipykernel_23632\\2725205667.py:19: FutureWarning: The frame.append method is deprecated and will be removed from pandas in a future version. Use pandas.concat instead.\n",
      "  df_categories = df_categories.append({'Category': category, 'product_category_name_english': subcategory}, ignore_index=True)\n",
      "C:\\Users\\Fazas\\AppData\\Local\\Temp\\ipykernel_23632\\2725205667.py:19: FutureWarning: The frame.append method is deprecated and will be removed from pandas in a future version. Use pandas.concat instead.\n",
      "  df_categories = df_categories.append({'Category': category, 'product_category_name_english': subcategory}, ignore_index=True)\n",
      "C:\\Users\\Fazas\\AppData\\Local\\Temp\\ipykernel_23632\\2725205667.py:19: FutureWarning: The frame.append method is deprecated and will be removed from pandas in a future version. Use pandas.concat instead.\n",
      "  df_categories = df_categories.append({'Category': category, 'product_category_name_english': subcategory}, ignore_index=True)\n",
      "C:\\Users\\Fazas\\AppData\\Local\\Temp\\ipykernel_23632\\2725205667.py:19: FutureWarning: The frame.append method is deprecated and will be removed from pandas in a future version. Use pandas.concat instead.\n",
      "  df_categories = df_categories.append({'Category': category, 'product_category_name_english': subcategory}, ignore_index=True)\n",
      "C:\\Users\\Fazas\\AppData\\Local\\Temp\\ipykernel_23632\\2725205667.py:19: FutureWarning: The frame.append method is deprecated and will be removed from pandas in a future version. Use pandas.concat instead.\n",
      "  df_categories = df_categories.append({'Category': category, 'product_category_name_english': subcategory}, ignore_index=True)\n",
      "C:\\Users\\Fazas\\AppData\\Local\\Temp\\ipykernel_23632\\2725205667.py:19: FutureWarning: The frame.append method is deprecated and will be removed from pandas in a future version. Use pandas.concat instead.\n",
      "  df_categories = df_categories.append({'Category': category, 'product_category_name_english': subcategory}, ignore_index=True)\n",
      "C:\\Users\\Fazas\\AppData\\Local\\Temp\\ipykernel_23632\\2725205667.py:19: FutureWarning: The frame.append method is deprecated and will be removed from pandas in a future version. Use pandas.concat instead.\n",
      "  df_categories = df_categories.append({'Category': category, 'product_category_name_english': subcategory}, ignore_index=True)\n",
      "C:\\Users\\Fazas\\AppData\\Local\\Temp\\ipykernel_23632\\2725205667.py:19: FutureWarning: The frame.append method is deprecated and will be removed from pandas in a future version. Use pandas.concat instead.\n",
      "  df_categories = df_categories.append({'Category': category, 'product_category_name_english': subcategory}, ignore_index=True)\n",
      "C:\\Users\\Fazas\\AppData\\Local\\Temp\\ipykernel_23632\\2725205667.py:19: FutureWarning: The frame.append method is deprecated and will be removed from pandas in a future version. Use pandas.concat instead.\n",
      "  df_categories = df_categories.append({'Category': category, 'product_category_name_english': subcategory}, ignore_index=True)\n",
      "C:\\Users\\Fazas\\AppData\\Local\\Temp\\ipykernel_23632\\2725205667.py:19: FutureWarning: The frame.append method is deprecated and will be removed from pandas in a future version. Use pandas.concat instead.\n",
      "  df_categories = df_categories.append({'Category': category, 'product_category_name_english': subcategory}, ignore_index=True)\n",
      "C:\\Users\\Fazas\\AppData\\Local\\Temp\\ipykernel_23632\\2725205667.py:19: FutureWarning: The frame.append method is deprecated and will be removed from pandas in a future version. Use pandas.concat instead.\n",
      "  df_categories = df_categories.append({'Category': category, 'product_category_name_english': subcategory}, ignore_index=True)\n",
      "C:\\Users\\Fazas\\AppData\\Local\\Temp\\ipykernel_23632\\2725205667.py:19: FutureWarning: The frame.append method is deprecated and will be removed from pandas in a future version. Use pandas.concat instead.\n",
      "  df_categories = df_categories.append({'Category': category, 'product_category_name_english': subcategory}, ignore_index=True)\n",
      "C:\\Users\\Fazas\\AppData\\Local\\Temp\\ipykernel_23632\\2725205667.py:19: FutureWarning: The frame.append method is deprecated and will be removed from pandas in a future version. Use pandas.concat instead.\n",
      "  df_categories = df_categories.append({'Category': category, 'product_category_name_english': subcategory}, ignore_index=True)\n",
      "C:\\Users\\Fazas\\AppData\\Local\\Temp\\ipykernel_23632\\2725205667.py:19: FutureWarning: The frame.append method is deprecated and will be removed from pandas in a future version. Use pandas.concat instead.\n",
      "  df_categories = df_categories.append({'Category': category, 'product_category_name_english': subcategory}, ignore_index=True)\n",
      "C:\\Users\\Fazas\\AppData\\Local\\Temp\\ipykernel_23632\\2725205667.py:19: FutureWarning: The frame.append method is deprecated and will be removed from pandas in a future version. Use pandas.concat instead.\n",
      "  df_categories = df_categories.append({'Category': category, 'product_category_name_english': subcategory}, ignore_index=True)\n",
      "C:\\Users\\Fazas\\AppData\\Local\\Temp\\ipykernel_23632\\2725205667.py:19: FutureWarning: The frame.append method is deprecated and will be removed from pandas in a future version. Use pandas.concat instead.\n",
      "  df_categories = df_categories.append({'Category': category, 'product_category_name_english': subcategory}, ignore_index=True)\n",
      "C:\\Users\\Fazas\\AppData\\Local\\Temp\\ipykernel_23632\\2725205667.py:19: FutureWarning: The frame.append method is deprecated and will be removed from pandas in a future version. Use pandas.concat instead.\n",
      "  df_categories = df_categories.append({'Category': category, 'product_category_name_english': subcategory}, ignore_index=True)\n",
      "C:\\Users\\Fazas\\AppData\\Local\\Temp\\ipykernel_23632\\2725205667.py:19: FutureWarning: The frame.append method is deprecated and will be removed from pandas in a future version. Use pandas.concat instead.\n",
      "  df_categories = df_categories.append({'Category': category, 'product_category_name_english': subcategory}, ignore_index=True)\n",
      "C:\\Users\\Fazas\\AppData\\Local\\Temp\\ipykernel_23632\\2725205667.py:19: FutureWarning: The frame.append method is deprecated and will be removed from pandas in a future version. Use pandas.concat instead.\n",
      "  df_categories = df_categories.append({'Category': category, 'product_category_name_english': subcategory}, ignore_index=True)\n",
      "C:\\Users\\Fazas\\AppData\\Local\\Temp\\ipykernel_23632\\2725205667.py:19: FutureWarning: The frame.append method is deprecated and will be removed from pandas in a future version. Use pandas.concat instead.\n",
      "  df_categories = df_categories.append({'Category': category, 'product_category_name_english': subcategory}, ignore_index=True)\n",
      "C:\\Users\\Fazas\\AppData\\Local\\Temp\\ipykernel_23632\\2725205667.py:19: FutureWarning: The frame.append method is deprecated and will be removed from pandas in a future version. Use pandas.concat instead.\n",
      "  df_categories = df_categories.append({'Category': category, 'product_category_name_english': subcategory}, ignore_index=True)\n",
      "C:\\Users\\Fazas\\AppData\\Local\\Temp\\ipykernel_23632\\2725205667.py:19: FutureWarning: The frame.append method is deprecated and will be removed from pandas in a future version. Use pandas.concat instead.\n",
      "  df_categories = df_categories.append({'Category': category, 'product_category_name_english': subcategory}, ignore_index=True)\n",
      "C:\\Users\\Fazas\\AppData\\Local\\Temp\\ipykernel_23632\\2725205667.py:19: FutureWarning: The frame.append method is deprecated and will be removed from pandas in a future version. Use pandas.concat instead.\n",
      "  df_categories = df_categories.append({'Category': category, 'product_category_name_english': subcategory}, ignore_index=True)\n",
      "C:\\Users\\Fazas\\AppData\\Local\\Temp\\ipykernel_23632\\2725205667.py:19: FutureWarning: The frame.append method is deprecated and will be removed from pandas in a future version. Use pandas.concat instead.\n",
      "  df_categories = df_categories.append({'Category': category, 'product_category_name_english': subcategory}, ignore_index=True)\n",
      "C:\\Users\\Fazas\\AppData\\Local\\Temp\\ipykernel_23632\\2725205667.py:19: FutureWarning: The frame.append method is deprecated and will be removed from pandas in a future version. Use pandas.concat instead.\n",
      "  df_categories = df_categories.append({'Category': category, 'product_category_name_english': subcategory}, ignore_index=True)\n",
      "C:\\Users\\Fazas\\AppData\\Local\\Temp\\ipykernel_23632\\2725205667.py:19: FutureWarning: The frame.append method is deprecated and will be removed from pandas in a future version. Use pandas.concat instead.\n",
      "  df_categories = df_categories.append({'Category': category, 'product_category_name_english': subcategory}, ignore_index=True)\n",
      "C:\\Users\\Fazas\\AppData\\Local\\Temp\\ipykernel_23632\\2725205667.py:19: FutureWarning: The frame.append method is deprecated and will be removed from pandas in a future version. Use pandas.concat instead.\n",
      "  df_categories = df_categories.append({'Category': category, 'product_category_name_english': subcategory}, ignore_index=True)\n",
      "C:\\Users\\Fazas\\AppData\\Local\\Temp\\ipykernel_23632\\2725205667.py:19: FutureWarning: The frame.append method is deprecated and will be removed from pandas in a future version. Use pandas.concat instead.\n",
      "  df_categories = df_categories.append({'Category': category, 'product_category_name_english': subcategory}, ignore_index=True)\n",
      "C:\\Users\\Fazas\\AppData\\Local\\Temp\\ipykernel_23632\\2725205667.py:19: FutureWarning: The frame.append method is deprecated and will be removed from pandas in a future version. Use pandas.concat instead.\n",
      "  df_categories = df_categories.append({'Category': category, 'product_category_name_english': subcategory}, ignore_index=True)\n",
      "C:\\Users\\Fazas\\AppData\\Local\\Temp\\ipykernel_23632\\2725205667.py:19: FutureWarning: The frame.append method is deprecated and will be removed from pandas in a future version. Use pandas.concat instead.\n",
      "  df_categories = df_categories.append({'Category': category, 'product_category_name_english': subcategory}, ignore_index=True)\n",
      "C:\\Users\\Fazas\\AppData\\Local\\Temp\\ipykernel_23632\\2725205667.py:19: FutureWarning: The frame.append method is deprecated and will be removed from pandas in a future version. Use pandas.concat instead.\n",
      "  df_categories = df_categories.append({'Category': category, 'product_category_name_english': subcategory}, ignore_index=True)\n",
      "C:\\Users\\Fazas\\AppData\\Local\\Temp\\ipykernel_23632\\2725205667.py:19: FutureWarning: The frame.append method is deprecated and will be removed from pandas in a future version. Use pandas.concat instead.\n",
      "  df_categories = df_categories.append({'Category': category, 'product_category_name_english': subcategory}, ignore_index=True)\n",
      "C:\\Users\\Fazas\\AppData\\Local\\Temp\\ipykernel_23632\\2725205667.py:19: FutureWarning: The frame.append method is deprecated and will be removed from pandas in a future version. Use pandas.concat instead.\n",
      "  df_categories = df_categories.append({'Category': category, 'product_category_name_english': subcategory}, ignore_index=True)\n",
      "C:\\Users\\Fazas\\AppData\\Local\\Temp\\ipykernel_23632\\2725205667.py:19: FutureWarning: The frame.append method is deprecated and will be removed from pandas in a future version. Use pandas.concat instead.\n",
      "  df_categories = df_categories.append({'Category': category, 'product_category_name_english': subcategory}, ignore_index=True)\n",
      "C:\\Users\\Fazas\\AppData\\Local\\Temp\\ipykernel_23632\\2725205667.py:19: FutureWarning: The frame.append method is deprecated and will be removed from pandas in a future version. Use pandas.concat instead.\n",
      "  df_categories = df_categories.append({'Category': category, 'product_category_name_english': subcategory}, ignore_index=True)\n",
      "C:\\Users\\Fazas\\AppData\\Local\\Temp\\ipykernel_23632\\2725205667.py:19: FutureWarning: The frame.append method is deprecated and will be removed from pandas in a future version. Use pandas.concat instead.\n",
      "  df_categories = df_categories.append({'Category': category, 'product_category_name_english': subcategory}, ignore_index=True)\n",
      "C:\\Users\\Fazas\\AppData\\Local\\Temp\\ipykernel_23632\\2725205667.py:19: FutureWarning: The frame.append method is deprecated and will be removed from pandas in a future version. Use pandas.concat instead.\n",
      "  df_categories = df_categories.append({'Category': category, 'product_category_name_english': subcategory}, ignore_index=True)\n",
      "C:\\Users\\Fazas\\AppData\\Local\\Temp\\ipykernel_23632\\2725205667.py:19: FutureWarning: The frame.append method is deprecated and will be removed from pandas in a future version. Use pandas.concat instead.\n",
      "  df_categories = df_categories.append({'Category': category, 'product_category_name_english': subcategory}, ignore_index=True)\n",
      "C:\\Users\\Fazas\\AppData\\Local\\Temp\\ipykernel_23632\\2725205667.py:19: FutureWarning: The frame.append method is deprecated and will be removed from pandas in a future version. Use pandas.concat instead.\n",
      "  df_categories = df_categories.append({'Category': category, 'product_category_name_english': subcategory}, ignore_index=True)\n",
      "C:\\Users\\Fazas\\AppData\\Local\\Temp\\ipykernel_23632\\2725205667.py:19: FutureWarning: The frame.append method is deprecated and will be removed from pandas in a future version. Use pandas.concat instead.\n",
      "  df_categories = df_categories.append({'Category': category, 'product_category_name_english': subcategory}, ignore_index=True)\n",
      "C:\\Users\\Fazas\\AppData\\Local\\Temp\\ipykernel_23632\\2725205667.py:19: FutureWarning: The frame.append method is deprecated and will be removed from pandas in a future version. Use pandas.concat instead.\n",
      "  df_categories = df_categories.append({'Category': category, 'product_category_name_english': subcategory}, ignore_index=True)\n",
      "C:\\Users\\Fazas\\AppData\\Local\\Temp\\ipykernel_23632\\2725205667.py:19: FutureWarning: The frame.append method is deprecated and will be removed from pandas in a future version. Use pandas.concat instead.\n",
      "  df_categories = df_categories.append({'Category': category, 'product_category_name_english': subcategory}, ignore_index=True)\n",
      "C:\\Users\\Fazas\\AppData\\Local\\Temp\\ipykernel_23632\\2725205667.py:19: FutureWarning: The frame.append method is deprecated and will be removed from pandas in a future version. Use pandas.concat instead.\n",
      "  df_categories = df_categories.append({'Category': category, 'product_category_name_english': subcategory}, ignore_index=True)\n",
      "C:\\Users\\Fazas\\AppData\\Local\\Temp\\ipykernel_23632\\2725205667.py:19: FutureWarning: The frame.append method is deprecated and will be removed from pandas in a future version. Use pandas.concat instead.\n",
      "  df_categories = df_categories.append({'Category': category, 'product_category_name_english': subcategory}, ignore_index=True)\n",
      "C:\\Users\\Fazas\\AppData\\Local\\Temp\\ipykernel_23632\\2725205667.py:19: FutureWarning: The frame.append method is deprecated and will be removed from pandas in a future version. Use pandas.concat instead.\n",
      "  df_categories = df_categories.append({'Category': category, 'product_category_name_english': subcategory}, ignore_index=True)\n",
      "C:\\Users\\Fazas\\AppData\\Local\\Temp\\ipykernel_23632\\2725205667.py:19: FutureWarning: The frame.append method is deprecated and will be removed from pandas in a future version. Use pandas.concat instead.\n",
      "  df_categories = df_categories.append({'Category': category, 'product_category_name_english': subcategory}, ignore_index=True)\n"
     ]
    },
    {
     "data": {
      "text/html": [
       "<div>\n",
       "<style scoped>\n",
       "    .dataframe tbody tr th:only-of-type {\n",
       "        vertical-align: middle;\n",
       "    }\n",
       "\n",
       "    .dataframe tbody tr th {\n",
       "        vertical-align: top;\n",
       "    }\n",
       "\n",
       "    .dataframe thead th {\n",
       "        text-align: right;\n",
       "    }\n",
       "</style>\n",
       "<table border=\"1\" class=\"dataframe\">\n",
       "  <thead>\n",
       "    <tr style=\"text-align: right;\">\n",
       "      <th></th>\n",
       "      <th>Category</th>\n",
       "      <th>product_category_name_english</th>\n",
       "    </tr>\n",
       "  </thead>\n",
       "  <tbody>\n",
       "    <tr>\n",
       "      <th>0</th>\n",
       "      <td>Clothing &amp; Apparel</td>\n",
       "      <td>fashion_shoes</td>\n",
       "    </tr>\n",
       "    <tr>\n",
       "      <th>1</th>\n",
       "      <td>Clothing &amp; Apparel</td>\n",
       "      <td>fashion_bags_accessories</td>\n",
       "    </tr>\n",
       "    <tr>\n",
       "      <th>2</th>\n",
       "      <td>Clothing &amp; Apparel</td>\n",
       "      <td>baby</td>\n",
       "    </tr>\n",
       "    <tr>\n",
       "      <th>3</th>\n",
       "      <td>Clothing &amp; Apparel</td>\n",
       "      <td>fashion_male_clothing</td>\n",
       "    </tr>\n",
       "    <tr>\n",
       "      <th>4</th>\n",
       "      <td>Clothing &amp; Apparel</td>\n",
       "      <td>fashio_female_clothing</td>\n",
       "    </tr>\n",
       "    <tr>\n",
       "      <th>...</th>\n",
       "      <td>...</td>\n",
       "      <td>...</td>\n",
       "    </tr>\n",
       "    <tr>\n",
       "      <th>65</th>\n",
       "      <td>Other</td>\n",
       "      <td>pet_shop</td>\n",
       "    </tr>\n",
       "    <tr>\n",
       "      <th>66</th>\n",
       "      <td>Other</td>\n",
       "      <td>security_and_services</td>\n",
       "    </tr>\n",
       "    <tr>\n",
       "      <th>67</th>\n",
       "      <td>Other</td>\n",
       "      <td>luggage_accessories</td>\n",
       "    </tr>\n",
       "    <tr>\n",
       "      <th>68</th>\n",
       "      <td>Other</td>\n",
       "      <td>signaling_and_security</td>\n",
       "    </tr>\n",
       "    <tr>\n",
       "      <th>69</th>\n",
       "      <td>Other</td>\n",
       "      <td>market_place</td>\n",
       "    </tr>\n",
       "  </tbody>\n",
       "</table>\n",
       "<p>70 rows × 2 columns</p>\n",
       "</div>"
      ],
      "text/plain": [
       "              Category product_category_name_english\n",
       "0   Clothing & Apparel                 fashion_shoes\n",
       "1   Clothing & Apparel      fashion_bags_accessories\n",
       "2   Clothing & Apparel                          baby\n",
       "3   Clothing & Apparel         fashion_male_clothing\n",
       "4   Clothing & Apparel        fashio_female_clothing\n",
       "..                 ...                           ...\n",
       "65               Other                      pet_shop\n",
       "66               Other         security_and_services\n",
       "67               Other           luggage_accessories\n",
       "68               Other        signaling_and_security\n",
       "69               Other                  market_place\n",
       "\n",
       "[70 rows x 2 columns]"
      ]
     },
     "execution_count": 44,
     "metadata": {},
     "output_type": "execute_result"
    }
   ],
   "source": [
    "# Simplifikasi Kategori\n",
    "category_dict = {\n",
    "    'Clothing & Apparel': ['fashion_shoes', 'fashion_bags_accessories', 'baby', 'fashion_male_clothing', 'fashio_female_clothing', 'fashion_underwear_beach', 'fashion_childrens_clothes'],\n",
    "    'Electronics & Gadgets': ['computers_accessories', 'watches_gifts', 'musical_instruments', 'electronics', 'audio', 'tablets_printing_image', 'computers', 'fixed_telephony', 'cds_dvds_musicals', 'air_conditioning'],\n",
    "    'Games & Toys / Entertainment': ['toys', 'consoles_games', 'music','cool_stuff', 'cine_photo', 'dvds_blu_ray', 'party_supplies', 'christmas_supplies'],\n",
    "    'Health and Beauty': ['perfumery', 'health_beauty', 'diapers_and_hygiene'],\n",
    "    'Stationery': ['stationery','industry_commerce_and_business', 'books_general_interest', 'books_technical', 'books_imported', 'arts_and_craftmanship', 'art'],\n",
    "    'Hand & Power Tools': ['costruction_tools_garden', 'garden_tools', 'costruction_tools_tools', 'construction_tools_lights', 'construction_tools_safety', 'construction_tools_construction'],\n",
    "    'Food and Beverages': ['food', 'drinks', 'food_drink', 'agro_industry_and_commerce', 'la_cuisine'],\n",
    "    'Furniture': ['housewares', 'bed_bath_table', 'furniture_decor', 'flowers', 'office_furniture', 'furniture_bedroom', 'furniture_living_room', 'furniture_mattress_and_upholstery', 'home_comfort_2', 'kitchen_dining_laundry_garden_furniture', 'home_confort',  'home_construction', 'home_appliances', 'home_appliances_2', 'small_appliances','small_appliances_home_oven_and_coffee'],\n",
    "    'Sports Products': ['sports_leisure', 'fashion_sport', 'auto'],\n",
    "    'Other': ['pet_shop', 'security_and_services', 'luggage_accessories', 'signaling_and_security', 'market_place']\n",
    "}\n",
    "\n",
    "df_categories = pd.DataFrame(columns=['Category', 'product_category_name_english'])\n",
    "\n",
    "for category, subcategories in category_dict.items():\n",
    "    for subcategory in subcategories:\n",
    "        df_categories = df_categories.append({'Category': category, 'product_category_name_english': subcategory}, ignore_index=True)\n",
    "\n",
    "df_categories"
   ]
  },
  {
   "cell_type": "code",
   "execution_count": 45,
   "id": "4faf9c47",
   "metadata": {
    "ExecuteTime": {
     "end_time": "2023-05-08T06:47:23.861776Z",
     "start_time": "2023-05-08T06:47:23.581372Z"
    },
    "id": "4faf9c47"
   },
   "outputs": [],
   "source": [
    "# Merge Simplifikasi tersebut\n",
    "df = df.merge(df_categories, on='product_category_name_english', how='inner')\n",
    "df = df.drop(columns='product_category_name')"
   ]
  },
  {
   "cell_type": "code",
   "execution_count": 46,
   "id": "b23577df",
   "metadata": {
    "ExecuteTime": {
     "end_time": "2023-05-08T06:47:23.877158Z",
     "start_time": "2023-05-08T06:47:23.864210Z"
    },
    "id": "b23577df"
   },
   "outputs": [],
   "source": [
    "df.rename(columns={'product_category_name_english' : 'subcategory'}, inplace=True)"
   ]
  },
  {
   "cell_type": "code",
   "execution_count": 47,
   "id": "c3053b89",
   "metadata": {
    "ExecuteTime": {
     "end_time": "2023-05-08T06:47:24.381900Z",
     "start_time": "2023-05-08T06:47:23.881148Z"
    },
    "id": "c3053b89",
    "outputId": "822a7ed9-86e3-4332-86ac-374813ba4562",
    "scrolled": false
   },
   "outputs": [
    {
     "name": "stdout",
     "output_type": "stream",
     "text": [
      "<class 'pandas.core.frame.DataFrame'>\n",
      "Int64Index: 108615 entries, 0 to 108614\n",
      "Data columns (total 38 columns):\n",
      " #   Column                         Non-Null Count   Dtype  \n",
      "---  ------                         --------------   -----  \n",
      " 0   customer_id                    108615 non-null  object \n",
      " 1   customer_unique_id             108615 non-null  object \n",
      " 2   customer_zip_code_prefix       108615 non-null  int64  \n",
      " 3   customer_city                  108615 non-null  object \n",
      " 4   customer_state                 108615 non-null  object \n",
      " 5   order_id                       108615 non-null  object \n",
      " 6   order_status                   108615 non-null  object \n",
      " 7   order_purchase_timestamp       108615 non-null  object \n",
      " 8   order_approved_at              108615 non-null  object \n",
      " 9   order_delivered_carrier_date   108615 non-null  object \n",
      " 10  order_delivered_customer_date  108615 non-null  object \n",
      " 11  order_estimated_delivery_date  108615 non-null  object \n",
      " 12  review_id                      108615 non-null  object \n",
      " 13  review_score                   108615 non-null  int64  \n",
      " 14  review_creation_date           108615 non-null  object \n",
      " 15  review_answer_timestamp        108615 non-null  object \n",
      " 16  order_item_id                  108615 non-null  int64  \n",
      " 17  product_id                     108615 non-null  object \n",
      " 18  seller_id                      108615 non-null  object \n",
      " 19  shipping_limit_date            108615 non-null  object \n",
      " 20  price                          108615 non-null  float64\n",
      " 21  freight_value                  108615 non-null  float64\n",
      " 22  product_name_lenght            108615 non-null  float64\n",
      " 23  product_description_lenght     108615 non-null  float64\n",
      " 24  product_photos_qty             108615 non-null  float64\n",
      " 25  product_weight_g               108615 non-null  float64\n",
      " 26  product_length_cm              108615 non-null  float64\n",
      " 27  product_height_cm              108615 non-null  float64\n",
      " 28  product_width_cm               108615 non-null  float64\n",
      " 29  payment_sequential             108615 non-null  int64  \n",
      " 30  payment_type                   108615 non-null  object \n",
      " 31  payment_installments           108615 non-null  int64  \n",
      " 32  payment_value                  108615 non-null  float64\n",
      " 33  seller_zip_code_prefix         108615 non-null  int64  \n",
      " 34  seller_city                    108615 non-null  object \n",
      " 35  seller_state                   108615 non-null  object \n",
      " 36  subcategory                    108615 non-null  object \n",
      " 37  Category                       108615 non-null  object \n",
      "dtypes: float64(10), int64(6), object(22)\n",
      "memory usage: 32.3+ MB\n"
     ]
    }
   ],
   "source": [
    "df.info()"
   ]
  },
  {
   "attachments": {},
   "cell_type": "markdown",
   "id": "6147381f",
   "metadata": {
    "id": "6147381f"
   },
   "source": [
    "### Save merge.csv"
   ]
  },
  {
   "cell_type": "code",
   "execution_count": 48,
   "id": "970abc77",
   "metadata": {
    "ExecuteTime": {
     "end_time": "2023-05-08T06:47:27.213758Z",
     "start_time": "2023-05-08T06:47:24.385888Z"
    },
    "id": "970abc77"
   },
   "outputs": [],
   "source": [
    "df.to_csv('1. merge.csv', index=False)"
   ]
  },
  {
   "attachments": {},
   "cell_type": "markdown",
   "id": "bc873732",
   "metadata": {
    "id": "bc873732"
   },
   "source": [
    "**Lanjut Ke Part Selanjutnya: 2. Explanatory Data Analysis (EDA)**"
   ]
  }
 ],
 "metadata": {
  "colab": {
   "provenance": []
  },
  "kernelspec": {
   "display_name": "Python 3 (ipykernel)",
   "language": "python",
   "name": "python3"
  },
  "language_info": {
   "codemirror_mode": {
    "name": "ipython",
    "version": 3
   },
   "file_extension": ".py",
   "mimetype": "text/x-python",
   "name": "python",
   "nbconvert_exporter": "python",
   "pygments_lexer": "ipython3",
   "version": "3.9.16"
  },
  "varInspector": {
   "cols": {
    "lenName": 16,
    "lenType": 16,
    "lenVar": 40
   },
   "kernels_config": {
    "python": {
     "delete_cmd_postfix": "",
     "delete_cmd_prefix": "del ",
     "library": "var_list.py",
     "varRefreshCmd": "print(var_dic_list())"
    },
    "r": {
     "delete_cmd_postfix": ") ",
     "delete_cmd_prefix": "rm(",
     "library": "var_list.r",
     "varRefreshCmd": "cat(var_dic_list()) "
    }
   },
   "types_to_exclude": [
    "module",
    "function",
    "builtin_function_or_method",
    "instance",
    "_Feature"
   ],
   "window_display": false
  }
 },
 "nbformat": 4,
 "nbformat_minor": 5
}
